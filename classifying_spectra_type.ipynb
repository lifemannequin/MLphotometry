{
 "cells": [
  {
   "cell_type": "markdown",
   "metadata": {},
   "source": [
    "# Classifying Spectral types\n",
    "\n",
    "## Introduction\n",
    "\n",
    "Initially, classifying the spectra using ML was more for fun than for a purpose. But on the light of my other notebook on determining the redshifts using ML, classification of spectal types could help reduce the errors on the determining the redshifts using photometry.\n",
    "\n",
    "The data was obtained using the skyserver from the Sloan Digital Sky Survey (SDSS) using the SQL query. In the SQL query, I specified for no missing values of the redshift or the five bands (u,g,r,i,z). Also the dered values were obtained to account for galactic extinction. For each spectral class (star, galaxy and QSO), 5000 sources were obtained; giving a total of 15000 sources."
   ]
  },
  {
   "cell_type": "code",
   "execution_count": 1,
   "metadata": {},
   "outputs": [],
   "source": [
    "import os\n",
    "import numpy as np\n",
    "import pandas as pd\n",
    "from pandas.plotting import table\n",
    "import seaborn as sns\n",
    "import matplotlib.pyplot as plt\n",
    "from scipy import stats\n",
    "sns.set()\n",
    "%matplotlib inline"
   ]
  },
  {
   "cell_type": "code",
   "execution_count": 2,
   "metadata": {
    "scrolled": true
   },
   "outputs": [
    {
     "data": {
      "text/html": [
       "<div>\n",
       "<style scoped>\n",
       "    .dataframe tbody tr th:only-of-type {\n",
       "        vertical-align: middle;\n",
       "    }\n",
       "\n",
       "    .dataframe tbody tr th {\n",
       "        vertical-align: top;\n",
       "    }\n",
       "\n",
       "    .dataframe thead th {\n",
       "        text-align: right;\n",
       "    }\n",
       "</style>\n",
       "<table border=\"1\" class=\"dataframe\">\n",
       "  <thead>\n",
       "    <tr style=\"text-align: right;\">\n",
       "      <th></th>\n",
       "      <th>#objID</th>\n",
       "      <th>type</th>\n",
       "      <th>dered_u</th>\n",
       "      <th>err_u</th>\n",
       "      <th>dered_g</th>\n",
       "      <th>err_g</th>\n",
       "      <th>dered_r</th>\n",
       "      <th>err_r</th>\n",
       "      <th>dered_i</th>\n",
       "      <th>err_i</th>\n",
       "      <th>dered_z</th>\n",
       "      <th>err_z</th>\n",
       "      <th>specObjID</th>\n",
       "      <th>z</th>\n",
       "      <th>zErr</th>\n",
       "      <th>photoZ</th>\n",
       "      <th>photoErr</th>\n",
       "      <th>zWarning</th>\n",
       "      <th>class</th>\n",
       "      <th>subClass</th>\n",
       "    </tr>\n",
       "  </thead>\n",
       "  <tbody>\n",
       "    <tr>\n",
       "      <th>0</th>\n",
       "      <td>1237648703511068760</td>\n",
       "      <td>3</td>\n",
       "      <td>18.77188</td>\n",
       "      <td>0.018979</td>\n",
       "      <td>17.43419</td>\n",
       "      <td>0.004775</td>\n",
       "      <td>16.93682</td>\n",
       "      <td>0.004398</td>\n",
       "      <td>16.76784</td>\n",
       "      <td>0.004519</td>\n",
       "      <td>16.69084</td>\n",
       "      <td>0.009132</td>\n",
       "      <td>334462399065122816</td>\n",
       "      <td>0.000273</td>\n",
       "      <td>0.000010</td>\n",
       "      <td>0.028731</td>\n",
       "      <td>0.012854</td>\n",
       "      <td>0</td>\n",
       "      <td>STAR</td>\n",
       "      <td>F9</td>\n",
       "    </tr>\n",
       "    <tr>\n",
       "      <th>1</th>\n",
       "      <td>1237648703511068760</td>\n",
       "      <td>3</td>\n",
       "      <td>18.77188</td>\n",
       "      <td>0.018979</td>\n",
       "      <td>17.43419</td>\n",
       "      <td>0.004775</td>\n",
       "      <td>16.93682</td>\n",
       "      <td>0.004398</td>\n",
       "      <td>16.76784</td>\n",
       "      <td>0.004519</td>\n",
       "      <td>16.69084</td>\n",
       "      <td>0.009132</td>\n",
       "      <td>334463218732787712</td>\n",
       "      <td>0.000268</td>\n",
       "      <td>0.000012</td>\n",
       "      <td>0.028731</td>\n",
       "      <td>0.012854</td>\n",
       "      <td>0</td>\n",
       "      <td>STAR</td>\n",
       "      <td>F9</td>\n",
       "    </tr>\n",
       "    <tr>\n",
       "      <th>2</th>\n",
       "      <td>1237650761850290262</td>\n",
       "      <td>3</td>\n",
       "      <td>20.95792</td>\n",
       "      <td>0.113500</td>\n",
       "      <td>18.33668</td>\n",
       "      <td>0.007373</td>\n",
       "      <td>16.96131</td>\n",
       "      <td>0.004531</td>\n",
       "      <td>16.33501</td>\n",
       "      <td>0.004110</td>\n",
       "      <td>15.97918</td>\n",
       "      <td>0.007425</td>\n",
       "      <td>368266889681463296</td>\n",
       "      <td>0.000002</td>\n",
       "      <td>0.000009</td>\n",
       "      <td>0.205829</td>\n",
       "      <td>0.021877</td>\n",
       "      <td>0</td>\n",
       "      <td>STAR</td>\n",
       "      <td>M0</td>\n",
       "    </tr>\n",
       "    <tr>\n",
       "      <th>3</th>\n",
       "      <td>1237648705678147694</td>\n",
       "      <td>3</td>\n",
       "      <td>17.76817</td>\n",
       "      <td>0.012322</td>\n",
       "      <td>16.35608</td>\n",
       "      <td>0.003747</td>\n",
       "      <td>15.82515</td>\n",
       "      <td>0.003405</td>\n",
       "      <td>15.65219</td>\n",
       "      <td>0.003503</td>\n",
       "      <td>15.55778</td>\n",
       "      <td>0.005531</td>\n",
       "      <td>409929854226556928</td>\n",
       "      <td>0.000027</td>\n",
       "      <td>0.000007</td>\n",
       "      <td>0.024064</td>\n",
       "      <td>0.008734</td>\n",
       "      <td>0</td>\n",
       "      <td>STAR</td>\n",
       "      <td>F9</td>\n",
       "    </tr>\n",
       "    <tr>\n",
       "      <th>4</th>\n",
       "      <td>1237648705130987618</td>\n",
       "      <td>3</td>\n",
       "      <td>19.09714</td>\n",
       "      <td>0.034568</td>\n",
       "      <td>17.45125</td>\n",
       "      <td>0.006773</td>\n",
       "      <td>17.63474</td>\n",
       "      <td>0.006646</td>\n",
       "      <td>24.28417</td>\n",
       "      <td>3.215709</td>\n",
       "      <td>17.99097</td>\n",
       "      <td>0.034200</td>\n",
       "      <td>604619828854024192</td>\n",
       "      <td>-0.000010</td>\n",
       "      <td>0.000010</td>\n",
       "      <td>-9999.000000</td>\n",
       "      <td>-9999.000000</td>\n",
       "      <td>0</td>\n",
       "      <td>STAR</td>\n",
       "      <td>F9</td>\n",
       "    </tr>\n",
       "  </tbody>\n",
       "</table>\n",
       "</div>"
      ],
      "text/plain": [
       "                #objID  type   dered_u     err_u   dered_g     err_g  \\\n",
       "0  1237648703511068760     3  18.77188  0.018979  17.43419  0.004775   \n",
       "1  1237648703511068760     3  18.77188  0.018979  17.43419  0.004775   \n",
       "2  1237650761850290262     3  20.95792  0.113500  18.33668  0.007373   \n",
       "3  1237648705678147694     3  17.76817  0.012322  16.35608  0.003747   \n",
       "4  1237648705130987618     3  19.09714  0.034568  17.45125  0.006773   \n",
       "\n",
       "    dered_r     err_r   dered_i     err_i   dered_z     err_z  \\\n",
       "0  16.93682  0.004398  16.76784  0.004519  16.69084  0.009132   \n",
       "1  16.93682  0.004398  16.76784  0.004519  16.69084  0.009132   \n",
       "2  16.96131  0.004531  16.33501  0.004110  15.97918  0.007425   \n",
       "3  15.82515  0.003405  15.65219  0.003503  15.55778  0.005531   \n",
       "4  17.63474  0.006646  24.28417  3.215709  17.99097  0.034200   \n",
       "\n",
       "            specObjID         z      zErr       photoZ     photoErr  zWarning  \\\n",
       "0  334462399065122816  0.000273  0.000010     0.028731     0.012854         0   \n",
       "1  334463218732787712  0.000268  0.000012     0.028731     0.012854         0   \n",
       "2  368266889681463296  0.000002  0.000009     0.205829     0.021877         0   \n",
       "3  409929854226556928  0.000027  0.000007     0.024064     0.008734         0   \n",
       "4  604619828854024192 -0.000010  0.000010 -9999.000000 -9999.000000         0   \n",
       "\n",
       "  class subClass  \n",
       "0  STAR       F9  \n",
       "1  STAR       F9  \n",
       "2  STAR       M0  \n",
       "3  STAR       F9  \n",
       "4  STAR       F9  "
      ]
     },
     "execution_count": 2,
     "metadata": {},
     "output_type": "execute_result"
    }
   ],
   "source": [
    "filepath= \"/home/veroastro/Documents/spectraTypes/data/\"\n",
    "star = pd.read_csv(filepath+\"STAR2_Skyserver_SQL2_12_2022 5_02_48 PM.csv\")\n",
    "QSO = pd.read_csv(filepath+\"QSO2Skyserver_SQL2_12_2022 5_03_49 PM.csv\")\n",
    "galaxy = pd.read_csv(filepath+\"GALAXY2Skyserver_SQL2_12_2022 5_03_24 PM.csv\")\n",
    "star.head()"
   ]
  },
  {
   "cell_type": "code",
   "execution_count": 3,
   "metadata": {},
   "outputs": [
    {
     "data": {
      "text/html": [
       "<div>\n",
       "<style scoped>\n",
       "    .dataframe tbody tr th:only-of-type {\n",
       "        vertical-align: middle;\n",
       "    }\n",
       "\n",
       "    .dataframe tbody tr th {\n",
       "        vertical-align: top;\n",
       "    }\n",
       "\n",
       "    .dataframe thead th {\n",
       "        text-align: right;\n",
       "    }\n",
       "</style>\n",
       "<table border=\"1\" class=\"dataframe\">\n",
       "  <thead>\n",
       "    <tr style=\"text-align: right;\">\n",
       "      <th></th>\n",
       "      <th>#objID</th>\n",
       "      <th>type</th>\n",
       "      <th>dered_u</th>\n",
       "      <th>err_u</th>\n",
       "      <th>dered_g</th>\n",
       "      <th>err_g</th>\n",
       "      <th>dered_r</th>\n",
       "      <th>err_r</th>\n",
       "      <th>dered_i</th>\n",
       "      <th>err_i</th>\n",
       "      <th>dered_z</th>\n",
       "      <th>err_z</th>\n",
       "      <th>specObjID</th>\n",
       "      <th>z</th>\n",
       "      <th>zErr</th>\n",
       "      <th>photoZ</th>\n",
       "      <th>photoErr</th>\n",
       "      <th>zWarning</th>\n",
       "      <th>class</th>\n",
       "      <th>subClass</th>\n",
       "    </tr>\n",
       "  </thead>\n",
       "  <tbody>\n",
       "    <tr>\n",
       "      <th>538</th>\n",
       "      <td>1237654671351152822</td>\n",
       "      <td>3</td>\n",
       "      <td>19.70745</td>\n",
       "      <td>0.048919</td>\n",
       "      <td>19.24226</td>\n",
       "      <td>0.013629</td>\n",
       "      <td>18.66197</td>\n",
       "      <td>0.011439</td>\n",
       "      <td>18.22666</td>\n",
       "      <td>0.012101</td>\n",
       "      <td>18.11052</td>\n",
       "      <td>0.036130</td>\n",
       "      <td>309744002461100032</td>\n",
       "      <td>0.149591</td>\n",
       "      <td>0.000059</td>\n",
       "      <td>0.192074</td>\n",
       "      <td>0.026946</td>\n",
       "      <td>0</td>\n",
       "      <td>QSO</td>\n",
       "      <td>STARBURST BROADLINE</td>\n",
       "    </tr>\n",
       "    <tr>\n",
       "      <th>718</th>\n",
       "      <td>1237656496171188688</td>\n",
       "      <td>3</td>\n",
       "      <td>21.33692</td>\n",
       "      <td>0.172330</td>\n",
       "      <td>18.74613</td>\n",
       "      <td>0.010589</td>\n",
       "      <td>17.30910</td>\n",
       "      <td>0.005511</td>\n",
       "      <td>16.30555</td>\n",
       "      <td>0.004482</td>\n",
       "      <td>15.74324</td>\n",
       "      <td>0.006521</td>\n",
       "      <td>823130729708808192</td>\n",
       "      <td>0.000092</td>\n",
       "      <td>0.000012</td>\n",
       "      <td>0.180980</td>\n",
       "      <td>0.184211</td>\n",
       "      <td>0</td>\n",
       "      <td>STAR</td>\n",
       "      <td>M2</td>\n",
       "    </tr>\n",
       "    <tr>\n",
       "      <th>4314</th>\n",
       "      <td>1237654653637034152</td>\n",
       "      <td>3</td>\n",
       "      <td>19.36417</td>\n",
       "      <td>0.028046</td>\n",
       "      <td>17.18660</td>\n",
       "      <td>0.004480</td>\n",
       "      <td>16.23769</td>\n",
       "      <td>0.003811</td>\n",
       "      <td>15.90543</td>\n",
       "      <td>0.003846</td>\n",
       "      <td>15.74041</td>\n",
       "      <td>0.005890</td>\n",
       "      <td>855774127137515520</td>\n",
       "      <td>-0.000048</td>\n",
       "      <td>0.000008</td>\n",
       "      <td>0.079918</td>\n",
       "      <td>0.023979</td>\n",
       "      <td>0</td>\n",
       "      <td>STAR</td>\n",
       "      <td>K5</td>\n",
       "    </tr>\n",
       "    <tr>\n",
       "      <th>1326</th>\n",
       "      <td>1237648721217716396</td>\n",
       "      <td>3</td>\n",
       "      <td>18.89244</td>\n",
       "      <td>0.075014</td>\n",
       "      <td>17.47259</td>\n",
       "      <td>0.006709</td>\n",
       "      <td>16.75852</td>\n",
       "      <td>0.005064</td>\n",
       "      <td>16.35987</td>\n",
       "      <td>0.005203</td>\n",
       "      <td>16.07525</td>\n",
       "      <td>0.013602</td>\n",
       "      <td>301773638024062976</td>\n",
       "      <td>0.094920</td>\n",
       "      <td>0.000013</td>\n",
       "      <td>0.090102</td>\n",
       "      <td>0.020278</td>\n",
       "      <td>0</td>\n",
       "      <td>GALAXY</td>\n",
       "      <td>NaN</td>\n",
       "    </tr>\n",
       "    <tr>\n",
       "      <th>547</th>\n",
       "      <td>1237674648847515825</td>\n",
       "      <td>3</td>\n",
       "      <td>19.61124</td>\n",
       "      <td>0.082275</td>\n",
       "      <td>17.73792</td>\n",
       "      <td>0.008349</td>\n",
       "      <td>16.73560</td>\n",
       "      <td>0.005369</td>\n",
       "      <td>16.23137</td>\n",
       "      <td>0.005081</td>\n",
       "      <td>15.86106</td>\n",
       "      <td>0.010768</td>\n",
       "      <td>310806130676754432</td>\n",
       "      <td>0.126562</td>\n",
       "      <td>0.000020</td>\n",
       "      <td>0.111154</td>\n",
       "      <td>0.018994</td>\n",
       "      <td>0</td>\n",
       "      <td>GALAXY</td>\n",
       "      <td>NaN</td>\n",
       "    </tr>\n",
       "  </tbody>\n",
       "</table>\n",
       "</div>"
      ],
      "text/plain": [
       "                   #objID  type   dered_u     err_u   dered_g     err_g  \\\n",
       "538   1237654671351152822     3  19.70745  0.048919  19.24226  0.013629   \n",
       "718   1237656496171188688     3  21.33692  0.172330  18.74613  0.010589   \n",
       "4314  1237654653637034152     3  19.36417  0.028046  17.18660  0.004480   \n",
       "1326  1237648721217716396     3  18.89244  0.075014  17.47259  0.006709   \n",
       "547   1237674648847515825     3  19.61124  0.082275  17.73792  0.008349   \n",
       "\n",
       "       dered_r     err_r   dered_i     err_i   dered_z     err_z  \\\n",
       "538   18.66197  0.011439  18.22666  0.012101  18.11052  0.036130   \n",
       "718   17.30910  0.005511  16.30555  0.004482  15.74324  0.006521   \n",
       "4314  16.23769  0.003811  15.90543  0.003846  15.74041  0.005890   \n",
       "1326  16.75852  0.005064  16.35987  0.005203  16.07525  0.013602   \n",
       "547   16.73560  0.005369  16.23137  0.005081  15.86106  0.010768   \n",
       "\n",
       "               specObjID         z      zErr    photoZ  photoErr  zWarning  \\\n",
       "538   309744002461100032  0.149591  0.000059  0.192074  0.026946         0   \n",
       "718   823130729708808192  0.000092  0.000012  0.180980  0.184211         0   \n",
       "4314  855774127137515520 -0.000048  0.000008  0.079918  0.023979         0   \n",
       "1326  301773638024062976  0.094920  0.000013  0.090102  0.020278         0   \n",
       "547   310806130676754432  0.126562  0.000020  0.111154  0.018994         0   \n",
       "\n",
       "       class             subClass  \n",
       "538      QSO  STARBURST BROADLINE  \n",
       "718     STAR                   M2  \n",
       "4314    STAR                   K5  \n",
       "1326  GALAXY                  NaN  \n",
       "547   GALAXY                  NaN  "
      ]
     },
     "execution_count": 3,
     "metadata": {},
     "output_type": "execute_result"
    }
   ],
   "source": [
    "# Concatenating the three dataframes\n",
    "data = pd.concat([star, QSO, galaxy])\n",
    "#scrambling the data so that they are not ordered by class\n",
    "data = data.sample(frac=1)\n",
    "data.head()"
   ]
  },
  {
   "cell_type": "code",
   "execution_count": 4,
   "metadata": {},
   "outputs": [
    {
     "data": {
      "text/plain": [
       "(15000, 20)"
      ]
     },
     "execution_count": 4,
     "metadata": {},
     "output_type": "execute_result"
    }
   ],
   "source": [
    "data.shape"
   ]
  },
  {
   "cell_type": "code",
   "execution_count": 5,
   "metadata": {},
   "outputs": [
    {
     "data": {
      "text/plain": [
       "(15000, 17)"
      ]
     },
     "execution_count": 5,
     "metadata": {},
     "output_type": "execute_result"
    }
   ],
   "source": [
    "cols= ['zWarning','specObjID','#objID']\n",
    "data_clean = data.drop(columns=['zWarning','specObjID','#objID'])\n",
    "data_clean.shape"
   ]
  },
  {
   "cell_type": "code",
   "execution_count": 6,
   "metadata": {},
   "outputs": [
    {
     "data": {
      "text/html": [
       "<div>\n",
       "<style scoped>\n",
       "    .dataframe tbody tr th:only-of-type {\n",
       "        vertical-align: middle;\n",
       "    }\n",
       "\n",
       "    .dataframe tbody tr th {\n",
       "        vertical-align: top;\n",
       "    }\n",
       "\n",
       "    .dataframe thead th {\n",
       "        text-align: right;\n",
       "    }\n",
       "</style>\n",
       "<table border=\"1\" class=\"dataframe\">\n",
       "  <thead>\n",
       "    <tr style=\"text-align: right;\">\n",
       "      <th></th>\n",
       "      <th>type</th>\n",
       "      <th>dered_u</th>\n",
       "      <th>err_u</th>\n",
       "      <th>dered_g</th>\n",
       "      <th>err_g</th>\n",
       "      <th>dered_r</th>\n",
       "      <th>err_r</th>\n",
       "      <th>dered_i</th>\n",
       "      <th>err_i</th>\n",
       "      <th>dered_z</th>\n",
       "      <th>err_z</th>\n",
       "      <th>z</th>\n",
       "      <th>zErr</th>\n",
       "      <th>photoZ</th>\n",
       "      <th>photoErr</th>\n",
       "      <th>class</th>\n",
       "      <th>subClass</th>\n",
       "    </tr>\n",
       "  </thead>\n",
       "  <tbody>\n",
       "    <tr>\n",
       "      <th>538</th>\n",
       "      <td>3</td>\n",
       "      <td>19.70745</td>\n",
       "      <td>0.048919</td>\n",
       "      <td>19.24226</td>\n",
       "      <td>0.013629</td>\n",
       "      <td>18.66197</td>\n",
       "      <td>0.011439</td>\n",
       "      <td>18.22666</td>\n",
       "      <td>0.012101</td>\n",
       "      <td>18.11052</td>\n",
       "      <td>0.036130</td>\n",
       "      <td>0.149591</td>\n",
       "      <td>0.000059</td>\n",
       "      <td>0.192074</td>\n",
       "      <td>0.026946</td>\n",
       "      <td>QSO</td>\n",
       "      <td>STARBURST BROADLINE</td>\n",
       "    </tr>\n",
       "    <tr>\n",
       "      <th>718</th>\n",
       "      <td>3</td>\n",
       "      <td>21.33692</td>\n",
       "      <td>0.172330</td>\n",
       "      <td>18.74613</td>\n",
       "      <td>0.010589</td>\n",
       "      <td>17.30910</td>\n",
       "      <td>0.005511</td>\n",
       "      <td>16.30555</td>\n",
       "      <td>0.004482</td>\n",
       "      <td>15.74324</td>\n",
       "      <td>0.006521</td>\n",
       "      <td>0.000092</td>\n",
       "      <td>0.000012</td>\n",
       "      <td>0.180980</td>\n",
       "      <td>0.184211</td>\n",
       "      <td>STAR</td>\n",
       "      <td>M2</td>\n",
       "    </tr>\n",
       "    <tr>\n",
       "      <th>4314</th>\n",
       "      <td>3</td>\n",
       "      <td>19.36417</td>\n",
       "      <td>0.028046</td>\n",
       "      <td>17.18660</td>\n",
       "      <td>0.004480</td>\n",
       "      <td>16.23769</td>\n",
       "      <td>0.003811</td>\n",
       "      <td>15.90543</td>\n",
       "      <td>0.003846</td>\n",
       "      <td>15.74041</td>\n",
       "      <td>0.005890</td>\n",
       "      <td>-0.000048</td>\n",
       "      <td>0.000008</td>\n",
       "      <td>0.079918</td>\n",
       "      <td>0.023979</td>\n",
       "      <td>STAR</td>\n",
       "      <td>K5</td>\n",
       "    </tr>\n",
       "    <tr>\n",
       "      <th>1326</th>\n",
       "      <td>3</td>\n",
       "      <td>18.89244</td>\n",
       "      <td>0.075014</td>\n",
       "      <td>17.47259</td>\n",
       "      <td>0.006709</td>\n",
       "      <td>16.75852</td>\n",
       "      <td>0.005064</td>\n",
       "      <td>16.35987</td>\n",
       "      <td>0.005203</td>\n",
       "      <td>16.07525</td>\n",
       "      <td>0.013602</td>\n",
       "      <td>0.094920</td>\n",
       "      <td>0.000013</td>\n",
       "      <td>0.090102</td>\n",
       "      <td>0.020278</td>\n",
       "      <td>GALAXY</td>\n",
       "      <td>NaN</td>\n",
       "    </tr>\n",
       "    <tr>\n",
       "      <th>547</th>\n",
       "      <td>3</td>\n",
       "      <td>19.61124</td>\n",
       "      <td>0.082275</td>\n",
       "      <td>17.73792</td>\n",
       "      <td>0.008349</td>\n",
       "      <td>16.73560</td>\n",
       "      <td>0.005369</td>\n",
       "      <td>16.23137</td>\n",
       "      <td>0.005081</td>\n",
       "      <td>15.86106</td>\n",
       "      <td>0.010768</td>\n",
       "      <td>0.126562</td>\n",
       "      <td>0.000020</td>\n",
       "      <td>0.111154</td>\n",
       "      <td>0.018994</td>\n",
       "      <td>GALAXY</td>\n",
       "      <td>NaN</td>\n",
       "    </tr>\n",
       "  </tbody>\n",
       "</table>\n",
       "</div>"
      ],
      "text/plain": [
       "      type   dered_u     err_u   dered_g     err_g   dered_r     err_r  \\\n",
       "538      3  19.70745  0.048919  19.24226  0.013629  18.66197  0.011439   \n",
       "718      3  21.33692  0.172330  18.74613  0.010589  17.30910  0.005511   \n",
       "4314     3  19.36417  0.028046  17.18660  0.004480  16.23769  0.003811   \n",
       "1326     3  18.89244  0.075014  17.47259  0.006709  16.75852  0.005064   \n",
       "547      3  19.61124  0.082275  17.73792  0.008349  16.73560  0.005369   \n",
       "\n",
       "       dered_i     err_i   dered_z     err_z         z      zErr    photoZ  \\\n",
       "538   18.22666  0.012101  18.11052  0.036130  0.149591  0.000059  0.192074   \n",
       "718   16.30555  0.004482  15.74324  0.006521  0.000092  0.000012  0.180980   \n",
       "4314  15.90543  0.003846  15.74041  0.005890 -0.000048  0.000008  0.079918   \n",
       "1326  16.35987  0.005203  16.07525  0.013602  0.094920  0.000013  0.090102   \n",
       "547   16.23137  0.005081  15.86106  0.010768  0.126562  0.000020  0.111154   \n",
       "\n",
       "      photoErr   class             subClass  \n",
       "538   0.026946     QSO  STARBURST BROADLINE  \n",
       "718   0.184211    STAR                   M2  \n",
       "4314  0.023979    STAR                   K5  \n",
       "1326  0.020278  GALAXY                  NaN  \n",
       "547   0.018994  GALAXY                  NaN  "
      ]
     },
     "execution_count": 6,
     "metadata": {},
     "output_type": "execute_result"
    }
   ],
   "source": [
    "data_clean.head()"
   ]
  },
  {
   "cell_type": "code",
   "execution_count": 7,
   "metadata": {},
   "outputs": [],
   "source": [
    "# Encoding to integers the classes\n",
    "def type_to_value(n):\n",
    "    if n == 'STAR':\n",
    "        return 1\n",
    "    elif n == 'QSO':\n",
    "        return 2\n",
    "    elif n == 'GALAXY':\n",
    "        return 3\n",
    "    \n",
    "\n",
    "data_clean['nClass'] = [type_to_value(n) for n in data_clean['class']]"
   ]
  },
  {
   "cell_type": "code",
   "execution_count": 8,
   "metadata": {},
   "outputs": [
    {
     "data": {
      "text/html": [
       "<div>\n",
       "<style scoped>\n",
       "    .dataframe tbody tr th:only-of-type {\n",
       "        vertical-align: middle;\n",
       "    }\n",
       "\n",
       "    .dataframe tbody tr th {\n",
       "        vertical-align: top;\n",
       "    }\n",
       "\n",
       "    .dataframe thead th {\n",
       "        text-align: right;\n",
       "    }\n",
       "</style>\n",
       "<table border=\"1\" class=\"dataframe\">\n",
       "  <thead>\n",
       "    <tr style=\"text-align: right;\">\n",
       "      <th></th>\n",
       "      <th>type</th>\n",
       "      <th>dered_u</th>\n",
       "      <th>dered_g</th>\n",
       "      <th>dered_r</th>\n",
       "      <th>dered_i</th>\n",
       "      <th>dered_z</th>\n",
       "      <th>nClass</th>\n",
       "    </tr>\n",
       "  </thead>\n",
       "  <tbody>\n",
       "    <tr>\n",
       "      <th>538</th>\n",
       "      <td>3</td>\n",
       "      <td>19.70745</td>\n",
       "      <td>19.24226</td>\n",
       "      <td>18.66197</td>\n",
       "      <td>18.22666</td>\n",
       "      <td>18.11052</td>\n",
       "      <td>2</td>\n",
       "    </tr>\n",
       "    <tr>\n",
       "      <th>718</th>\n",
       "      <td>3</td>\n",
       "      <td>21.33692</td>\n",
       "      <td>18.74613</td>\n",
       "      <td>17.30910</td>\n",
       "      <td>16.30555</td>\n",
       "      <td>15.74324</td>\n",
       "      <td>1</td>\n",
       "    </tr>\n",
       "    <tr>\n",
       "      <th>4314</th>\n",
       "      <td>3</td>\n",
       "      <td>19.36417</td>\n",
       "      <td>17.18660</td>\n",
       "      <td>16.23769</td>\n",
       "      <td>15.90543</td>\n",
       "      <td>15.74041</td>\n",
       "      <td>1</td>\n",
       "    </tr>\n",
       "    <tr>\n",
       "      <th>1326</th>\n",
       "      <td>3</td>\n",
       "      <td>18.89244</td>\n",
       "      <td>17.47259</td>\n",
       "      <td>16.75852</td>\n",
       "      <td>16.35987</td>\n",
       "      <td>16.07525</td>\n",
       "      <td>3</td>\n",
       "    </tr>\n",
       "    <tr>\n",
       "      <th>547</th>\n",
       "      <td>3</td>\n",
       "      <td>19.61124</td>\n",
       "      <td>17.73792</td>\n",
       "      <td>16.73560</td>\n",
       "      <td>16.23137</td>\n",
       "      <td>15.86106</td>\n",
       "      <td>3</td>\n",
       "    </tr>\n",
       "  </tbody>\n",
       "</table>\n",
       "</div>"
      ],
      "text/plain": [
       "      type   dered_u   dered_g   dered_r   dered_i   dered_z  nClass\n",
       "538      3  19.70745  19.24226  18.66197  18.22666  18.11052       2\n",
       "718      3  21.33692  18.74613  17.30910  16.30555  15.74324       1\n",
       "4314     3  19.36417  17.18660  16.23769  15.90543  15.74041       1\n",
       "1326     3  18.89244  17.47259  16.75852  16.35987  16.07525       3\n",
       "547      3  19.61124  17.73792  16.73560  16.23137  15.86106       3"
      ]
     },
     "execution_count": 8,
     "metadata": {},
     "output_type": "execute_result"
    }
   ],
   "source": [
    "data1 = data_clean.drop(['err_u', 'err_g', 'err_r', 'err_i', 'err_z','z', 'zErr', 'class', 'subClass','photoZ','photoErr'], axis = 1)\n",
    "data1.head()"
   ]
  },
  {
   "cell_type": "code",
   "execution_count": 9,
   "metadata": {},
   "outputs": [],
   "source": [
    "def hist_plots( data: pd.DataFrame,\n",
    "               rows: int,\n",
    "              cols: int,\n",
    "              figsize: tuple):\n",
    "    fig, axes = plt.subplots(rows,cols, figsize=figsize)\n",
    "    for i, ax in enumerate(axes.flatten()):\n",
    "        if i < len(data.columns):\n",
    "            data[sorted(data.columns)[i]].plot.hist(bins=30, ax=ax)\n",
    "            ax.set_title(f'{sorted(data.columns)[i]} distribution', fontsize=10)\n",
    "            ax.tick_params(axis='x', labelsize=10)\n",
    "            ax.tick_params(axis='y', labelsize=10)\n",
    "            ax.get_yaxis().get_label().set_visible(False)\n",
    "        else:\n",
    "            fig.delaxes(ax=ax)\n",
    "    fig.tight_layout()"
   ]
  },
  {
   "cell_type": "code",
   "execution_count": 10,
   "metadata": {},
   "outputs": [
    {
     "data": {
      "image/png": "[encoded data removed]",
      "text/plain": [
       "<Figure size 1440x720 with 7 Axes>"
      ]
     },
     "metadata": {
      "needs_background": "light"
     },
     "output_type": "display_data"
    }
   ],
   "source": [
    "hist_plots(data=data1,\n",
    "          rows=2,\n",
    "          cols=4,\n",
    "          figsize=(20,10))"
   ]
  },
  {
   "cell_type": "code",
   "execution_count": 44,
   "metadata": {},
   "outputs": [
    {
     "data": {
      "image/png": "[encoded data removed]",
      "text/plain": [
       "<Figure size 360x360 with 1 Axes>"
      ]
     },
     "metadata": {
      "needs_background": "light"
     },
     "output_type": "display_data"
    }
   ],
   "source": [
    "colour = data\n",
    "colour['ug'] =  data['dered_u'] - data['dered_g']\n",
    "colour['gr'] =  data['dered_g'] - data['dered_r']\n",
    "\n",
    "sns.lmplot( x=\"ug\", y=\"gr\", data= colour, fit_reg=False, hue='class', legend=False)\n",
    " \n",
    "# Move the legend to an empty part of the plot\n",
    "plt.legend(fontsize='x-small', loc='lower left')\n",
    "\n",
    "plt.show()"
   ]
  },
  {
   "cell_type": "code",
   "execution_count": 11,
   "metadata": {},
   "outputs": [
    {
     "name": "stdout",
     "output_type": "stream",
     "text": [
      "      type   dered_u   dered_g   dered_r   dered_i   dered_z\n",
      "538      3  19.70745  19.24226  18.66197  18.22666  18.11052\n",
      "718      3  21.33692  18.74613  17.30910  16.30555  15.74324\n",
      "4314     3  19.36417  17.18660  16.23769  15.90543  15.74041\n",
      "1326     3  18.89244  17.47259  16.75852  16.35987  16.07525\n",
      "547      3  19.61124  17.73792  16.73560  16.23137  15.86106\n",
      "(10500,)\n",
      "(4500,)\n"
     ]
    }
   ],
   "source": [
    "# split the data in train and test subsets\n",
    "from sklearn.model_selection import StratifiedShuffleSplit\n",
    "\n",
    "cols= data1.columns[:-1]\n",
    "# Get the split indexes\n",
    "strat_shuf_split = StratifiedShuffleSplit(n_splits=3, \n",
    "                                          test_size=0.3, \n",
    "                                          random_state=42)\n",
    "\n",
    "\n",
    "\n",
    "train_idx, test_idx = next(strat_shuf_split.split(X,y))\n",
    "print(train_idx.shape)\n",
    "print(test_idx.shape)\n",
    "\n",
    "X_train = data1[cols].iloc[train_idx]\n",
    "y_train = data1['nClass'].iloc[train_idx]\n",
    "X_test  = data1[cols].iloc[test_idx]\n",
    "y_test  = data1['nClass'].iloc[test_idx]\n",
    "\n"
   ]
  },
  {
   "cell_type": "code",
   "execution_count": 12,
   "metadata": {},
   "outputs": [
    {
     "data": {
      "text/html": [
       "<div>\n",
       "<style scoped>\n",
       "    .dataframe tbody tr th:only-of-type {\n",
       "        vertical-align: middle;\n",
       "    }\n",
       "\n",
       "    .dataframe tbody tr th {\n",
       "        vertical-align: top;\n",
       "    }\n",
       "\n",
       "    .dataframe thead th {\n",
       "        text-align: right;\n",
       "    }\n",
       "</style>\n",
       "<table border=\"1\" class=\"dataframe\">\n",
       "  <thead>\n",
       "    <tr style=\"text-align: right;\">\n",
       "      <th></th>\n",
       "      <th>type</th>\n",
       "      <th>dered_u</th>\n",
       "      <th>dered_g</th>\n",
       "      <th>dered_r</th>\n",
       "      <th>dered_i</th>\n",
       "      <th>dered_z</th>\n",
       "      <th>ug</th>\n",
       "      <th>gr</th>\n",
       "      <th>ri</th>\n",
       "      <th>iz</th>\n",
       "    </tr>\n",
       "  </thead>\n",
       "  <tbody>\n",
       "    <tr>\n",
       "      <th>538</th>\n",
       "      <td>3</td>\n",
       "      <td>19.70745</td>\n",
       "      <td>19.24226</td>\n",
       "      <td>18.66197</td>\n",
       "      <td>18.22666</td>\n",
       "      <td>18.11052</td>\n",
       "      <td>0.46519</td>\n",
       "      <td>0.58029</td>\n",
       "      <td>0.43531</td>\n",
       "      <td>0.11614</td>\n",
       "    </tr>\n",
       "    <tr>\n",
       "      <th>718</th>\n",
       "      <td>3</td>\n",
       "      <td>21.33692</td>\n",
       "      <td>18.74613</td>\n",
       "      <td>17.30910</td>\n",
       "      <td>16.30555</td>\n",
       "      <td>15.74324</td>\n",
       "      <td>2.59079</td>\n",
       "      <td>1.43703</td>\n",
       "      <td>1.00355</td>\n",
       "      <td>0.56231</td>\n",
       "    </tr>\n",
       "    <tr>\n",
       "      <th>4314</th>\n",
       "      <td>3</td>\n",
       "      <td>19.36417</td>\n",
       "      <td>17.18660</td>\n",
       "      <td>16.23769</td>\n",
       "      <td>15.90543</td>\n",
       "      <td>15.74041</td>\n",
       "      <td>2.17757</td>\n",
       "      <td>0.94891</td>\n",
       "      <td>0.33226</td>\n",
       "      <td>0.16502</td>\n",
       "    </tr>\n",
       "    <tr>\n",
       "      <th>1326</th>\n",
       "      <td>3</td>\n",
       "      <td>18.89244</td>\n",
       "      <td>17.47259</td>\n",
       "      <td>16.75852</td>\n",
       "      <td>16.35987</td>\n",
       "      <td>16.07525</td>\n",
       "      <td>1.41985</td>\n",
       "      <td>0.71407</td>\n",
       "      <td>0.39865</td>\n",
       "      <td>0.28462</td>\n",
       "    </tr>\n",
       "    <tr>\n",
       "      <th>547</th>\n",
       "      <td>3</td>\n",
       "      <td>19.61124</td>\n",
       "      <td>17.73792</td>\n",
       "      <td>16.73560</td>\n",
       "      <td>16.23137</td>\n",
       "      <td>15.86106</td>\n",
       "      <td>1.87332</td>\n",
       "      <td>1.00232</td>\n",
       "      <td>0.50423</td>\n",
       "      <td>0.37031</td>\n",
       "    </tr>\n",
       "  </tbody>\n",
       "</table>\n",
       "</div>"
      ],
      "text/plain": [
       "      type   dered_u   dered_g   dered_r   dered_i   dered_z       ug  \\\n",
       "538      3  19.70745  19.24226  18.66197  18.22666  18.11052  0.46519   \n",
       "718      3  21.33692  18.74613  17.30910  16.30555  15.74324  2.59079   \n",
       "4314     3  19.36417  17.18660  16.23769  15.90543  15.74041  2.17757   \n",
       "1326     3  18.89244  17.47259  16.75852  16.35987  16.07525  1.41985   \n",
       "547      3  19.61124  17.73792  16.73560  16.23137  15.86106  1.87332   \n",
       "\n",
       "           gr       ri       iz  \n",
       "538   0.58029  0.43531  0.11614  \n",
       "718   1.43703  1.00355  0.56231  \n",
       "4314  0.94891  0.33226  0.16502  \n",
       "1326  0.71407  0.39865  0.28462  \n",
       "547   1.00232  0.50423  0.37031  "
      ]
     },
     "execution_count": 12,
     "metadata": {},
     "output_type": "execute_result"
    }
   ],
   "source": [
    "#Calculating colours to test importance\n",
    "X_colour = X\n",
    "\n",
    "X_colour['ug'] = X_colour['dered_u'] - X_colour['dered_g']\n",
    "X_colour['gr'] = X_colour['dered_g'] - X_colour['dered_r']\n",
    "X_colour['ri'] = X_colour['dered_r'] - X_colour['dered_i']\n",
    "X_colour['iz'] = X_colour['dered_i'] - X_colour['dered_z']\n",
    "X_colour.head()"
   ]
  },
  {
   "cell_type": "code",
   "execution_count": 13,
   "metadata": {},
   "outputs": [],
   "source": [
    "X_train_c = X_colour.iloc[train_idx]\n",
    "X_test_c  = X_colour.iloc[test_idx]\n"
   ]
  },
  {
   "cell_type": "code",
   "execution_count": 14,
   "metadata": {},
   "outputs": [],
   "source": [
    "#scaling the data\n",
    "from sklearn.preprocessing import MinMaxScaler\n",
    "mm = MinMaxScaler() \n",
    "X_train= mm.fit_transform(X_train) \n",
    "X_test= mm.transform(X_test)\n",
    "X_train_c= mm.fit_transform(X_train_c) \n",
    "X_test_c= mm.transform(X_test_c)"
   ]
  },
  {
   "cell_type": "code",
   "execution_count": 15,
   "metadata": {},
   "outputs": [],
   "source": [
    "# using logistic regression on the non-colour data\n",
    "\n",
    "from sklearn.linear_model import LogisticRegression\n",
    "from sklearn.model_selection import GridSearchCV\n",
    "params = {\"C\":np.logspace(-3,3,30), \"penalty\":[\"l1\",\"l2\"]}\n",
    "\n",
    "\n",
    "grid = GridSearchCV(LogisticRegression(solver='liblinear'), params)\n",
    "\n",
    "\n",
    "GR = grid.fit(X_train, y_train)"
   ]
  },
  {
   "cell_type": "code",
   "execution_count": 16,
   "metadata": {},
   "outputs": [
    {
     "data": {
      "text/plain": [
       "({'C': 1000.0, 'penalty': 'l2'}, 0.6114285714285714)"
      ]
     },
     "execution_count": 16,
     "metadata": {},
     "output_type": "execute_result"
    }
   ],
   "source": [
    "GR.best_params_ ,GR.best_score_"
   ]
  },
  {
   "cell_type": "code",
   "execution_count": 17,
   "metadata": {},
   "outputs": [],
   "source": [
    "y_pred=grid.predict(X_test)\n",
    "#y_prob=grid.predict_proba(X_test)"
   ]
  },
  {
   "cell_type": "code",
   "execution_count": 18,
   "metadata": {},
   "outputs": [
    {
     "name": "stdout",
     "output_type": "stream",
     "text": [
      "              precision    recall  f1-score   support\n",
      "\n",
      "           1       0.58      0.50      0.54      1500\n",
      "           2       0.70      0.81      0.75      1500\n",
      "           3       0.56      0.55      0.55      1500\n",
      "\n",
      "    accuracy                           0.62      4500\n",
      "   macro avg       0.61      0.62      0.61      4500\n",
      "weighted avg       0.61      0.62      0.61      4500\n",
      "\n"
     ]
    }
   ],
   "source": [
    "from sklearn.metrics import classification_report\n",
    "\n",
    "cr = classification_report(y_test, y_pred)\n",
    "print(cr)\n"
   ]
  },
  {
   "cell_type": "markdown",
   "metadata": {},
   "source": [
    "Trying adding colours to the dataframe  and redo the algorithm"
   ]
  },
  {
   "cell_type": "code",
   "execution_count": 19,
   "metadata": {},
   "outputs": [
    {
     "name": "stderr",
     "output_type": "stream",
     "text": [
      "/home/veroastro/anaconda3/lib/python3.7/site-packages/sklearn/svm/_base.py:947: ConvergenceWarning: Liblinear failed to converge, increase the number of iterations.\n",
      "  \"the number of iterations.\", ConvergenceWarning)\n",
      "/home/veroastro/anaconda3/lib/python3.7/site-packages/sklearn/svm/_base.py:947: ConvergenceWarning: Liblinear failed to converge, increase the number of iterations.\n",
      "  \"the number of iterations.\", ConvergenceWarning)\n",
      "/home/veroastro/anaconda3/lib/python3.7/site-packages/sklearn/svm/_base.py:947: ConvergenceWarning: Liblinear failed to converge, increase the number of iterations.\n",
      "  \"the number of iterations.\", ConvergenceWarning)\n",
      "/home/veroastro/anaconda3/lib/python3.7/site-packages/sklearn/svm/_base.py:947: ConvergenceWarning: Liblinear failed to converge, increase the number of iterations.\n",
      "  \"the number of iterations.\", ConvergenceWarning)\n",
      "/home/veroastro/anaconda3/lib/python3.7/site-packages/sklearn/svm/_base.py:947: ConvergenceWarning: Liblinear failed to converge, increase the number of iterations.\n",
      "  \"the number of iterations.\", ConvergenceWarning)\n",
      "/home/veroastro/anaconda3/lib/python3.7/site-packages/sklearn/svm/_base.py:947: ConvergenceWarning: Liblinear failed to converge, increase the number of iterations.\n",
      "  \"the number of iterations.\", ConvergenceWarning)\n"
     ]
    },
    {
     "data": {
      "text/plain": [
       "({'C': 148.73521072935117, 'penalty': 'l1'}, 0.6113333333333334)"
      ]
     },
     "execution_count": 19,
     "metadata": {},
     "output_type": "execute_result"
    }
   ],
   "source": [
    "# test with colours\n",
    "GR = grid.fit(X_train_c, y_train)\n",
    "GR.best_params_ ,GR.best_score_"
   ]
  },
  {
   "cell_type": "code",
   "execution_count": 20,
   "metadata": {},
   "outputs": [],
   "source": [
    "y_pred_c=grid.predict(X_test_c)"
   ]
  },
  {
   "cell_type": "code",
   "execution_count": 21,
   "metadata": {},
   "outputs": [
    {
     "name": "stdout",
     "output_type": "stream",
     "text": [
      "              precision    recall  f1-score   support\n",
      "\n",
      "           1       0.58      0.50      0.54      1500\n",
      "           2       0.70      0.81      0.75      1500\n",
      "           3       0.56      0.55      0.55      1500\n",
      "\n",
      "    accuracy                           0.62      4500\n",
      "   macro avg       0.61      0.62      0.61      4500\n",
      "weighted avg       0.61      0.62      0.61      4500\n",
      "\n"
     ]
    }
   ],
   "source": [
    "cr_c = classification_report(y_test, y_pred_c)\n",
    "print(cr_c)"
   ]
  },
  {
   "cell_type": "markdown",
   "metadata": {},
   "source": [
    " Colour doesn't affect the estimation of the spectral classes"
   ]
  },
  {
   "cell_type": "markdown",
   "metadata": {},
   "source": [
    "## Testing other classifiers\n",
    "   ### Random Forest Classifier"
   ]
  },
  {
   "cell_type": "code",
   "execution_count": 22,
   "metadata": {},
   "outputs": [
    {
     "name": "stderr",
     "output_type": "stream",
     "text": [
      "/home/veroastro/anaconda3/lib/python3.7/site-packages/sklearn/ensemble/_forest.py:523: UserWarning: Some inputs do not have OOB scores. This probably means too few trees were used to compute any reliable oob estimates.\n",
      "  warn(\"Some inputs do not have OOB scores. \"\n",
      "/home/veroastro/anaconda3/lib/python3.7/site-packages/sklearn/ensemble/_forest.py:528: RuntimeWarning: invalid value encountered in true_divide\n",
      "  predictions[k].sum(axis=1)[:, np.newaxis])\n",
      "/home/veroastro/anaconda3/lib/python3.7/site-packages/sklearn/ensemble/_forest.py:523: UserWarning: Some inputs do not have OOB scores. This probably means too few trees were used to compute any reliable oob estimates.\n",
      "  warn(\"Some inputs do not have OOB scores. \"\n",
      "/home/veroastro/anaconda3/lib/python3.7/site-packages/sklearn/ensemble/_forest.py:528: RuntimeWarning: invalid value encountered in true_divide\n",
      "  predictions[k].sum(axis=1)[:, np.newaxis])\n",
      "/home/veroastro/anaconda3/lib/python3.7/site-packages/sklearn/ensemble/_forest.py:523: UserWarning: Some inputs do not have OOB scores. This probably means too few trees were used to compute any reliable oob estimates.\n",
      "  warn(\"Some inputs do not have OOB scores. \"\n",
      "/home/veroastro/anaconda3/lib/python3.7/site-packages/sklearn/ensemble/_forest.py:528: RuntimeWarning: invalid value encountered in true_divide\n",
      "  predictions[k].sum(axis=1)[:, np.newaxis])\n",
      "/home/veroastro/anaconda3/lib/python3.7/site-packages/sklearn/ensemble/_forest.py:523: UserWarning: Some inputs do not have OOB scores. This probably means too few trees were used to compute any reliable oob estimates.\n",
      "  warn(\"Some inputs do not have OOB scores. \"\n",
      "/home/veroastro/anaconda3/lib/python3.7/site-packages/sklearn/ensemble/_forest.py:528: RuntimeWarning: invalid value encountered in true_divide\n",
      "  predictions[k].sum(axis=1)[:, np.newaxis])\n",
      "/home/veroastro/anaconda3/lib/python3.7/site-packages/sklearn/ensemble/_forest.py:523: UserWarning: Some inputs do not have OOB scores. This probably means too few trees were used to compute any reliable oob estimates.\n",
      "  warn(\"Some inputs do not have OOB scores. \"\n",
      "/home/veroastro/anaconda3/lib/python3.7/site-packages/sklearn/ensemble/_forest.py:528: RuntimeWarning: invalid value encountered in true_divide\n",
      "  predictions[k].sum(axis=1)[:, np.newaxis])\n"
     ]
    }
   ],
   "source": [
    "from sklearn.ensemble import RandomForestClassifier\n",
    "param_grid = {'n_estimators':range(1,400, 40)}\n",
    "\n",
    "\n",
    "RF = RandomForestClassifier(oob_score=True, \n",
    "                            random_state=42, \n",
    "                            warm_start=True,\n",
    "                            n_jobs=-1)\n",
    "rf = GridSearchCV(RF,\n",
    "                  param_grid=param_grid)\n",
    "\n",
    "rf = rf.fit(X_train, y_train)"
   ]
  },
  {
   "cell_type": "code",
   "execution_count": 23,
   "metadata": {},
   "outputs": [
    {
     "data": {
      "text/plain": [
       "({'n_estimators': 121}, 0.8925714285714286)"
      ]
     },
     "execution_count": 23,
     "metadata": {},
     "output_type": "execute_result"
    }
   ],
   "source": [
    "rf.best_params_ ,rf.best_score_"
   ]
  },
  {
   "cell_type": "code",
   "execution_count": 24,
   "metadata": {},
   "outputs": [
    {
     "name": "stdout",
     "output_type": "stream",
     "text": [
      "              precision    recall  f1-score   support\n",
      "\n",
      "           1       0.92      0.89      0.90      1500\n",
      "           2       0.93      0.89      0.91      1500\n",
      "           3       0.85      0.91      0.88      1500\n",
      "\n",
      "    accuracy                           0.90      4500\n",
      "   macro avg       0.90      0.90      0.90      4500\n",
      "weighted avg       0.90      0.90      0.90      4500\n",
      "\n"
     ]
    }
   ],
   "source": [
    "y_pred_rf = rf.predict(X_test)\n",
    "cr = classification_report(y_test, y_pred_rf)\n",
    "print(cr)"
   ]
  },
  {
   "cell_type": "code",
   "execution_count": 25,
   "metadata": {},
   "outputs": [
    {
     "data": {
      "image/png": "[encoded data removed]",
      "text/plain": [
       "<Figure size 432x288 with 2 Axes>"
      ]
     },
     "metadata": {
      "needs_background": "light"
     },
     "output_type": "display_data"
    }
   ],
   "source": [
    "from sklearn.metrics import confusion_matrix\n",
    "sns.set_context('talk')\n",
    "cm = confusion_matrix(y_test, y_pred_rf)\n",
    "ax = sns.heatmap(cm, annot=True, fmt='d')"
   ]
  },
  {
   "cell_type": "markdown",
   "metadata": {},
   "source": [
    "### Decision Tree Classifier"
   ]
  },
  {
   "cell_type": "code",
   "execution_count": 26,
   "metadata": {},
   "outputs": [],
   "source": [
    "from sklearn.tree import DecisionTreeClassifier\n",
    "\n",
    "\n",
    "param_grid = {'max_depth':range(1, 1000, 40),\n",
    "              'max_features': [ 'auto', 'sqrt', 'log2']}\n",
    "\n",
    "GR_dt = GridSearchCV(DecisionTreeClassifier(random_state=42),\n",
    "                  param_grid=param_grid,\n",
    "                  scoring='accuracy',\n",
    "                  n_jobs=-1)\n",
    "\n",
    "GR_dt = GR_dt.fit(X_train, y_train)"
   ]
  },
  {
   "cell_type": "code",
   "execution_count": 27,
   "metadata": {},
   "outputs": [
    {
     "data": {
      "text/plain": [
       "({'max_depth': 41, 'max_features': 'auto'}, 0.8231428571428572)"
      ]
     },
     "execution_count": 27,
     "metadata": {},
     "output_type": "execute_result"
    }
   ],
   "source": [
    "#GR_dt.tree_.node_count, GR_dt.tree_.max_depth\n",
    "GR_dt.best_params_ ,GR_dt.best_score_"
   ]
  },
  {
   "cell_type": "code",
   "execution_count": 28,
   "metadata": {},
   "outputs": [
    {
     "name": "stdout",
     "output_type": "stream",
     "text": [
      "              precision    recall  f1-score   support\n",
      "\n",
      "           1       0.86      0.82      0.84      1500\n",
      "           2       0.85      0.86      0.86      1500\n",
      "           3       0.80      0.82      0.81      1500\n",
      "\n",
      "    accuracy                           0.84      4500\n",
      "   macro avg       0.84      0.84      0.84      4500\n",
      "weighted avg       0.84      0.84      0.84      4500\n",
      "\n"
     ]
    }
   ],
   "source": [
    "\n",
    "y_pred_dt = GR_dt.predict(X_test)\n",
    "cr_dt = classification_report(y_test, y_pred_dt)\n",
    "print(cr_dt)\n"
   ]
  },
  {
   "cell_type": "code",
   "execution_count": 29,
   "metadata": {},
   "outputs": [
    {
     "data": {
      "image/png": "[encoded data removed]",
      "text/plain": [
       "<Figure size 432x288 with 2 Axes>"
      ]
     },
     "metadata": {
      "needs_background": "light"
     },
     "output_type": "display_data"
    }
   ],
   "source": [
    "sns.set_context('talk')\n",
    "cm = confusion_matrix(y_test, y_pred_dt)\n",
    "ax = sns.heatmap(cm, annot=True, fmt='d')"
   ]
  },
  {
   "cell_type": "markdown",
   "metadata": {},
   "source": [
    "### Gradient Boosting Classifier"
   ]
  },
  {
   "cell_type": "code",
   "execution_count": 30,
   "metadata": {},
   "outputs": [
    {
     "name": "stdout",
     "output_type": "stream",
     "text": [
      "              precision    recall  f1-score   support\n",
      "\n",
      "           1       0.83      0.90      0.86      1386\n",
      "           2       0.86      0.91      0.89      1423\n",
      "           3       0.90      0.80      0.85      1691\n",
      "\n",
      "    accuracy                           0.86      4500\n",
      "   macro avg       0.86      0.87      0.87      4500\n",
      "weighted avg       0.87      0.86      0.86      4500\n",
      "\n"
     ]
    }
   ],
   "source": [
    "from sklearn.ensemble import GradientBoostingClassifier\n",
    "\n",
    "tree_list = [15, 25, 50, 100, 200, 400]\n",
    "param_grid = {'n_estimators': tree_list,\n",
    "              'learning_rate': [0.1, 0.01, 0.001, 0.0001],\n",
    "              'subsample': [1.0, 0.5]}\n",
    "\n",
    "# The grid search object\n",
    "GV_GBC = GridSearchCV(GradientBoostingClassifier(random_state=42), \n",
    "                      param_grid=param_grid, \n",
    "                      scoring='accuracy',\n",
    "                      n_jobs=-1)\n",
    "\n",
    "# Do the grid search\n",
    "GV_GBC = GV_GBC.fit(X_train, y_train)\n",
    "\n",
    "y_pred_gbc = GV_GBC.predict(X_test)\n",
    "print(classification_report(y_pred_gbc, y_test))"
   ]
  },
  {
   "cell_type": "code",
   "execution_count": 31,
   "metadata": {},
   "outputs": [
    {
     "data": {
      "image/png": "[encoded data removed]",
      "text/plain": [
       "<Figure size 432x288 with 2 Axes>"
      ]
     },
     "metadata": {
      "needs_background": "light"
     },
     "output_type": "display_data"
    }
   ],
   "source": [
    "\n",
    "sns.set_context('talk')\n",
    "cm = confusion_matrix(y_test, y_pred_gbc)\n",
    "ax = sns.heatmap(cm, annot=True, fmt='d')"
   ]
  },
  {
   "cell_type": "markdown",
   "metadata": {},
   "source": [
    "# Conclusion\n",
    "\n",
    "I obtained 90% accuracy with Random Forest Classifier and over 82% on the other classifiers except Logistic Regression (62%) which was a litle over random in some cases. Colours, as expected from the image (ug vs gr), didn't add any new information to the models. \n",
    "\n",
    "This is less than obtained on the Determining Redshift notebook and not good enough to imporove estimation of redshifts."
   ]
  }
 ],
 "metadata": {
  "kernelspec": {
   "display_name": "Python 3",
   "language": "python",
   "name": "python3"
  },
  "language_info": {
   "codemirror_mode": {
    "name": "ipython",
    "version": 3
   },
   "file_extension": ".py",
   "mimetype": "text/x-python",
   "name": "python",
   "nbconvert_exporter": "python",
   "pygments_lexer": "ipython3",
   "version": "3.7.6"
  }
 },
 "nbformat": 4,
 "nbformat_minor": 4
}
