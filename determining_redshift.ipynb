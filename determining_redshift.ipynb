{
 "cells": [
  {
   "cell_type": "markdown",
   "metadata": {},
   "source": [
    "# Determine redshift using machine learning"
   ]
  },
  {
   "cell_type": "markdown",
   "metadata": {},
   "source": [
    "First, what is redshift and why is it important? Redshift is the equivalent to the distance of stellar objects from us. It is measured using spectroscopy and measuring the redshift (shift of the spectra to the red side of the wavelength). This is important because it allow us to calculate the actual magnitudes of the stellar objects and we can do a lot of fun science with it. Spectra data is not up to par with  the vast optical data available so it is important to have good redshifts from photometry.\n",
    "\n",
    "The data was obtained using the skyserver from the Sloan Digital Sky Survey (SDSS) using the SQL query. In the SQL query, I specified for no missing values of the redshift or the five bands (u,g,r,i,z). Also the dered values were obtained to account for galactic extinction."
   ]
  },
  {
   "cell_type": "code",
   "execution_count": 1,
   "metadata": {},
   "outputs": [],
   "source": [
    "import os\n",
    "import numpy as np\n",
    "import pandas as pd\n",
    "from pandas.plotting import table\n",
    "import seaborn as sns\n",
    "import matplotlib.pyplot as plt\n",
    "from scipy import stats\n",
    "sns.set()\n",
    "%matplotlib inline"
   ]
  },
  {
   "cell_type": "markdown",
   "metadata": {},
   "source": [
    "## Loading data and some EDA"
   ]
  },
  {
   "cell_type": "code",
   "execution_count": 2,
   "metadata": {},
   "outputs": [],
   "source": [
    "filepath= \"/home/veroastro/Documents/spectraTypes/data/\"\n",
    "star = pd.read_csv(filepath+\"STAR2_Skyserver_SQL2_12_2022 5_02_48 PM.csv\")\n",
    "QSO = pd.read_csv(filepath+\"QSO2Skyserver_SQL2_12_2022 5_03_49 PM.csv\")\n",
    "galaxy = pd.read_csv(filepath+\"GALAXY2Skyserver_SQL2_12_2022 5_03_24 PM.csv\")"
   ]
  },
  {
   "cell_type": "code",
   "execution_count": 3,
   "metadata": {},
   "outputs": [
    {
     "data": {
      "text/html": [
       "<div>\n",
       "<style scoped>\n",
       "    .dataframe tbody tr th:only-of-type {\n",
       "        vertical-align: middle;\n",
       "    }\n",
       "\n",
       "    .dataframe tbody tr th {\n",
       "        vertical-align: top;\n",
       "    }\n",
       "\n",
       "    .dataframe thead th {\n",
       "        text-align: right;\n",
       "    }\n",
       "</style>\n",
       "<table border=\"1\" class=\"dataframe\">\n",
       "  <thead>\n",
       "    <tr style=\"text-align: right;\">\n",
       "      <th></th>\n",
       "      <th>#objID</th>\n",
       "      <th>type</th>\n",
       "      <th>dered_u</th>\n",
       "      <th>err_u</th>\n",
       "      <th>dered_g</th>\n",
       "      <th>err_g</th>\n",
       "      <th>dered_r</th>\n",
       "      <th>err_r</th>\n",
       "      <th>dered_i</th>\n",
       "      <th>err_i</th>\n",
       "      <th>dered_z</th>\n",
       "      <th>err_z</th>\n",
       "      <th>specObjID</th>\n",
       "      <th>z</th>\n",
       "      <th>zErr</th>\n",
       "      <th>photoZ</th>\n",
       "      <th>photoErr</th>\n",
       "      <th>zWarning</th>\n",
       "      <th>class</th>\n",
       "      <th>subClass</th>\n",
       "    </tr>\n",
       "  </thead>\n",
       "  <tbody>\n",
       "    <tr>\n",
       "      <th>308</th>\n",
       "      <td>1237648721214767180</td>\n",
       "      <td>3</td>\n",
       "      <td>17.85225</td>\n",
       "      <td>0.011667</td>\n",
       "      <td>16.61216</td>\n",
       "      <td>0.003858</td>\n",
       "      <td>16.18669</td>\n",
       "      <td>0.003685</td>\n",
       "      <td>16.04857</td>\n",
       "      <td>0.003899</td>\n",
       "      <td>15.95690</td>\n",
       "      <td>0.007114</td>\n",
       "      <td>535980346404005888</td>\n",
       "      <td>0.000467</td>\n",
       "      <td>0.000009</td>\n",
       "      <td>0.021198</td>\n",
       "      <td>0.008673</td>\n",
       "      <td>0</td>\n",
       "      <td>STAR</td>\n",
       "      <td>F9</td>\n",
       "    </tr>\n",
       "    <tr>\n",
       "      <th>2207</th>\n",
       "      <td>1237651539243696318</td>\n",
       "      <td>3</td>\n",
       "      <td>19.19225</td>\n",
       "      <td>0.028626</td>\n",
       "      <td>18.72476</td>\n",
       "      <td>0.009064</td>\n",
       "      <td>18.20569</td>\n",
       "      <td>0.008330</td>\n",
       "      <td>17.84718</td>\n",
       "      <td>0.008372</td>\n",
       "      <td>17.65723</td>\n",
       "      <td>0.023914</td>\n",
       "      <td>549589544865916928</td>\n",
       "      <td>0.240848</td>\n",
       "      <td>0.000037</td>\n",
       "      <td>0.219226</td>\n",
       "      <td>0.038736</td>\n",
       "      <td>0</td>\n",
       "      <td>QSO</td>\n",
       "      <td>STARBURST BROADLINE</td>\n",
       "    </tr>\n",
       "    <tr>\n",
       "      <th>3745</th>\n",
       "      <td>1237657118413357275</td>\n",
       "      <td>3</td>\n",
       "      <td>19.06015</td>\n",
       "      <td>0.030120</td>\n",
       "      <td>18.82117</td>\n",
       "      <td>0.010089</td>\n",
       "      <td>18.30181</td>\n",
       "      <td>0.009393</td>\n",
       "      <td>17.90892</td>\n",
       "      <td>0.009185</td>\n",
       "      <td>17.77618</td>\n",
       "      <td>0.027341</td>\n",
       "      <td>935677836654569472</td>\n",
       "      <td>0.213827</td>\n",
       "      <td>0.000043</td>\n",
       "      <td>0.192504</td>\n",
       "      <td>0.030945</td>\n",
       "      <td>0</td>\n",
       "      <td>QSO</td>\n",
       "      <td>BROADLINE</td>\n",
       "    </tr>\n",
       "    <tr>\n",
       "      <th>2784</th>\n",
       "      <td>1237655128772051260</td>\n",
       "      <td>3</td>\n",
       "      <td>18.98371</td>\n",
       "      <td>0.199972</td>\n",
       "      <td>18.08911</td>\n",
       "      <td>0.055290</td>\n",
       "      <td>22.18698</td>\n",
       "      <td>4.085207</td>\n",
       "      <td>20.25719</td>\n",
       "      <td>0.836385</td>\n",
       "      <td>25.28771</td>\n",
       "      <td>2.130757</td>\n",
       "      <td>1097908305394690048</td>\n",
       "      <td>-0.000019</td>\n",
       "      <td>0.000010</td>\n",
       "      <td>-9999.000000</td>\n",
       "      <td>-9999.000000</td>\n",
       "      <td>0</td>\n",
       "      <td>STAR</td>\n",
       "      <td>F5</td>\n",
       "    </tr>\n",
       "    <tr>\n",
       "      <th>162</th>\n",
       "      <td>1237650372099440756</td>\n",
       "      <td>3</td>\n",
       "      <td>19.04045</td>\n",
       "      <td>0.024875</td>\n",
       "      <td>17.40755</td>\n",
       "      <td>0.004680</td>\n",
       "      <td>16.72727</td>\n",
       "      <td>0.004058</td>\n",
       "      <td>16.48128</td>\n",
       "      <td>0.004400</td>\n",
       "      <td>16.37112</td>\n",
       "      <td>0.009477</td>\n",
       "      <td>381772455783458816</td>\n",
       "      <td>-0.000177</td>\n",
       "      <td>0.000008</td>\n",
       "      <td>0.045668</td>\n",
       "      <td>0.027466</td>\n",
       "      <td>0</td>\n",
       "      <td>STAR</td>\n",
       "      <td>K1</td>\n",
       "    </tr>\n",
       "  </tbody>\n",
       "</table>\n",
       "</div>"
      ],
      "text/plain": [
       "                   #objID  type   dered_u     err_u   dered_g     err_g  \\\n",
       "308   1237648721214767180     3  17.85225  0.011667  16.61216  0.003858   \n",
       "2207  1237651539243696318     3  19.19225  0.028626  18.72476  0.009064   \n",
       "3745  1237657118413357275     3  19.06015  0.030120  18.82117  0.010089   \n",
       "2784  1237655128772051260     3  18.98371  0.199972  18.08911  0.055290   \n",
       "162   1237650372099440756     3  19.04045  0.024875  17.40755  0.004680   \n",
       "\n",
       "       dered_r     err_r   dered_i     err_i   dered_z     err_z  \\\n",
       "308   16.18669  0.003685  16.04857  0.003899  15.95690  0.007114   \n",
       "2207  18.20569  0.008330  17.84718  0.008372  17.65723  0.023914   \n",
       "3745  18.30181  0.009393  17.90892  0.009185  17.77618  0.027341   \n",
       "2784  22.18698  4.085207  20.25719  0.836385  25.28771  2.130757   \n",
       "162   16.72727  0.004058  16.48128  0.004400  16.37112  0.009477   \n",
       "\n",
       "                specObjID         z      zErr       photoZ     photoErr  \\\n",
       "308    535980346404005888  0.000467  0.000009     0.021198     0.008673   \n",
       "2207   549589544865916928  0.240848  0.000037     0.219226     0.038736   \n",
       "3745   935677836654569472  0.213827  0.000043     0.192504     0.030945   \n",
       "2784  1097908305394690048 -0.000019  0.000010 -9999.000000 -9999.000000   \n",
       "162    381772455783458816 -0.000177  0.000008     0.045668     0.027466   \n",
       "\n",
       "      zWarning class             subClass  \n",
       "308          0  STAR                   F9  \n",
       "2207         0   QSO  STARBURST BROADLINE  \n",
       "3745         0   QSO            BROADLINE  \n",
       "2784         0  STAR                   F5  \n",
       "162          0  STAR                   K1  "
      ]
     },
     "execution_count": 3,
     "metadata": {},
     "output_type": "execute_result"
    }
   ],
   "source": [
    "#Create the data frame from the three sets of data\n",
    "data = pd.concat([star, QSO, galaxy])\n",
    "#Scramble the data set so that it is not ordered by spectral class (QSO, galaxy or star) \n",
    "data = data.sample(frac=1)\n",
    "\n",
    "data.head()"
   ]
  },
  {
   "cell_type": "code",
   "execution_count": 4,
   "metadata": {},
   "outputs": [
    {
     "name": "stdout",
     "output_type": "stream",
     "text": [
      "Mean photoError: 0.954\n"
     ]
    }
   ],
   "source": [
    "print('Mean photoError:', round(np.mean(data['photoErr']>0.0), 3))"
   ]
  },
  {
   "cell_type": "code",
   "execution_count": 5,
   "metadata": {},
   "outputs": [
    {
     "data": {
      "text/plain": [
       "count    15000.000000\n",
       "mean      -461.917666\n",
       "std       2099.047844\n",
       "min      -9999.000000\n",
       "25%          0.014778\n",
       "50%          0.024138\n",
       "75%          0.041078\n",
       "max          0.237493\n",
       "Name: photoErr, dtype: float64"
      ]
     },
     "execution_count": 5,
     "metadata": {},
     "output_type": "execute_result"
    }
   ],
   "source": [
    "data['photoErr'].describe()"
   ]
  },
  {
   "cell_type": "code",
   "execution_count": 6,
   "metadata": {},
   "outputs": [
    {
     "name": "stdout",
     "output_type": "stream",
     "text": [
      "Mean specError: 0.019\n"
     ]
    }
   ],
   "source": [
    "print('Mean specError:', round(np.mean(data['zErr']), 3))"
   ]
  },
  {
   "cell_type": "markdown",
   "metadata": {},
   "source": [
    "The mean value of the spectroscopic errors is 0.019  while the mean value of the photometric errors is 0.954."
   ]
  },
  {
   "cell_type": "code",
   "execution_count": 7,
   "metadata": {},
   "outputs": [
    {
     "data": {
      "text/html": [
       "<div>\n",
       "<style scoped>\n",
       "    .dataframe tbody tr th:only-of-type {\n",
       "        vertical-align: middle;\n",
       "    }\n",
       "\n",
       "    .dataframe tbody tr th {\n",
       "        vertical-align: top;\n",
       "    }\n",
       "\n",
       "    .dataframe thead th {\n",
       "        text-align: right;\n",
       "    }\n",
       "</style>\n",
       "<table border=\"1\" class=\"dataframe\">\n",
       "  <thead>\n",
       "    <tr style=\"text-align: right;\">\n",
       "      <th></th>\n",
       "      <th>dered_u</th>\n",
       "      <th>dered_g</th>\n",
       "      <th>dered_r</th>\n",
       "      <th>dered_i</th>\n",
       "      <th>dered_z</th>\n",
       "      <th>z</th>\n",
       "    </tr>\n",
       "  </thead>\n",
       "  <tbody>\n",
       "    <tr>\n",
       "      <th>308</th>\n",
       "      <td>17.85225</td>\n",
       "      <td>16.61216</td>\n",
       "      <td>16.18669</td>\n",
       "      <td>16.04857</td>\n",
       "      <td>15.95690</td>\n",
       "      <td>0.000467</td>\n",
       "    </tr>\n",
       "    <tr>\n",
       "      <th>2207</th>\n",
       "      <td>19.19225</td>\n",
       "      <td>18.72476</td>\n",
       "      <td>18.20569</td>\n",
       "      <td>17.84718</td>\n",
       "      <td>17.65723</td>\n",
       "      <td>0.240848</td>\n",
       "    </tr>\n",
       "    <tr>\n",
       "      <th>3745</th>\n",
       "      <td>19.06015</td>\n",
       "      <td>18.82117</td>\n",
       "      <td>18.30181</td>\n",
       "      <td>17.90892</td>\n",
       "      <td>17.77618</td>\n",
       "      <td>0.213827</td>\n",
       "    </tr>\n",
       "    <tr>\n",
       "      <th>2784</th>\n",
       "      <td>18.98371</td>\n",
       "      <td>18.08911</td>\n",
       "      <td>22.18698</td>\n",
       "      <td>20.25719</td>\n",
       "      <td>25.28771</td>\n",
       "      <td>-0.000019</td>\n",
       "    </tr>\n",
       "    <tr>\n",
       "      <th>162</th>\n",
       "      <td>19.04045</td>\n",
       "      <td>17.40755</td>\n",
       "      <td>16.72727</td>\n",
       "      <td>16.48128</td>\n",
       "      <td>16.37112</td>\n",
       "      <td>-0.000177</td>\n",
       "    </tr>\n",
       "  </tbody>\n",
       "</table>\n",
       "</div>"
      ],
      "text/plain": [
       "       dered_u   dered_g   dered_r   dered_i   dered_z         z\n",
       "308   17.85225  16.61216  16.18669  16.04857  15.95690  0.000467\n",
       "2207  19.19225  18.72476  18.20569  17.84718  17.65723  0.240848\n",
       "3745  19.06015  18.82117  18.30181  17.90892  17.77618  0.213827\n",
       "2784  18.98371  18.08911  22.18698  20.25719  25.28771 -0.000019\n",
       "162   19.04045  17.40755  16.72727  16.48128  16.37112 -0.000177"
      ]
     },
     "execution_count": 7,
     "metadata": {},
     "output_type": "execute_result"
    }
   ],
   "source": [
    "cols= ['zWarning','specObjID','#objID','err_u', 'err_g', 'err_r', 'err_i', 'err_z', 'zErr',]\n",
    "data_clean = data.drop(columns=['zWarning','specObjID','#objID','err_u', 'err_g', 'err_r', 'err_i', 'err_z', 'zErr', 'class', 'subClass', 'photoZ','photoErr','type'])\n",
    "data_clean.head()"
   ]
  },
  {
   "cell_type": "code",
   "execution_count": 8,
   "metadata": {},
   "outputs": [
    {
     "data": {
      "text/html": [
       "<div>\n",
       "<style scoped>\n",
       "    .dataframe tbody tr th:only-of-type {\n",
       "        vertical-align: middle;\n",
       "    }\n",
       "\n",
       "    .dataframe tbody tr th {\n",
       "        vertical-align: top;\n",
       "    }\n",
       "\n",
       "    .dataframe thead th {\n",
       "        text-align: right;\n",
       "    }\n",
       "</style>\n",
       "<table border=\"1\" class=\"dataframe\">\n",
       "  <thead>\n",
       "    <tr style=\"text-align: right;\">\n",
       "      <th></th>\n",
       "      <th>dered_u</th>\n",
       "      <th>dered_g</th>\n",
       "      <th>dered_r</th>\n",
       "      <th>dered_i</th>\n",
       "      <th>dered_z</th>\n",
       "      <th>z</th>\n",
       "    </tr>\n",
       "  </thead>\n",
       "  <tbody>\n",
       "    <tr>\n",
       "      <th>count</th>\n",
       "      <td>15000.000000</td>\n",
       "      <td>15000.000000</td>\n",
       "      <td>15000.000000</td>\n",
       "      <td>15000.000000</td>\n",
       "      <td>15000.000000</td>\n",
       "      <td>15000.000000</td>\n",
       "    </tr>\n",
       "    <tr>\n",
       "      <th>mean</th>\n",
       "      <td>19.869886</td>\n",
       "      <td>18.452114</td>\n",
       "      <td>17.631055</td>\n",
       "      <td>17.163975</td>\n",
       "      <td>16.934978</td>\n",
       "      <td>0.142970</td>\n",
       "    </tr>\n",
       "    <tr>\n",
       "      <th>std</th>\n",
       "      <td>1.702831</td>\n",
       "      <td>1.544044</td>\n",
       "      <td>1.469840</td>\n",
       "      <td>1.371121</td>\n",
       "      <td>1.453392</td>\n",
       "      <td>0.267116</td>\n",
       "    </tr>\n",
       "    <tr>\n",
       "      <th>min</th>\n",
       "      <td>11.101360</td>\n",
       "      <td>12.074510</td>\n",
       "      <td>10.785910</td>\n",
       "      <td>10.756660</td>\n",
       "      <td>9.813457</td>\n",
       "      <td>-0.004329</td>\n",
       "    </tr>\n",
       "    <tr>\n",
       "      <th>25%</th>\n",
       "      <td>18.870685</td>\n",
       "      <td>17.598865</td>\n",
       "      <td>16.818828</td>\n",
       "      <td>16.356315</td>\n",
       "      <td>16.086430</td>\n",
       "      <td>0.000060</td>\n",
       "    </tr>\n",
       "    <tr>\n",
       "      <th>50%</th>\n",
       "      <td>19.614630</td>\n",
       "      <td>18.316495</td>\n",
       "      <td>17.479280</td>\n",
       "      <td>17.038925</td>\n",
       "      <td>16.791815</td>\n",
       "      <td>0.093467</td>\n",
       "    </tr>\n",
       "    <tr>\n",
       "      <th>75%</th>\n",
       "      <td>20.553992</td>\n",
       "      <td>19.144298</td>\n",
       "      <td>18.450765</td>\n",
       "      <td>18.022543</td>\n",
       "      <td>17.732482</td>\n",
       "      <td>0.201547</td>\n",
       "    </tr>\n",
       "    <tr>\n",
       "      <th>max</th>\n",
       "      <td>29.762490</td>\n",
       "      <td>29.461400</td>\n",
       "      <td>28.317300</td>\n",
       "      <td>28.234270</td>\n",
       "      <td>28.220950</td>\n",
       "      <td>6.827977</td>\n",
       "    </tr>\n",
       "  </tbody>\n",
       "</table>\n",
       "</div>"
      ],
      "text/plain": [
       "            dered_u       dered_g       dered_r       dered_i       dered_z  \\\n",
       "count  15000.000000  15000.000000  15000.000000  15000.000000  15000.000000   \n",
       "mean      19.869886     18.452114     17.631055     17.163975     16.934978   \n",
       "std        1.702831      1.544044      1.469840      1.371121      1.453392   \n",
       "min       11.101360     12.074510     10.785910     10.756660      9.813457   \n",
       "25%       18.870685     17.598865     16.818828     16.356315     16.086430   \n",
       "50%       19.614630     18.316495     17.479280     17.038925     16.791815   \n",
       "75%       20.553992     19.144298     18.450765     18.022543     17.732482   \n",
       "max       29.762490     29.461400     28.317300     28.234270     28.220950   \n",
       "\n",
       "                  z  \n",
       "count  15000.000000  \n",
       "mean       0.142970  \n",
       "std        0.267116  \n",
       "min       -0.004329  \n",
       "25%        0.000060  \n",
       "50%        0.093467  \n",
       "75%        0.201547  \n",
       "max        6.827977  "
      ]
     },
     "execution_count": 8,
     "metadata": {},
     "output_type": "execute_result"
    }
   ],
   "source": [
    "data_clean.describe()"
   ]
  },
  {
   "cell_type": "code",
   "execution_count": 9,
   "metadata": {},
   "outputs": [],
   "source": [
    "def hist_plots( data: pd.DataFrame,\n",
    "               rows: int,\n",
    "              cols: int,\n",
    "              figsize: tuple):\n",
    "    fig, axes = plt.subplots(rows,cols, figsize=figsize)\n",
    "    for i, ax in enumerate(axes.flatten()):\n",
    "        if i < len(data.columns):\n",
    "            data[sorted(data.columns)[i]].plot.hist(bins=30, ax=ax)\n",
    "            ax.set_title(f'{sorted(data.columns)[i]} distribution', fontsize=10)\n",
    "            ax.tick_params(axis='x', labelsize=10)\n",
    "            ax.tick_params(axis='y', labelsize=10)\n",
    "            ax.get_yaxis().get_label().set_visible(False)\n",
    "        else:\n",
    "            fig.delaxes(ax=ax)\n",
    "    fig.tight_layout()"
   ]
  },
  {
   "cell_type": "code",
   "execution_count": 10,
   "metadata": {},
   "outputs": [
    {
     "data": {
      "image/png": "[encoded data removed]",
      "text/plain": [
       "<Figure size 1440x720 with 6 Axes>"
      ]
     },
     "metadata": {
      "needs_background": "light"
     },
     "output_type": "display_data"
    }
   ],
   "source": [
    "hist_plots(data=data_clean,\n",
    "          rows=2,\n",
    "          cols=4,\n",
    "          figsize=(20,10))\n",
    "#plt.savefig(filepath+'images/zhistplot.png')"
   ]
  },
  {
   "cell_type": "markdown",
   "metadata": {},
   "source": [
    "The magnitudes of the bands are in the interquartile ranges (25-75%) between 16-18. The fainter (higher value) sources are mostly outliers of the destributions. Since the distributions are fairly bright, I decided to keep them."
   ]
  },
  {
   "cell_type": "code",
   "execution_count": 11,
   "metadata": {},
   "outputs": [],
   "source": [
    "cols= data_clean.columns[:-1]\n",
    "X = data_clean[cols]\n",
    "y = data_clean['z']\n"
   ]
  },
  {
   "cell_type": "code",
   "execution_count": 12,
   "metadata": {},
   "outputs": [
    {
     "data": {
      "image/png": "[encoded data removed]",
      "text/plain": [
       "<Figure size 360x360 with 1 Axes>"
      ]
     },
     "metadata": {
      "needs_background": "light"
     },
     "output_type": "display_data"
    }
   ],
   "source": [
    "data['ur'] =  data['dered_u'] - data['dered_r']\n",
    "data['gr'] =  data['dered_g'] - data['dered_r']\n",
    "# Use the 'hue' argument to provide a factor variable\n",
    "sns.lmplot( x=\"ur\", y=\"gr\", data=data, fit_reg=False, hue='class', legend=False)\n",
    " \n",
    "# Move the legend to an empty part of the plot\n",
    "plt.legend(loc='lower right')\n",
    "\n",
    "plt.show()"
   ]
  },
  {
   "cell_type": "markdown",
   "metadata": {},
   "source": [
    "As seen by the graph above, colours (the difference in magnitude between 2 bands) gives no extra information."
   ]
  },
  {
   "cell_type": "markdown",
   "metadata": {},
   "source": [
    "## Training models"
   ]
  },
  {
   "cell_type": "code",
   "execution_count": 13,
   "metadata": {},
   "outputs": [],
   "source": [
    "from sklearn.model_selection import train_test_split\n",
    "\n",
    "X_train, X_test, y_train, y_test = train_test_split(X, y, \n",
    "                                                    test_size=0.3, random_state=42)"
   ]
  },
  {
   "cell_type": "code",
   "execution_count": 14,
   "metadata": {},
   "outputs": [],
   "source": [
    "from sklearn.linear_model import LinearRegression\n",
    "from sklearn.metrics import mean_squared_error\n",
    "\n",
    "LR = LinearRegression()\n",
    "\n",
    "# Storage for error values\n",
    "error_df = list()\n",
    "\n",
    "\n",
    "LR = LR.fit(X_train, y_train)\n",
    "y_train_pred = LR.predict(X_train)\n",
    "y_test_pred = LR.predict(X_test)\n",
    "\n",
    "error_df.append(pd.Series({'train': mean_squared_error(y_train, y_train_pred),\n",
    "                           'test' : mean_squared_error(y_test,  y_test_pred)}))\n"
   ]
  },
  {
   "cell_type": "code",
   "execution_count": 15,
   "metadata": {},
   "outputs": [
    {
     "data": {
      "text/plain": [
       "[train    0.063600\n",
       " test     0.061024\n",
       " dtype: float64]"
      ]
     },
     "execution_count": 15,
     "metadata": {},
     "output_type": "execute_result"
    }
   ],
   "source": [
    "error_df"
   ]
  },
  {
   "cell_type": "code",
   "execution_count": 16,
   "metadata": {},
   "outputs": [],
   "source": [
    "from sklearn.ensemble import RandomForestRegressor\n",
    "from sklearn.model_selection import GridSearchCV\n",
    "RF = RandomForestRegressor(random_state = 42)\n",
    "param_grid = {  'bootstrap': [True],\n",
    "                'max_features': ['log2'], \n",
    "                'n_estimators': range(1,400, 40)}\n",
    "\n",
    "rf= GridSearchCV(RF,\n",
    "                  param_grid=param_grid)\n",
    "\n",
    "# Train the model on training data\n",
    "rf.fit(X_train, y_train);\n",
    "predictions = rf.predict(X_test)\n"
   ]
  },
  {
   "cell_type": "code",
   "execution_count": 17,
   "metadata": {},
   "outputs": [
    {
     "data": {
      "text/plain": [
       "({'bootstrap': True, 'max_features': 'log2', 'n_estimators': 281},\n",
       " 0.28150518953963327)"
      ]
     },
     "execution_count": 17,
     "metadata": {},
     "output_type": "execute_result"
    }
   ],
   "source": [
    "rf.best_params_ ,rf.best_score_"
   ]
  },
  {
   "cell_type": "markdown",
   "metadata": {},
   "source": [
    "'bootstrap': True, 'max_features': 'log2', 'n_estimators': 121 best parameters of the random forest regressor. "
   ]
  },
  {
   "cell_type": "code",
   "execution_count": 18,
   "metadata": {},
   "outputs": [
    {
     "name": "stdout",
     "output_type": "stream",
     "text": [
      "Mean Square Error RF: 0.053\n"
     ]
    }
   ],
   "source": [
    "# Print out the mean square error\n",
    "print('Mean Square Error RF:', round(mean_squared_error(y_test, predictions), 3))"
   ]
  },
  {
   "cell_type": "code",
   "execution_count": 19,
   "metadata": {},
   "outputs": [
    {
     "name": "stdout",
     "output_type": "stream",
     "text": [
      "(14307,)\n",
      "Mean Square Error SDSS: 0.068\n"
     ]
    }
   ],
   "source": [
    "photozErr= data.loc[(data['photoZ'] >= 0.0)]['photoZ']\n",
    "sZ= data.loc[(data['photoZ'] >= 0.0)]['z']\n",
    "print(photozErr.shape)\n",
    "print('Mean Square Error SDSS:', round(mean_squared_error(sZ,photozErr), 3))"
   ]
  },
  {
   "cell_type": "markdown",
   "metadata": {},
   "source": [
    "The test error of the linear regression model is (mse) 0.0611 while we get an mse of 0.053 with randome forest classifier. To compare errors the mse from the difference between photometric redshift and spectroscopic redshift is 0.068. Here there are values of photoz of -999.0. This are the same as missing values so They are taken out of the calculation of mae."
   ]
  },
  {
   "cell_type": "markdown",
   "metadata": {},
   "source": [
    "## Adding spectral types\n",
    "\n",
    "This is to check if it would reduce the error on the ml determined redshifts."
   ]
  },
  {
   "cell_type": "code",
   "execution_count": 20,
   "metadata": {},
   "outputs": [],
   "source": [
    "def type_to_value(n):\n",
    "    if n == 'STAR':\n",
    "        return 1\n",
    "    elif n == 'QSO':\n",
    "        return 2\n",
    "    elif n == 'GALAXY':\n",
    "        return 3\n",
    "    \n",
    "\n",
    "data['nClass'] = [type_to_value(n) for n in data['class']]"
   ]
  },
  {
   "cell_type": "code",
   "execution_count": 21,
   "metadata": {},
   "outputs": [
    {
     "name": "stdout",
     "output_type": "stream",
     "text": [
      "       dered_u   dered_g   dered_r   dered_i   dered_z\n",
      "308   17.85225  16.61216  16.18669  16.04857  15.95690\n",
      "2207  19.19225  18.72476  18.20569  17.84718  17.65723\n",
      "3745  19.06015  18.82117  18.30181  17.90892  17.77618\n",
      "2784  18.98371  18.08911  22.18698  20.25719  25.28771\n",
      "162   19.04045  17.40755  16.72727  16.48128  16.37112\n"
     ]
    }
   ],
   "source": [
    "print(X.head())\n",
    "X['class'] = data['nClass']"
   ]
  },
  {
   "cell_type": "code",
   "execution_count": 22,
   "metadata": {},
   "outputs": [],
   "source": [
    "X_train, X_test, y_train, y_test = train_test_split(X, y, \n",
    "                                                    test_size=0.3, random_state=42)"
   ]
  },
  {
   "cell_type": "code",
   "execution_count": 23,
   "metadata": {},
   "outputs": [],
   "source": [
    "rf.fit(X_train, y_train);\n",
    "predictions_class = rf.predict(X_test)"
   ]
  },
  {
   "cell_type": "code",
   "execution_count": 24,
   "metadata": {
    "scrolled": true
   },
   "outputs": [
    {
     "name": "stdout",
     "output_type": "stream",
     "text": [
      "Mean Absolute Error RF with class: 0.034\n"
     ]
    }
   ],
   "source": [
    "errors_class = abs(predictions_class - y_test)\n",
    "# Print out the mean absolute error (mae)\n",
    "print('Mean Absolute Error RF with class:', round(np.mean(errors_class), 3))"
   ]
  },
  {
   "cell_type": "markdown",
   "metadata": {},
   "source": [
    "## Calculating class\n",
    "\n",
    "Errors were reduced with the spectra types. Now we check if ml determined classes can serve too."
   ]
  },
  {
   "cell_type": "code",
   "execution_count": 25,
   "metadata": {},
   "outputs": [
    {
     "name": "stdout",
     "output_type": "stream",
     "text": [
      "(15000, 5) (15000,) (15000, 6)\n"
     ]
    }
   ],
   "source": [
    "cols =  X.columns[:-1]\n",
    "new_X = X[cols]\n",
    "new_y = X['class']\n",
    "print(new_X.shape, new_y.shape, X.shape)"
   ]
  },
  {
   "cell_type": "code",
   "execution_count": 26,
   "metadata": {},
   "outputs": [],
   "source": [
    "from sklearn.model_selection import StratifiedShuffleSplit\n",
    "\n",
    "strat_shuf_split = StratifiedShuffleSplit(n_splits=3, \n",
    "                                          test_size=0.3, \n",
    "                                          random_state=42)\n",
    "\n",
    "train_idx, test_idx = next(strat_shuf_split.split(new_X,new_y))\n",
    "\n",
    "\n",
    "X_train_cl = new_X.iloc[train_idx]\n",
    "y_train_cl = new_y.iloc[train_idx]\n",
    "X_test_cl  = new_X.iloc[test_idx]\n",
    "y_test_cl  = new_y.iloc[test_idx]"
   ]
  },
  {
   "cell_type": "code",
   "execution_count": 27,
   "metadata": {},
   "outputs": [],
   "source": [
    "from sklearn.preprocessing import MinMaxScaler\n",
    "mm = MinMaxScaler() \n",
    "X_train_cl= mm.fit_transform(X_train_cl) \n",
    "X_test_cl= mm.transform(X_test_cl)"
   ]
  },
  {
   "cell_type": "code",
   "execution_count": 28,
   "metadata": {},
   "outputs": [],
   "source": [
    "from sklearn.ensemble import RandomForestClassifier\n",
    "from sklearn.model_selection import GridSearchCV\n",
    "\n",
    "\n",
    "\n",
    "RF = RandomForestClassifier(n_estimators = 341,\n",
    "                            oob_score=True, \n",
    "                            random_state=42, \n",
    "                            warm_start=True,\n",
    "                            n_jobs=-1)\n",
    "\n",
    "\n",
    "rfc = RF.fit(X_train_cl, y_train_cl)"
   ]
  },
  {
   "cell_type": "code",
   "execution_count": 29,
   "metadata": {},
   "outputs": [
    {
     "name": "stdout",
     "output_type": "stream",
     "text": [
      "              precision    recall  f1-score   support\n",
      "\n",
      "           1       0.93      0.90      0.91      1500\n",
      "           2       0.94      0.90      0.92      1500\n",
      "           3       0.86      0.93      0.89      1500\n",
      "\n",
      "    accuracy                           0.91      4500\n",
      "   macro avg       0.91      0.91      0.91      4500\n",
      "weighted avg       0.91      0.91      0.91      4500\n",
      "\n"
     ]
    }
   ],
   "source": [
    "from sklearn.metrics import classification_report\n",
    "\n",
    "y_pred_rf = rfc.predict(X_test_cl)\n",
    "cr = classification_report(y_test_cl, y_pred_rf)\n",
    "print(cr)"
   ]
  },
  {
   "cell_type": "code",
   "execution_count": 30,
   "metadata": {},
   "outputs": [
    {
     "data": {
      "text/plain": [
       "(15000,)"
      ]
     },
     "execution_count": 30,
     "metadata": {},
     "output_type": "execute_result"
    }
   ],
   "source": [
    "y_class = rfc.predict(new_X)\n",
    "y_class.shape"
   ]
  },
  {
   "cell_type": "code",
   "execution_count": 31,
   "metadata": {},
   "outputs": [
    {
     "data": {
      "text/html": [
       "<div>\n",
       "<style scoped>\n",
       "    .dataframe tbody tr th:only-of-type {\n",
       "        vertical-align: middle;\n",
       "    }\n",
       "\n",
       "    .dataframe tbody tr th {\n",
       "        vertical-align: top;\n",
       "    }\n",
       "\n",
       "    .dataframe thead th {\n",
       "        text-align: right;\n",
       "    }\n",
       "</style>\n",
       "<table border=\"1\" class=\"dataframe\">\n",
       "  <thead>\n",
       "    <tr style=\"text-align: right;\">\n",
       "      <th></th>\n",
       "      <th>dered_u</th>\n",
       "      <th>dered_g</th>\n",
       "      <th>dered_r</th>\n",
       "      <th>dered_i</th>\n",
       "      <th>dered_z</th>\n",
       "      <th>nclass</th>\n",
       "    </tr>\n",
       "  </thead>\n",
       "  <tbody>\n",
       "    <tr>\n",
       "      <th>308</th>\n",
       "      <td>17.85225</td>\n",
       "      <td>16.61216</td>\n",
       "      <td>16.18669</td>\n",
       "      <td>16.04857</td>\n",
       "      <td>15.95690</td>\n",
       "      <td>1</td>\n",
       "    </tr>\n",
       "    <tr>\n",
       "      <th>2207</th>\n",
       "      <td>19.19225</td>\n",
       "      <td>18.72476</td>\n",
       "      <td>18.20569</td>\n",
       "      <td>17.84718</td>\n",
       "      <td>17.65723</td>\n",
       "      <td>1</td>\n",
       "    </tr>\n",
       "    <tr>\n",
       "      <th>3745</th>\n",
       "      <td>19.06015</td>\n",
       "      <td>18.82117</td>\n",
       "      <td>18.30181</td>\n",
       "      <td>17.90892</td>\n",
       "      <td>17.77618</td>\n",
       "      <td>1</td>\n",
       "    </tr>\n",
       "    <tr>\n",
       "      <th>2784</th>\n",
       "      <td>18.98371</td>\n",
       "      <td>18.08911</td>\n",
       "      <td>22.18698</td>\n",
       "      <td>20.25719</td>\n",
       "      <td>25.28771</td>\n",
       "      <td>1</td>\n",
       "    </tr>\n",
       "    <tr>\n",
       "      <th>162</th>\n",
       "      <td>19.04045</td>\n",
       "      <td>17.40755</td>\n",
       "      <td>16.72727</td>\n",
       "      <td>16.48128</td>\n",
       "      <td>16.37112</td>\n",
       "      <td>1</td>\n",
       "    </tr>\n",
       "  </tbody>\n",
       "</table>\n",
       "</div>"
      ],
      "text/plain": [
       "       dered_u   dered_g   dered_r   dered_i   dered_z  nclass\n",
       "308   17.85225  16.61216  16.18669  16.04857  15.95690       1\n",
       "2207  19.19225  18.72476  18.20569  17.84718  17.65723       1\n",
       "3745  19.06015  18.82117  18.30181  17.90892  17.77618       1\n",
       "2784  18.98371  18.08911  22.18698  20.25719  25.28771       1\n",
       "162   19.04045  17.40755  16.72727  16.48128  16.37112       1"
      ]
     },
     "execution_count": 31,
     "metadata": {},
     "output_type": "execute_result"
    }
   ],
   "source": [
    "X_class = X.drop(['class'], axis =1)\n",
    "X_class['nclass'] = y_class\n",
    "X_class.head()"
   ]
  },
  {
   "cell_type": "code",
   "execution_count": 32,
   "metadata": {},
   "outputs": [],
   "source": [
    "\n",
    "X_train_cc = X_class.iloc[train_idx]\n",
    "y_train_cc = y.iloc[train_idx]\n",
    "X_test_cc  = X_class.iloc[test_idx]\n",
    "y_test_cc  = y.iloc[test_idx]\n",
    "\n",
    "X_train_cc= mm.fit_transform(X_train_cc) \n",
    "X_test_cc= mm.transform(X_test_cc)"
   ]
  },
  {
   "cell_type": "code",
   "execution_count": 33,
   "metadata": {},
   "outputs": [],
   "source": [
    "rf.fit(X_train_cc, y_train_cc);\n",
    "predictions_c = rf.predict(X_test_cc)\n",
    "\n"
   ]
  },
  {
   "cell_type": "code",
   "execution_count": 34,
   "metadata": {},
   "outputs": [
    {
     "name": "stdout",
     "output_type": "stream",
     "text": [
      "Mean Square Error RF with estimated class: 0.093\n"
     ]
    }
   ],
   "source": [
    "# Print out the mean absolute error (mae)\n",
    "print('Mean Square Error RF with estimated class:', round(mean_squared_error(y_test, predictions_c), 3))"
   ]
  },
  {
   "cell_type": "code",
   "execution_count": 35,
   "metadata": {},
   "outputs": [
    {
     "data": {
      "text/plain": [
       "({'bootstrap': True, 'max_features': 'log2', 'n_estimators': 241},\n",
       " 0.29689011117585357)"
      ]
     },
     "execution_count": 35,
     "metadata": {},
     "output_type": "execute_result"
    }
   ],
   "source": [
    "rf.best_params_ ,rf.best_score_"
   ]
  },
  {
   "cell_type": "markdown",
   "metadata": {},
   "source": [
    "## Conclusion\n",
    "\n",
    "I was able to improve on the accuracy of the SDSS photometric redshift slightly; 0.053 against the 0.068 of the SDSS. Also to note is that the redshift was calculated for all 15000 sources. The SDSS has photometry for 14307 of those 15000.\n",
    "\n",
    "Using the spectra clasification, the means square error was reduced to 0.034. But using estimated classes yielded an error of 0.093. \n",
    "\n",
    "Better estimation of the classes might help reduce the errors on the estimation of redshifts. Also, once since missing from my estimated redshift is an estimation of the errors without the use of the spectral redshift."
   ]
  },
  {
   "cell_type": "code",
   "execution_count": null,
   "metadata": {},
   "outputs": [],
   "source": []
  }
 ],
 "metadata": {
  "kernelspec": {
   "display_name": "Python 3",
   "language": "python",
   "name": "python3"
  },
  "language_info": {
   "codemirror_mode": {
    "name": "ipython",
    "version": 3
   },
   "file_extension": ".py",
   "mimetype": "text/x-python",
   "name": "python",
   "nbconvert_exporter": "python",
   "pygments_lexer": "ipython3",
   "version": "3.7.6"
  }
 },
 "nbformat": 4,
 "nbformat_minor": 4
}
