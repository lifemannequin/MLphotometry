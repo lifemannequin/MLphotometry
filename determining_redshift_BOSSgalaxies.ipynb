{
 "cells": [
  {
   "cell_type": "markdown",
   "metadata": {},
   "source": [
    "# Introduction"
   ]
  },
  {
   "cell_type": "markdown",
   "metadata": {},
   "source": [
    "I try to address here the issue thatRandom Forest does poorly with the faint red galaxies targeted in the Baryon Oscillation Spectroscopic Survey (BOSS). \n",
    "\n",
    "I used their target selection query in the SDSS skyserver and obtained 5000 galaxies.\n",
    "\n",
    "SELECT TOP 5000 \n",
    "p.objID, p.dered_u, p.err_u, p.dered_g, p.err_g, p.dered_r, p.err_r, p.dered_i, p.err_i,\n",
    "p.dered_z, p.err_z, s.specObjID, s.z , s.zErr, u.z as photoZ, u.zErr as photoErr\n",
    "FROM photoprimary as p\n",
    "inner join specObjAll as s on p.objID = s.bestObjID\n",
    "inner join Photoz as u ON p.objID = u.objID\n",
    "WHERE\n",
    "(dered_r-dered_i) < 2 AND\n",
    "cmodelmag_i-extinction_i BETWEEN 17.5 AND 19.9 AND\n",
    "(dered_r-dered_i) - (dered_g-dered_r)/8. > 0.55 AND\n",
    "fiber2mag_i < 21.7 AND devrad_i < 20. AND\n",
    "dered_i < 19.86 + 1.60*((dered_r-dered_i) - (dered_g-dered_r)/8. - 0.80) AND\n",
    "s.class = 'GALAXY'"
   ]
  },
  {
   "cell_type": "code",
   "execution_count": 1,
   "metadata": {},
   "outputs": [],
   "source": [
    "import os\n",
    "import numpy as np\n",
    "import pandas as pd\n",
    "from pandas.plotting import table\n",
    "import seaborn as sns\n",
    "import matplotlib.pyplot as plt\n",
    "from scipy import stats\n",
    "sns.set()\n",
    "%matplotlib inline"
   ]
  },
  {
   "cell_type": "markdown",
   "metadata": {},
   "source": [
    "## Loading data and some EDA"
   ]
  },
  {
   "cell_type": "code",
   "execution_count": 2,
   "metadata": {},
   "outputs": [],
   "source": [
    "filepath= \"/home/veroastro/Documents/spectraTypes/data/BOSS/\"\n",
    "data = pd.read_csv(filepath+\"BOSS_Skyserver_SQL2_21_2022 4_34_07 PM.csv\")\n"
   ]
  },
  {
   "cell_type": "code",
   "execution_count": 3,
   "metadata": {},
   "outputs": [
    {
     "data": {
      "text/html": [
       "<div>\n",
       "<style scoped>\n",
       "    .dataframe tbody tr th:only-of-type {\n",
       "        vertical-align: middle;\n",
       "    }\n",
       "\n",
       "    .dataframe tbody tr th {\n",
       "        vertical-align: top;\n",
       "    }\n",
       "\n",
       "    .dataframe thead th {\n",
       "        text-align: right;\n",
       "    }\n",
       "</style>\n",
       "<table border=\"1\" class=\"dataframe\">\n",
       "  <thead>\n",
       "    <tr style=\"text-align: right;\">\n",
       "      <th></th>\n",
       "      <th>objID</th>\n",
       "      <th>dered_u</th>\n",
       "      <th>err_u</th>\n",
       "      <th>dered_g</th>\n",
       "      <th>err_g</th>\n",
       "      <th>dered_r</th>\n",
       "      <th>err_r</th>\n",
       "      <th>dered_i</th>\n",
       "      <th>err_i</th>\n",
       "      <th>dered_z</th>\n",
       "      <th>err_z</th>\n",
       "      <th>specObjID</th>\n",
       "      <th>z</th>\n",
       "      <th>zErr</th>\n",
       "      <th>photoZ</th>\n",
       "      <th>photoErr</th>\n",
       "      <th>class</th>\n",
       "    </tr>\n",
       "  </thead>\n",
       "  <tbody>\n",
       "    <tr>\n",
       "      <th>1623</th>\n",
       "      <td>1237661852547219646</td>\n",
       "      <td>24.69992</td>\n",
       "      <td>1.631441</td>\n",
       "      <td>21.98011</td>\n",
       "      <td>0.114241</td>\n",
       "      <td>20.05033</td>\n",
       "      <td>0.031351</td>\n",
       "      <td>19.15514</td>\n",
       "      <td>0.022078</td>\n",
       "      <td>19.05764</td>\n",
       "      <td>0.074394</td>\n",
       "      <td>7457997099055208448</td>\n",
       "      <td>0.463306</td>\n",
       "      <td>0.000127</td>\n",
       "      <td>0.465259</td>\n",
       "      <td>0.044653</td>\n",
       "      <td>GALAXY</td>\n",
       "    </tr>\n",
       "    <tr>\n",
       "      <th>4943</th>\n",
       "      <td>1237678906255475102</td>\n",
       "      <td>24.40717</td>\n",
       "      <td>2.661203</td>\n",
       "      <td>22.98372</td>\n",
       "      <td>0.507767</td>\n",
       "      <td>20.65255</td>\n",
       "      <td>0.107135</td>\n",
       "      <td>19.47228</td>\n",
       "      <td>0.051514</td>\n",
       "      <td>18.79271</td>\n",
       "      <td>0.106028</td>\n",
       "      <td>5126427153580447744</td>\n",
       "      <td>0.606946</td>\n",
       "      <td>0.000292</td>\n",
       "      <td>0.626803</td>\n",
       "      <td>0.036203</td>\n",
       "      <td>GALAXY</td>\n",
       "    </tr>\n",
       "    <tr>\n",
       "      <th>855</th>\n",
       "      <td>1237655465384740013</td>\n",
       "      <td>23.06813</td>\n",
       "      <td>0.751502</td>\n",
       "      <td>22.72178</td>\n",
       "      <td>0.248014</td>\n",
       "      <td>20.99964</td>\n",
       "      <td>0.083169</td>\n",
       "      <td>19.71450</td>\n",
       "      <td>0.043041</td>\n",
       "      <td>19.06175</td>\n",
       "      <td>0.087968</td>\n",
       "      <td>7665278681364060160</td>\n",
       "      <td>0.638134</td>\n",
       "      <td>0.000160</td>\n",
       "      <td>0.686860</td>\n",
       "      <td>0.054512</td>\n",
       "      <td>GALAXY</td>\n",
       "    </tr>\n",
       "    <tr>\n",
       "      <th>1545</th>\n",
       "      <td>1237661385992110716</td>\n",
       "      <td>22.20933</td>\n",
       "      <td>0.355350</td>\n",
       "      <td>22.92433</td>\n",
       "      <td>0.351393</td>\n",
       "      <td>21.34225</td>\n",
       "      <td>0.119949</td>\n",
       "      <td>19.96121</td>\n",
       "      <td>0.050977</td>\n",
       "      <td>19.29204</td>\n",
       "      <td>0.097708</td>\n",
       "      <td>7686600960354048000</td>\n",
       "      <td>0.727923</td>\n",
       "      <td>0.000247</td>\n",
       "      <td>0.735613</td>\n",
       "      <td>0.053005</td>\n",
       "      <td>GALAXY</td>\n",
       "    </tr>\n",
       "    <tr>\n",
       "      <th>2613</th>\n",
       "      <td>1237654627321840603</td>\n",
       "      <td>22.78263</td>\n",
       "      <td>0.674923</td>\n",
       "      <td>21.87284</td>\n",
       "      <td>0.148688</td>\n",
       "      <td>20.24386</td>\n",
       "      <td>0.057256</td>\n",
       "      <td>19.34087</td>\n",
       "      <td>0.037376</td>\n",
       "      <td>18.97801</td>\n",
       "      <td>0.116966</td>\n",
       "      <td>5017152739421214720</td>\n",
       "      <td>0.526365</td>\n",
       "      <td>0.000239</td>\n",
       "      <td>0.509405</td>\n",
       "      <td>0.033041</td>\n",
       "      <td>GALAXY</td>\n",
       "    </tr>\n",
       "  </tbody>\n",
       "</table>\n",
       "</div>"
      ],
      "text/plain": [
       "                    objID   dered_u     err_u   dered_g     err_g   dered_r  \\\n",
       "1623  1237661852547219646  24.69992  1.631441  21.98011  0.114241  20.05033   \n",
       "4943  1237678906255475102  24.40717  2.661203  22.98372  0.507767  20.65255   \n",
       "855   1237655465384740013  23.06813  0.751502  22.72178  0.248014  20.99964   \n",
       "1545  1237661385992110716  22.20933  0.355350  22.92433  0.351393  21.34225   \n",
       "2613  1237654627321840603  22.78263  0.674923  21.87284  0.148688  20.24386   \n",
       "\n",
       "         err_r   dered_i     err_i   dered_z     err_z            specObjID  \\\n",
       "1623  0.031351  19.15514  0.022078  19.05764  0.074394  7457997099055208448   \n",
       "4943  0.107135  19.47228  0.051514  18.79271  0.106028  5126427153580447744   \n",
       "855   0.083169  19.71450  0.043041  19.06175  0.087968  7665278681364060160   \n",
       "1545  0.119949  19.96121  0.050977  19.29204  0.097708  7686600960354048000   \n",
       "2613  0.057256  19.34087  0.037376  18.97801  0.116966  5017152739421214720   \n",
       "\n",
       "             z      zErr    photoZ  photoErr   class  \n",
       "1623  0.463306  0.000127  0.465259  0.044653  GALAXY  \n",
       "4943  0.606946  0.000292  0.626803  0.036203  GALAXY  \n",
       "855   0.638134  0.000160  0.686860  0.054512  GALAXY  \n",
       "1545  0.727923  0.000247  0.735613  0.053005  GALAXY  \n",
       "2613  0.526365  0.000239  0.509405  0.033041  GALAXY  "
      ]
     },
     "execution_count": 3,
     "metadata": {},
     "output_type": "execute_result"
    }
   ],
   "source": [
    "\n",
    "#Scramble the data set so that it is not ordered by spectral class (QSO, galaxy or star) \n",
    "data = data.sample(frac=1)\n",
    "\n",
    "data.head()"
   ]
  },
  {
   "cell_type": "code",
   "execution_count": 29,
   "metadata": {},
   "outputs": [
    {
     "name": "stdout",
     "output_type": "stream",
     "text": [
      "Mean photoError: 0.04\n"
     ]
    }
   ],
   "source": [
    "photoz= data.loc[(data['photoZ'] >= 0.0)]['photoZ']\n",
    "photozErr = data.loc[(data['photoZ'] >= 0.0)]['photoErr']\n",
    "\n",
    "print('Mean photoError:', round(np.mean(photozErr), 3))"
   ]
  },
  {
   "cell_type": "code",
   "execution_count": 30,
   "metadata": {},
   "outputs": [
    {
     "data": {
      "text/plain": [
       "count    4983.000000\n",
       "mean        0.039939\n",
       "std         0.020661\n",
       "min         0.011766\n",
       "25%         0.028309\n",
       "50%         0.034625\n",
       "75%         0.044654\n",
       "max         0.183876\n",
       "Name: photoErr, dtype: float64"
      ]
     },
     "execution_count": 30,
     "metadata": {},
     "output_type": "execute_result"
    }
   ],
   "source": [
    "photozErr.describe()"
   ]
  },
  {
   "cell_type": "code",
   "execution_count": 6,
   "metadata": {},
   "outputs": [
    {
     "name": "stdout",
     "output_type": "stream",
     "text": [
      "Mean specError: 0.0008\n"
     ]
    }
   ],
   "source": [
    "print('Mean specError:', round(np.mean(data['zErr']), 4))"
   ]
  },
  {
   "cell_type": "markdown",
   "metadata": {},
   "source": [
    "The mean value of the spectroscopic errors is 0.0008  while the mean value of the photometric errors is 0.04."
   ]
  },
  {
   "cell_type": "code",
   "execution_count": 8,
   "metadata": {},
   "outputs": [
    {
     "data": {
      "text/html": [
       "<div>\n",
       "<style scoped>\n",
       "    .dataframe tbody tr th:only-of-type {\n",
       "        vertical-align: middle;\n",
       "    }\n",
       "\n",
       "    .dataframe tbody tr th {\n",
       "        vertical-align: top;\n",
       "    }\n",
       "\n",
       "    .dataframe thead th {\n",
       "        text-align: right;\n",
       "    }\n",
       "</style>\n",
       "<table border=\"1\" class=\"dataframe\">\n",
       "  <thead>\n",
       "    <tr style=\"text-align: right;\">\n",
       "      <th></th>\n",
       "      <th>dered_u</th>\n",
       "      <th>dered_g</th>\n",
       "      <th>dered_r</th>\n",
       "      <th>dered_i</th>\n",
       "      <th>dered_z</th>\n",
       "      <th>z</th>\n",
       "    </tr>\n",
       "  </thead>\n",
       "  <tbody>\n",
       "    <tr>\n",
       "      <th>1623</th>\n",
       "      <td>24.69992</td>\n",
       "      <td>21.98011</td>\n",
       "      <td>20.05033</td>\n",
       "      <td>19.15514</td>\n",
       "      <td>19.05764</td>\n",
       "      <td>0.463306</td>\n",
       "    </tr>\n",
       "    <tr>\n",
       "      <th>4943</th>\n",
       "      <td>24.40717</td>\n",
       "      <td>22.98372</td>\n",
       "      <td>20.65255</td>\n",
       "      <td>19.47228</td>\n",
       "      <td>18.79271</td>\n",
       "      <td>0.606946</td>\n",
       "    </tr>\n",
       "    <tr>\n",
       "      <th>855</th>\n",
       "      <td>23.06813</td>\n",
       "      <td>22.72178</td>\n",
       "      <td>20.99964</td>\n",
       "      <td>19.71450</td>\n",
       "      <td>19.06175</td>\n",
       "      <td>0.638134</td>\n",
       "    </tr>\n",
       "    <tr>\n",
       "      <th>1545</th>\n",
       "      <td>22.20933</td>\n",
       "      <td>22.92433</td>\n",
       "      <td>21.34225</td>\n",
       "      <td>19.96121</td>\n",
       "      <td>19.29204</td>\n",
       "      <td>0.727923</td>\n",
       "    </tr>\n",
       "    <tr>\n",
       "      <th>2613</th>\n",
       "      <td>22.78263</td>\n",
       "      <td>21.87284</td>\n",
       "      <td>20.24386</td>\n",
       "      <td>19.34087</td>\n",
       "      <td>18.97801</td>\n",
       "      <td>0.526365</td>\n",
       "    </tr>\n",
       "  </tbody>\n",
       "</table>\n",
       "</div>"
      ],
      "text/plain": [
       "       dered_u   dered_g   dered_r   dered_i   dered_z         z\n",
       "1623  24.69992  21.98011  20.05033  19.15514  19.05764  0.463306\n",
       "4943  24.40717  22.98372  20.65255  19.47228  18.79271  0.606946\n",
       "855   23.06813  22.72178  20.99964  19.71450  19.06175  0.638134\n",
       "1545  22.20933  22.92433  21.34225  19.96121  19.29204  0.727923\n",
       "2613  22.78263  21.87284  20.24386  19.34087  18.97801  0.526365"
      ]
     },
     "execution_count": 8,
     "metadata": {},
     "output_type": "execute_result"
    }
   ],
   "source": [
    "\n",
    "data_clean = data.drop(columns=['specObjID','objID','err_u', 'err_g', 'err_r', 'err_i', 'err_z', 'zErr', 'class', 'photoZ','photoErr'])\n",
    "data_clean.head()"
   ]
  },
  {
   "cell_type": "code",
   "execution_count": 9,
   "metadata": {},
   "outputs": [
    {
     "data": {
      "text/html": [
       "<div>\n",
       "<style scoped>\n",
       "    .dataframe tbody tr th:only-of-type {\n",
       "        vertical-align: middle;\n",
       "    }\n",
       "\n",
       "    .dataframe tbody tr th {\n",
       "        vertical-align: top;\n",
       "    }\n",
       "\n",
       "    .dataframe thead th {\n",
       "        text-align: right;\n",
       "    }\n",
       "</style>\n",
       "<table border=\"1\" class=\"dataframe\">\n",
       "  <thead>\n",
       "    <tr style=\"text-align: right;\">\n",
       "      <th></th>\n",
       "      <th>dered_u</th>\n",
       "      <th>dered_g</th>\n",
       "      <th>dered_r</th>\n",
       "      <th>dered_i</th>\n",
       "      <th>dered_z</th>\n",
       "      <th>z</th>\n",
       "    </tr>\n",
       "  </thead>\n",
       "  <tbody>\n",
       "    <tr>\n",
       "      <th>count</th>\n",
       "      <td>5000.000000</td>\n",
       "      <td>5000.000000</td>\n",
       "      <td>5000.000000</td>\n",
       "      <td>5000.000000</td>\n",
       "      <td>5000.000000</td>\n",
       "      <td>5000.000000</td>\n",
       "    </tr>\n",
       "    <tr>\n",
       "      <th>mean</th>\n",
       "      <td>23.834475</td>\n",
       "      <td>21.943148</td>\n",
       "      <td>20.322268</td>\n",
       "      <td>19.342420</td>\n",
       "      <td>18.910253</td>\n",
       "      <td>0.541412</td>\n",
       "    </tr>\n",
       "    <tr>\n",
       "      <th>std</th>\n",
       "      <td>1.369289</td>\n",
       "      <td>0.621962</td>\n",
       "      <td>0.480349</td>\n",
       "      <td>0.387342</td>\n",
       "      <td>0.432116</td>\n",
       "      <td>0.094767</td>\n",
       "    </tr>\n",
       "    <tr>\n",
       "      <th>min</th>\n",
       "      <td>18.986700</td>\n",
       "      <td>18.893880</td>\n",
       "      <td>18.313660</td>\n",
       "      <td>17.610480</td>\n",
       "      <td>17.263830</td>\n",
       "      <td>-0.000096</td>\n",
       "    </tr>\n",
       "    <tr>\n",
       "      <th>25%</th>\n",
       "      <td>22.767792</td>\n",
       "      <td>21.553583</td>\n",
       "      <td>20.020547</td>\n",
       "      <td>19.128835</td>\n",
       "      <td>18.672770</td>\n",
       "      <td>0.491005</td>\n",
       "    </tr>\n",
       "    <tr>\n",
       "      <th>50%</th>\n",
       "      <td>23.675530</td>\n",
       "      <td>21.938810</td>\n",
       "      <td>20.330020</td>\n",
       "      <td>19.388225</td>\n",
       "      <td>18.937880</td>\n",
       "      <td>0.538671</td>\n",
       "    </tr>\n",
       "    <tr>\n",
       "      <th>75%</th>\n",
       "      <td>24.899745</td>\n",
       "      <td>22.306520</td>\n",
       "      <td>20.656827</td>\n",
       "      <td>19.606503</td>\n",
       "      <td>19.179132</td>\n",
       "      <td>0.595522</td>\n",
       "    </tr>\n",
       "    <tr>\n",
       "      <th>max</th>\n",
       "      <td>28.077370</td>\n",
       "      <td>24.917370</td>\n",
       "      <td>22.267660</td>\n",
       "      <td>20.487410</td>\n",
       "      <td>22.965390</td>\n",
       "      <td>0.994879</td>\n",
       "    </tr>\n",
       "  </tbody>\n",
       "</table>\n",
       "</div>"
      ],
      "text/plain": [
       "           dered_u      dered_g      dered_r      dered_i      dered_z  \\\n",
       "count  5000.000000  5000.000000  5000.000000  5000.000000  5000.000000   \n",
       "mean     23.834475    21.943148    20.322268    19.342420    18.910253   \n",
       "std       1.369289     0.621962     0.480349     0.387342     0.432116   \n",
       "min      18.986700    18.893880    18.313660    17.610480    17.263830   \n",
       "25%      22.767792    21.553583    20.020547    19.128835    18.672770   \n",
       "50%      23.675530    21.938810    20.330020    19.388225    18.937880   \n",
       "75%      24.899745    22.306520    20.656827    19.606503    19.179132   \n",
       "max      28.077370    24.917370    22.267660    20.487410    22.965390   \n",
       "\n",
       "                 z  \n",
       "count  5000.000000  \n",
       "mean      0.541412  \n",
       "std       0.094767  \n",
       "min      -0.000096  \n",
       "25%       0.491005  \n",
       "50%       0.538671  \n",
       "75%       0.595522  \n",
       "max       0.994879  "
      ]
     },
     "execution_count": 9,
     "metadata": {},
     "output_type": "execute_result"
    }
   ],
   "source": [
    "data_clean.describe()"
   ]
  },
  {
   "cell_type": "code",
   "execution_count": 10,
   "metadata": {},
   "outputs": [],
   "source": [
    "def hist_plots( data: pd.DataFrame,\n",
    "               rows: int,\n",
    "              cols: int,\n",
    "              figsize: tuple):\n",
    "    fig, axes = plt.subplots(rows,cols, figsize=figsize)\n",
    "    for i, ax in enumerate(axes.flatten()):\n",
    "        if i < len(data.columns):\n",
    "            data[sorted(data.columns)[i]].plot.hist(bins=30, ax=ax)\n",
    "            ax.set_title(f'{sorted(data.columns)[i]} distribution', fontsize=10)\n",
    "            ax.tick_params(axis='x', labelsize=10)\n",
    "            ax.tick_params(axis='y', labelsize=10)\n",
    "            ax.get_yaxis().get_label().set_visible(False)\n",
    "        else:\n",
    "            fig.delaxes(ax=ax)\n",
    "    fig.tight_layout()"
   ]
  },
  {
   "cell_type": "code",
   "execution_count": 11,
   "metadata": {},
   "outputs": [
    {
     "data": {
      "image/png": "[encoded data removed]",
      "text/plain": [
       "<Figure size 1440x720 with 6 Axes>"
      ]
     },
     "metadata": {
      "needs_background": "light"
     },
     "output_type": "display_data"
    }
   ],
   "source": [
    "#plots histograms of the column in the dataset\n",
    "hist_plots(data=data_clean,\n",
    "          rows=2,\n",
    "          cols=4,\n",
    "          figsize=(20,10))\n",
    "#plt.savefig(filepath+'images/zhistplot.png')"
   ]
  },
  {
   "cell_type": "markdown",
   "metadata": {},
   "source": [
    "The magnitudes of the bands are in the interquartile ranges (25-75%) between 16-18. The fainter (higher value) sources are mostly outliers of the destributions. Since the distributions are fairly bright, I decided to keep them."
   ]
  },
  {
   "cell_type": "code",
   "execution_count": 12,
   "metadata": {},
   "outputs": [],
   "source": [
    "# Creates the X with the atributes and y with the values to determine\n",
    "cols= data_clean.columns[:-1]\n",
    "X = data_clean[cols]\n",
    "y = data_clean['z']\n"
   ]
  },
  {
   "cell_type": "markdown",
   "metadata": {},
   "source": [
    "As seen by the graph above, colours (the difference in magnitude between 2 bands) gives no extra information."
   ]
  },
  {
   "cell_type": "markdown",
   "metadata": {},
   "source": [
    "## Training models"
   ]
  },
  {
   "cell_type": "code",
   "execution_count": 13,
   "metadata": {},
   "outputs": [],
   "source": [
    "from sklearn.model_selection import train_test_split\n",
    "# Split the dataset into training and test set\n",
    "X_train, X_test, y_train, y_test = train_test_split(X, y, \n",
    "                                                    test_size=0.3, random_state=42)"
   ]
  },
  {
   "cell_type": "code",
   "execution_count": 14,
   "metadata": {},
   "outputs": [],
   "source": [
    "from sklearn.linear_model import LinearRegression\n",
    "from sklearn.metrics import mean_squared_error\n",
    "\n",
    "LR = LinearRegression()\n",
    "\n",
    "# Storage for error values\n",
    "error_df = list()\n",
    "\n",
    "\n",
    "LR = LR.fit(X_train, y_train)\n",
    "y_train_pred = LR.predict(X_train)\n",
    "y_test_pred = LR.predict(X_test)\n",
    "\n",
    "error_df.append(pd.Series({'train': mean_squared_error(y_train, y_train_pred),\n",
    "                           'test' : mean_squared_error(y_test,  y_test_pred)}))\n"
   ]
  },
  {
   "cell_type": "code",
   "execution_count": 15,
   "metadata": {},
   "outputs": [
    {
     "data": {
      "text/plain": [
       "[train    0.004725\n",
       " test     0.005599\n",
       " dtype: float64]"
      ]
     },
     "execution_count": 15,
     "metadata": {},
     "output_type": "execute_result"
    }
   ],
   "source": [
    "error_df"
   ]
  },
  {
   "cell_type": "code",
   "execution_count": 16,
   "metadata": {},
   "outputs": [],
   "source": [
    "from sklearn.ensemble import RandomForestRegressor\n",
    "from sklearn.model_selection import GridSearchCV\n",
    "\n",
    "RF = RandomForestRegressor(random_state = 42)\n",
    "\n",
    "param_grid = {  'bootstrap': [True],\n",
    "                'max_features': ['log2'], \n",
    "                'n_estimators': range(1,400, 40)}\n",
    "\n",
    "rf= GridSearchCV(RF,\n",
    "                   param_grid=param_grid)\n",
    "\n",
    "# Train the model on training data\n",
    "rf.fit(X_train, y_train);\n",
    "predictions = rf.predict(X_test)\n"
   ]
  },
  {
   "cell_type": "code",
   "execution_count": 17,
   "metadata": {},
   "outputs": [
    {
     "data": {
      "text/plain": [
       "({'bootstrap': True, 'max_features': 'log2', 'n_estimators': 361},\n",
       " 0.504053500262974)"
      ]
     },
     "execution_count": 17,
     "metadata": {},
     "output_type": "execute_result"
    }
   ],
   "source": [
    "rf.best_params_ ,rf.best_score_"
   ]
  },
  {
   "cell_type": "markdown",
   "metadata": {},
   "source": [
    "'bootstrap': True, 'max_features': 'log2', 'n_estimators': 121 best parameters of the random forest regressor. "
   ]
  },
  {
   "cell_type": "code",
   "execution_count": 25,
   "metadata": {},
   "outputs": [
    {
     "name": "stdout",
     "output_type": "stream",
     "text": [
      "Mean Square Error RF: 0.0049\n"
     ]
    }
   ],
   "source": [
    "# Print out the mean square error\n",
    "mse_me = mean_squared_error(y_test, predictions)\n",
    "print('Mean Square Error RF:', round(mean_squared_error(y_test, predictions), 4))"
   ]
  },
  {
   "cell_type": "code",
   "execution_count": 26,
   "metadata": {},
   "outputs": [
    {
     "name": "stdout",
     "output_type": "stream",
     "text": [
      "(4983,)\n",
      "Mean Square Error SDSS: 0.0046\n"
     ]
    }
   ],
   "source": [
    "photoz= data.loc[(data['photoZ'] >= 0.0)]['photoZ']\n",
    "sZ= data.loc[(data['photoZ'] >= 0.0)]['z']\n",
    "print(photozErr.shape)\n",
    "print('Mean Square Error SDSS:', round(mean_squared_error(sZ,photoz), 4))"
   ]
  },
  {
   "cell_type": "code",
   "execution_count": 38,
   "metadata": {},
   "outputs": [
    {
     "data": {
      "text/html": [
       "<div>\n",
       "<style scoped>\n",
       "    .dataframe tbody tr th:only-of-type {\n",
       "        vertical-align: middle;\n",
       "    }\n",
       "\n",
       "    .dataframe tbody tr th {\n",
       "        vertical-align: top;\n",
       "    }\n",
       "\n",
       "    .dataframe thead th {\n",
       "        text-align: right;\n",
       "    }\n",
       "</style>\n",
       "<table border=\"1\" class=\"dataframe\">\n",
       "  <thead>\n",
       "    <tr style=\"text-align: right;\">\n",
       "      <th></th>\n",
       "      <th>objID</th>\n",
       "      <th>dered_u</th>\n",
       "      <th>err_u</th>\n",
       "      <th>dered_g</th>\n",
       "      <th>err_g</th>\n",
       "      <th>dered_r</th>\n",
       "      <th>err_r</th>\n",
       "      <th>dered_i</th>\n",
       "      <th>err_i</th>\n",
       "      <th>dered_z</th>\n",
       "      <th>err_z</th>\n",
       "      <th>specObjID</th>\n",
       "      <th>z</th>\n",
       "      <th>zErr</th>\n",
       "      <th>photoZ</th>\n",
       "      <th>photoErr</th>\n",
       "      <th>class</th>\n",
       "      <th>pred</th>\n",
       "      <th>pred_err</th>\n",
       "    </tr>\n",
       "  </thead>\n",
       "  <tbody>\n",
       "    <tr>\n",
       "      <th>3314</th>\n",
       "      <td>1237654599956562496</td>\n",
       "      <td>22.34975</td>\n",
       "      <td>0.344992</td>\n",
       "      <td>22.41594</td>\n",
       "      <td>0.179621</td>\n",
       "      <td>20.78720</td>\n",
       "      <td>0.057848</td>\n",
       "      <td>19.73216</td>\n",
       "      <td>0.032588</td>\n",
       "      <td>19.16412</td>\n",
       "      <td>0.063563</td>\n",
       "      <td>5372818364690618368</td>\n",
       "      <td>0.663253</td>\n",
       "      <td>0.000128</td>\n",
       "      <td>0.575898</td>\n",
       "      <td>0.044880</td>\n",
       "      <td>GALAXY</td>\n",
       "      <td>0.593118</td>\n",
       "      <td>0.070135</td>\n",
       "    </tr>\n",
       "    <tr>\n",
       "      <th>3910</th>\n",
       "      <td>1237657191444840800</td>\n",
       "      <td>24.12283</td>\n",
       "      <td>1.149156</td>\n",
       "      <td>21.95015</td>\n",
       "      <td>0.094330</td>\n",
       "      <td>20.23592</td>\n",
       "      <td>0.033113</td>\n",
       "      <td>19.39367</td>\n",
       "      <td>0.022830</td>\n",
       "      <td>18.90244</td>\n",
       "      <td>0.057596</td>\n",
       "      <td>4750438705357150208</td>\n",
       "      <td>0.452650</td>\n",
       "      <td>0.000089</td>\n",
       "      <td>0.488651</td>\n",
       "      <td>0.023391</td>\n",
       "      <td>GALAXY</td>\n",
       "      <td>0.479272</td>\n",
       "      <td>0.026621</td>\n",
       "    </tr>\n",
       "    <tr>\n",
       "      <th>4479</th>\n",
       "      <td>1237655464312832668</td>\n",
       "      <td>23.44480</td>\n",
       "      <td>1.329041</td>\n",
       "      <td>21.49999</td>\n",
       "      <td>0.113863</td>\n",
       "      <td>19.90540</td>\n",
       "      <td>0.040154</td>\n",
       "      <td>18.97679</td>\n",
       "      <td>0.028552</td>\n",
       "      <td>18.64549</td>\n",
       "      <td>0.084420</td>\n",
       "      <td>7664035133478164480</td>\n",
       "      <td>0.552226</td>\n",
       "      <td>0.000112</td>\n",
       "      <td>0.510545</td>\n",
       "      <td>0.028387</td>\n",
       "      <td>GALAXY</td>\n",
       "      <td>0.512344</td>\n",
       "      <td>0.039882</td>\n",
       "    </tr>\n",
       "    <tr>\n",
       "      <th>4279</th>\n",
       "      <td>1237652900760125930</td>\n",
       "      <td>25.11914</td>\n",
       "      <td>1.918722</td>\n",
       "      <td>21.99404</td>\n",
       "      <td>0.168343</td>\n",
       "      <td>20.64066</td>\n",
       "      <td>0.082411</td>\n",
       "      <td>19.66785</td>\n",
       "      <td>0.053728</td>\n",
       "      <td>19.21012</td>\n",
       "      <td>0.158530</td>\n",
       "      <td>8087595603641784320</td>\n",
       "      <td>0.575046</td>\n",
       "      <td>0.000158</td>\n",
       "      <td>0.547353</td>\n",
       "      <td>0.034856</td>\n",
       "      <td>GALAXY</td>\n",
       "      <td>0.564810</td>\n",
       "      <td>0.010236</td>\n",
       "    </tr>\n",
       "    <tr>\n",
       "      <th>2537</th>\n",
       "      <td>1237655108907631340</td>\n",
       "      <td>23.24973</td>\n",
       "      <td>0.724324</td>\n",
       "      <td>22.18758</td>\n",
       "      <td>0.159019</td>\n",
       "      <td>20.54857</td>\n",
       "      <td>0.051113</td>\n",
       "      <td>19.64739</td>\n",
       "      <td>0.033683</td>\n",
       "      <td>19.27579</td>\n",
       "      <td>0.079047</td>\n",
       "      <td>7978215087399000064</td>\n",
       "      <td>0.523360</td>\n",
       "      <td>0.000119</td>\n",
       "      <td>0.512550</td>\n",
       "      <td>0.034223</td>\n",
       "      <td>GALAXY</td>\n",
       "      <td>0.517025</td>\n",
       "      <td>0.006335</td>\n",
       "    </tr>\n",
       "  </tbody>\n",
       "</table>\n",
       "</div>"
      ],
      "text/plain": [
       "                    objID   dered_u     err_u   dered_g     err_g   dered_r  \\\n",
       "3314  1237654599956562496  22.34975  0.344992  22.41594  0.179621  20.78720   \n",
       "3910  1237657191444840800  24.12283  1.149156  21.95015  0.094330  20.23592   \n",
       "4479  1237655464312832668  23.44480  1.329041  21.49999  0.113863  19.90540   \n",
       "4279  1237652900760125930  25.11914  1.918722  21.99404  0.168343  20.64066   \n",
       "2537  1237655108907631340  23.24973  0.724324  22.18758  0.159019  20.54857   \n",
       "\n",
       "         err_r   dered_i     err_i   dered_z     err_z            specObjID  \\\n",
       "3314  0.057848  19.73216  0.032588  19.16412  0.063563  5372818364690618368   \n",
       "3910  0.033113  19.39367  0.022830  18.90244  0.057596  4750438705357150208   \n",
       "4479  0.040154  18.97679  0.028552  18.64549  0.084420  7664035133478164480   \n",
       "4279  0.082411  19.66785  0.053728  19.21012  0.158530  8087595603641784320   \n",
       "2537  0.051113  19.64739  0.033683  19.27579  0.079047  7978215087399000064   \n",
       "\n",
       "             z      zErr    photoZ  photoErr   class      pred  pred_err  \n",
       "3314  0.663253  0.000128  0.575898  0.044880  GALAXY  0.593118  0.070135  \n",
       "3910  0.452650  0.000089  0.488651  0.023391  GALAXY  0.479272  0.026621  \n",
       "4479  0.552226  0.000112  0.510545  0.028387  GALAXY  0.512344  0.039882  \n",
       "4279  0.575046  0.000158  0.547353  0.034856  GALAXY  0.564810  0.010236  \n",
       "2537  0.523360  0.000119  0.512550  0.034223  GALAXY  0.517025  0.006335  "
      ]
     },
     "execution_count": 38,
     "metadata": {},
     "output_type": "execute_result"
    }
   ],
   "source": [
    "index = pd.DataFrame(index=X_test.index)\n",
    "errors = index.join(data, how= 'inner')\n",
    "prediction = pd.DataFrame(predictions, columns = ['pred'])\n",
    "errors['pred'] = predictions\n",
    "errors['pred_err'] = abs(errors['pred'] - errors['z'])\n",
    "\n",
    "errors.head()"
   ]
  },
  {
   "cell_type": "code",
   "execution_count": 39,
   "metadata": {},
   "outputs": [
    {
     "data": {
      "text/html": [
       "<div>\n",
       "<style scoped>\n",
       "    .dataframe tbody tr th:only-of-type {\n",
       "        vertical-align: middle;\n",
       "    }\n",
       "\n",
       "    .dataframe tbody tr th {\n",
       "        vertical-align: top;\n",
       "    }\n",
       "\n",
       "    .dataframe thead th {\n",
       "        text-align: right;\n",
       "    }\n",
       "</style>\n",
       "<table border=\"1\" class=\"dataframe\">\n",
       "  <thead>\n",
       "    <tr style=\"text-align: right;\">\n",
       "      <th></th>\n",
       "      <th>objID</th>\n",
       "      <th>dered_u</th>\n",
       "      <th>err_u</th>\n",
       "      <th>dered_g</th>\n",
       "      <th>err_g</th>\n",
       "      <th>dered_r</th>\n",
       "      <th>err_r</th>\n",
       "      <th>dered_i</th>\n",
       "      <th>err_i</th>\n",
       "      <th>dered_z</th>\n",
       "      <th>err_z</th>\n",
       "      <th>specObjID</th>\n",
       "      <th>z</th>\n",
       "      <th>zErr</th>\n",
       "      <th>photoZ</th>\n",
       "      <th>photoErr</th>\n",
       "      <th>pred</th>\n",
       "      <th>pred_err</th>\n",
       "    </tr>\n",
       "  </thead>\n",
       "  <tbody>\n",
       "    <tr>\n",
       "      <th>count</th>\n",
       "      <td>1.500000e+03</td>\n",
       "      <td>1500.000000</td>\n",
       "      <td>1500.000000</td>\n",
       "      <td>1500.000000</td>\n",
       "      <td>1500.000000</td>\n",
       "      <td>1500.000000</td>\n",
       "      <td>1500.000000</td>\n",
       "      <td>1500.000000</td>\n",
       "      <td>1500.000000</td>\n",
       "      <td>1500.000000</td>\n",
       "      <td>1500.000000</td>\n",
       "      <td>1.500000e+03</td>\n",
       "      <td>1500.000000</td>\n",
       "      <td>1500.000000</td>\n",
       "      <td>1500.000000</td>\n",
       "      <td>1500.000000</td>\n",
       "      <td>1500.000000</td>\n",
       "      <td>1500.000000</td>\n",
       "    </tr>\n",
       "    <tr>\n",
       "      <th>mean</th>\n",
       "      <td>1.237659e+18</td>\n",
       "      <td>23.800353</td>\n",
       "      <td>1.032805</td>\n",
       "      <td>21.927932</td>\n",
       "      <td>0.168581</td>\n",
       "      <td>20.308156</td>\n",
       "      <td>0.055347</td>\n",
       "      <td>19.331589</td>\n",
       "      <td>0.033820</td>\n",
       "      <td>18.897543</td>\n",
       "      <td>0.087101</td>\n",
       "      <td>5.808539e+18</td>\n",
       "      <td>0.539542</td>\n",
       "      <td>0.002833</td>\n",
       "      <td>-26.125182</td>\n",
       "      <td>-26.623895</td>\n",
       "      <td>0.541067</td>\n",
       "      <td>0.039802</td>\n",
       "    </tr>\n",
       "    <tr>\n",
       "      <th>std</th>\n",
       "      <td>6.110079e+12</td>\n",
       "      <td>1.362115</td>\n",
       "      <td>0.566296</td>\n",
       "      <td>0.629661</td>\n",
       "      <td>0.113753</td>\n",
       "      <td>0.484282</td>\n",
       "      <td>0.021986</td>\n",
       "      <td>0.392928</td>\n",
       "      <td>0.009807</td>\n",
       "      <td>0.430718</td>\n",
       "      <td>0.047732</td>\n",
       "      <td>1.513623e+18</td>\n",
       "      <td>0.098453</td>\n",
       "      <td>0.103931</td>\n",
       "      <td>515.857067</td>\n",
       "      <td>515.831265</td>\n",
       "      <td>0.065889</td>\n",
       "      <td>0.057954</td>\n",
       "    </tr>\n",
       "    <tr>\n",
       "      <th>min</th>\n",
       "      <td>1.237649e+18</td>\n",
       "      <td>20.030600</td>\n",
       "      <td>0.089407</td>\n",
       "      <td>19.091750</td>\n",
       "      <td>0.016202</td>\n",
       "      <td>18.460080</td>\n",
       "      <td>0.016181</td>\n",
       "      <td>17.669170</td>\n",
       "      <td>0.011748</td>\n",
       "      <td>17.263830</td>\n",
       "      <td>0.026994</td>\n",
       "      <td>3.400366e+17</td>\n",
       "      <td>-0.000096</td>\n",
       "      <td>0.000000</td>\n",
       "      <td>-9999.000000</td>\n",
       "      <td>-9999.000000</td>\n",
       "      <td>0.137516</td>\n",
       "      <td>0.000032</td>\n",
       "    </tr>\n",
       "    <tr>\n",
       "      <th>25%</th>\n",
       "      <td>1.237655e+18</td>\n",
       "      <td>22.704505</td>\n",
       "      <td>0.610777</td>\n",
       "      <td>21.534408</td>\n",
       "      <td>0.103451</td>\n",
       "      <td>20.011633</td>\n",
       "      <td>0.039636</td>\n",
       "      <td>19.127417</td>\n",
       "      <td>0.026597</td>\n",
       "      <td>18.659347</td>\n",
       "      <td>0.065033</td>\n",
       "      <td>4.741895e+18</td>\n",
       "      <td>0.488927</td>\n",
       "      <td>0.000115</td>\n",
       "      <td>0.489710</td>\n",
       "      <td>0.028644</td>\n",
       "      <td>0.493544</td>\n",
       "      <td>0.010440</td>\n",
       "    </tr>\n",
       "    <tr>\n",
       "      <th>50%</th>\n",
       "      <td>1.237656e+18</td>\n",
       "      <td>23.674945</td>\n",
       "      <td>0.956623</td>\n",
       "      <td>21.928895</td>\n",
       "      <td>0.138654</td>\n",
       "      <td>20.309630</td>\n",
       "      <td>0.050715</td>\n",
       "      <td>19.380020</td>\n",
       "      <td>0.032417</td>\n",
       "      <td>18.922790</td>\n",
       "      <td>0.080453</td>\n",
       "      <td>5.464139e+18</td>\n",
       "      <td>0.539565</td>\n",
       "      <td>0.000140</td>\n",
       "      <td>0.536277</td>\n",
       "      <td>0.034624</td>\n",
       "      <td>0.538765</td>\n",
       "      <td>0.024424</td>\n",
       "    </tr>\n",
       "    <tr>\n",
       "      <th>75%</th>\n",
       "      <td>1.237662e+18</td>\n",
       "      <td>24.842010</td>\n",
       "      <td>1.325959</td>\n",
       "      <td>22.287285</td>\n",
       "      <td>0.193871</td>\n",
       "      <td>20.639318</td>\n",
       "      <td>0.067383</td>\n",
       "      <td>19.594815</td>\n",
       "      <td>0.039712</td>\n",
       "      <td>19.176828</td>\n",
       "      <td>0.100674</td>\n",
       "      <td>7.200504e+18</td>\n",
       "      <td>0.596954</td>\n",
       "      <td>0.000177</td>\n",
       "      <td>0.583504</td>\n",
       "      <td>0.045367</td>\n",
       "      <td>0.586334</td>\n",
       "      <td>0.046351</td>\n",
       "    </tr>\n",
       "    <tr>\n",
       "      <th>max</th>\n",
       "      <td>1.237681e+18</td>\n",
       "      <td>27.345650</td>\n",
       "      <td>4.503531</td>\n",
       "      <td>24.917370</td>\n",
       "      <td>1.099768</td>\n",
       "      <td>22.267660</td>\n",
       "      <td>0.198734</td>\n",
       "      <td>20.487410</td>\n",
       "      <td>0.076327</td>\n",
       "      <td>22.804640</td>\n",
       "      <td>1.025291</td>\n",
       "      <td>1.248068e+19</td>\n",
       "      <td>0.819564</td>\n",
       "      <td>4.025382</td>\n",
       "      <td>0.994135</td>\n",
       "      <td>0.179934</td>\n",
       "      <td>0.746144</td>\n",
       "      <td>0.604351</td>\n",
       "    </tr>\n",
       "  </tbody>\n",
       "</table>\n",
       "</div>"
      ],
      "text/plain": [
       "              objID      dered_u        err_u      dered_g        err_g  \\\n",
       "count  1.500000e+03  1500.000000  1500.000000  1500.000000  1500.000000   \n",
       "mean   1.237659e+18    23.800353     1.032805    21.927932     0.168581   \n",
       "std    6.110079e+12     1.362115     0.566296     0.629661     0.113753   \n",
       "min    1.237649e+18    20.030600     0.089407    19.091750     0.016202   \n",
       "25%    1.237655e+18    22.704505     0.610777    21.534408     0.103451   \n",
       "50%    1.237656e+18    23.674945     0.956623    21.928895     0.138654   \n",
       "75%    1.237662e+18    24.842010     1.325959    22.287285     0.193871   \n",
       "max    1.237681e+18    27.345650     4.503531    24.917370     1.099768   \n",
       "\n",
       "           dered_r        err_r      dered_i        err_i      dered_z  \\\n",
       "count  1500.000000  1500.000000  1500.000000  1500.000000  1500.000000   \n",
       "mean     20.308156     0.055347    19.331589     0.033820    18.897543   \n",
       "std       0.484282     0.021986     0.392928     0.009807     0.430718   \n",
       "min      18.460080     0.016181    17.669170     0.011748    17.263830   \n",
       "25%      20.011633     0.039636    19.127417     0.026597    18.659347   \n",
       "50%      20.309630     0.050715    19.380020     0.032417    18.922790   \n",
       "75%      20.639318     0.067383    19.594815     0.039712    19.176828   \n",
       "max      22.267660     0.198734    20.487410     0.076327    22.804640   \n",
       "\n",
       "             err_z     specObjID            z         zErr       photoZ  \\\n",
       "count  1500.000000  1.500000e+03  1500.000000  1500.000000  1500.000000   \n",
       "mean      0.087101  5.808539e+18     0.539542     0.002833   -26.125182   \n",
       "std       0.047732  1.513623e+18     0.098453     0.103931   515.857067   \n",
       "min       0.026994  3.400366e+17    -0.000096     0.000000 -9999.000000   \n",
       "25%       0.065033  4.741895e+18     0.488927     0.000115     0.489710   \n",
       "50%       0.080453  5.464139e+18     0.539565     0.000140     0.536277   \n",
       "75%       0.100674  7.200504e+18     0.596954     0.000177     0.583504   \n",
       "max       1.025291  1.248068e+19     0.819564     4.025382     0.994135   \n",
       "\n",
       "          photoErr         pred     pred_err  \n",
       "count  1500.000000  1500.000000  1500.000000  \n",
       "mean    -26.623895     0.541067     0.039802  \n",
       "std     515.831265     0.065889     0.057954  \n",
       "min   -9999.000000     0.137516     0.000032  \n",
       "25%       0.028644     0.493544     0.010440  \n",
       "50%       0.034624     0.538765     0.024424  \n",
       "75%       0.045367     0.586334     0.046351  \n",
       "max       0.179934     0.746144     0.604351  "
      ]
     },
     "execution_count": 39,
     "metadata": {},
     "output_type": "execute_result"
    }
   ],
   "source": [
    "errors.describe()"
   ]
  },
  {
   "cell_type": "code",
   "execution_count": 35,
   "metadata": {
    "scrolled": true
   },
   "outputs": [
    {
     "data": {
      "image/png": "[encoded data removed]",
      "text/plain": [
       "<Figure size 432x288 with 2 Axes>"
      ]
     },
     "metadata": {
      "needs_background": "light"
     },
     "output_type": "display_data"
    }
   ],
   "source": [
    "# Creates subplots with 2 graphs.\n",
    "fig, (ax1, ax2) = plt.subplots(ncols=2, sharey=True)\n",
    "sns.regplot( x=\"dered_r\", y=\"pred_err\", data=errors, fit_reg=False,scatter_kws={'alpha':0.25}, ax=ax1)\n",
    "sns.regplot( x=\"z\", y=\"pred_err\", data=errors, fit_reg=False, scatter_kws={'alpha':0.25}, ax=ax2)\n",
    "\n",
    "plt.show()"
   ]
  },
  {
   "cell_type": "markdown",
   "metadata": {},
   "source": [
    "The first image shows that there is no correlation between the predicted z error (the absolute difference between the spectroscopic redshift and the derived photometric redshift). Similar to the results in determining_redshift_less_bias, few galaxies around 20 mag hive higher predicted z error. \n",
    "\n",
    "Whith the second image we see that the highest errors (>0.2) they are either very close to 0 or close to 0.75. But the highest errors are those with close to o redshift. "
   ]
  },
  {
   "cell_type": "code",
   "execution_count": 37,
   "metadata": {},
   "outputs": [
    {
     "data": {
      "image/png": "[encoded data removed]",
      "text/plain": [
       "<Figure size 432x288 with 1 Axes>"
      ]
     },
     "metadata": {
      "needs_background": "light"
     },
     "output_type": "display_data"
    }
   ],
   "source": [
    "# Plots the density histogram for the predicted z error and the SDSS photometric error\n",
    "plt.hist(abs(photoz-sZ), bins=50, density = True,histtype= 'step')\n",
    "plt.hist(errors['pred_err'],color = 'g', bins=50, density = True ,histtype= 'step')\n",
    "labels= [ \"SDSS_err\", \"Pred_err\"]\n",
    "plt.legend( labels)\n",
    "plt.show()"
   ]
  },
  {
   "cell_type": "markdown",
   "metadata": {},
   "source": [
    "The histograms show that there is not much difference between the predicted and the SDSS photometric errors."
   ]
  },
  {
   "cell_type": "markdown",
   "metadata": {},
   "source": [
    "## Conclusion\n",
    "\n",
    "For the 5000 Galaxies obtained using the BOSS target selection in SDSS, the predicted error using the Random Forest algorithm is the same as the SDSS photometric redshift. \n",
    "\n",
    "The predicted error is neither dependent on the actual redshift or on the dered_r magnitude. "
   ]
  }
 ],
 "metadata": {
  "kernelspec": {
   "display_name": "Python 3",
   "language": "python",
   "name": "python3"
  },
  "language_info": {
   "codemirror_mode": {
    "name": "ipython",
    "version": 3
   },
   "file_extension": ".py",
   "mimetype": "text/x-python",
   "name": "python",
   "nbconvert_exporter": "python",
   "pygments_lexer": "ipython3",
   "version": "3.7.6"
  }
 },
 "nbformat": 4,
 "nbformat_minor": 4
}
