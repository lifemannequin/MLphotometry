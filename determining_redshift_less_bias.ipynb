{
 "cells": [
  {
   "cell_type": "markdown",
   "metadata": {},
   "source": [
    "# Introduction"
   ]
  },
  {
   "cell_type": "markdown",
   "metadata": {},
   "source": [
    "First, what is redshift and why is it important? Redshift is the equivalent to the distance of stellar objects from us. It is measured using spectroscopy and measuring the redshift (shift of the spectra to the red side of the wavelength). This is important because it allow us to calculate the actual magnitudes of the stellar objects and we can do a lot of fun science with it. Spectra data is not up to par with  the vast optical data available so it is important to have good redshifts from photometry.\n",
    "\n",
    "The data was obtained using the skyserver from the Sloan Digital Sky Survey (SDSS) using the SQL query. In the SQL query, I specified for no missing values of the redshift or the five bands (u,g,r,i,z). Also the dered values were obtained to account for galactic extinction. There maybe a confusion between z the band and z the redshift but in this study the band will always be denoted with dered_z.\n",
    "\n",
    "In the notebook 'determining_redshift', the sample was small (1500 sources) and it contained only very bright (mean 17 in magnitude in the dered_r band) sources. The new dataset contains 135000 sources with a mean of 19 in magnitudes.\n",
    "\n",
    "To note that SDSS removed their photozRF table because it does poorly with the faint red galaxies targeted in  Baryon Oscillation Spectroscopic Survey (BOSS). "
   ]
  },
  {
   "cell_type": "code",
   "execution_count": 1,
   "metadata": {},
   "outputs": [],
   "source": [
    "import os\n",
    "import numpy as np\n",
    "import pandas as pd\n",
    "from pandas.plotting import table\n",
    "import seaborn as sns\n",
    "import matplotlib.pyplot as plt\n",
    "from scipy import stats\n",
    "sns.set()\n",
    "%matplotlib inline"
   ]
  },
  {
   "cell_type": "markdown",
   "metadata": {},
   "source": [
    "## Loading data and some EDA"
   ]
  },
  {
   "cell_type": "code",
   "execution_count": 2,
   "metadata": {},
   "outputs": [],
   "source": [
    "filepath= \"/home/veroastro/Documents/spectraTypes/data/newData/\"\n",
    "data = pd.read_csv(filepath+\"full_sources.csv\")\n"
   ]
  },
  {
   "cell_type": "code",
   "execution_count": 3,
   "metadata": {},
   "outputs": [
    {
     "data": {
      "text/html": [
       "<div>\n",
       "<style scoped>\n",
       "    .dataframe tbody tr th:only-of-type {\n",
       "        vertical-align: middle;\n",
       "    }\n",
       "\n",
       "    .dataframe tbody tr th {\n",
       "        vertical-align: top;\n",
       "    }\n",
       "\n",
       "    .dataframe thead th {\n",
       "        text-align: right;\n",
       "    }\n",
       "</style>\n",
       "<table border=\"1\" class=\"dataframe\">\n",
       "  <thead>\n",
       "    <tr style=\"text-align: right;\">\n",
       "      <th></th>\n",
       "      <th>objID</th>\n",
       "      <th>dered_u</th>\n",
       "      <th>err_u</th>\n",
       "      <th>dered_g</th>\n",
       "      <th>err_g</th>\n",
       "      <th>dered_r</th>\n",
       "      <th>err_r</th>\n",
       "      <th>dered_i</th>\n",
       "      <th>err_i</th>\n",
       "      <th>dered_z</th>\n",
       "      <th>err_z</th>\n",
       "      <th>specObjID</th>\n",
       "      <th>z</th>\n",
       "      <th>zErr</th>\n",
       "      <th>photoZ</th>\n",
       "      <th>photoErr</th>\n",
       "      <th>class</th>\n",
       "      <th>subClass</th>\n",
       "      <th>type</th>\n",
       "    </tr>\n",
       "  </thead>\n",
       "  <tbody>\n",
       "    <tr>\n",
       "      <th>90561</th>\n",
       "      <td>1237650761854419113</td>\n",
       "      <td>21.02934</td>\n",
       "      <td>0.109804</td>\n",
       "      <td>18.52021</td>\n",
       "      <td>0.008051</td>\n",
       "      <td>17.02043</td>\n",
       "      <td>0.004534</td>\n",
       "      <td>15.47646</td>\n",
       "      <td>0.003262</td>\n",
       "      <td>14.59898</td>\n",
       "      <td>0.004056</td>\n",
       "      <td>3.739049e+17</td>\n",
       "      <td>0.000037</td>\n",
       "      <td>0.000027</td>\n",
       "      <td>0.016231</td>\n",
       "      <td>0.106834</td>\n",
       "      <td>STAR</td>\n",
       "      <td>M4</td>\n",
       "      <td>3.0</td>\n",
       "    </tr>\n",
       "    <tr>\n",
       "      <th>38176</th>\n",
       "      <td>1237661387065721376</td>\n",
       "      <td>23.17312</td>\n",
       "      <td>0.602854</td>\n",
       "      <td>22.66927</td>\n",
       "      <td>0.182486</td>\n",
       "      <td>20.95821</td>\n",
       "      <td>0.060831</td>\n",
       "      <td>19.75094</td>\n",
       "      <td>0.029023</td>\n",
       "      <td>19.23389</td>\n",
       "      <td>0.067354</td>\n",
       "      <td>1.487358e+18</td>\n",
       "      <td>0.653555</td>\n",
       "      <td>0.000259</td>\n",
       "      <td>0.627959</td>\n",
       "      <td>0.039716</td>\n",
       "      <td>GALAXY</td>\n",
       "      <td>NaN</td>\n",
       "      <td>NaN</td>\n",
       "    </tr>\n",
       "    <tr>\n",
       "      <th>56477</th>\n",
       "      <td>1237667254555115678</td>\n",
       "      <td>19.09367</td>\n",
       "      <td>0.024569</td>\n",
       "      <td>18.86980</td>\n",
       "      <td>0.008963</td>\n",
       "      <td>18.32450</td>\n",
       "      <td>0.008173</td>\n",
       "      <td>18.16549</td>\n",
       "      <td>0.008785</td>\n",
       "      <td>17.70737</td>\n",
       "      <td>0.019005</td>\n",
       "      <td>2.518800e+18</td>\n",
       "      <td>0.363165</td>\n",
       "      <td>0.000024</td>\n",
       "      <td>0.326179</td>\n",
       "      <td>0.030725</td>\n",
       "      <td>QSO</td>\n",
       "      <td>STARBURST BROADLINE</td>\n",
       "      <td>3.0</td>\n",
       "    </tr>\n",
       "    <tr>\n",
       "      <th>90538</th>\n",
       "      <td>1237651540327923824</td>\n",
       "      <td>21.24234</td>\n",
       "      <td>0.118015</td>\n",
       "      <td>18.44545</td>\n",
       "      <td>0.007215</td>\n",
       "      <td>17.04876</td>\n",
       "      <td>0.004546</td>\n",
       "      <td>16.25174</td>\n",
       "      <td>0.004084</td>\n",
       "      <td>15.76608</td>\n",
       "      <td>0.006439</td>\n",
       "      <td>5.608656e+17</td>\n",
       "      <td>-0.000092</td>\n",
       "      <td>0.000016</td>\n",
       "      <td>0.277150</td>\n",
       "      <td>0.078362</td>\n",
       "      <td>STAR</td>\n",
       "      <td>M1</td>\n",
       "      <td>3.0</td>\n",
       "    </tr>\n",
       "    <tr>\n",
       "      <th>126773</th>\n",
       "      <td>1237674462023386041</td>\n",
       "      <td>24.21035</td>\n",
       "      <td>1.265558</td>\n",
       "      <td>21.92852</td>\n",
       "      <td>0.116575</td>\n",
       "      <td>20.52516</td>\n",
       "      <td>0.047887</td>\n",
       "      <td>19.41116</td>\n",
       "      <td>0.028611</td>\n",
       "      <td>18.89083</td>\n",
       "      <td>0.055227</td>\n",
       "      <td>4.295559e+18</td>\n",
       "      <td>0.000025</td>\n",
       "      <td>0.000044</td>\n",
       "      <td>0.585082</td>\n",
       "      <td>0.035910</td>\n",
       "      <td>STAR</td>\n",
       "      <td>M4.5:III (123657)</td>\n",
       "      <td>3.0</td>\n",
       "    </tr>\n",
       "  </tbody>\n",
       "</table>\n",
       "</div>"
      ],
      "text/plain": [
       "                      objID   dered_u     err_u   dered_g     err_g   dered_r  \\\n",
       "90561   1237650761854419113  21.02934  0.109804  18.52021  0.008051  17.02043   \n",
       "38176   1237661387065721376  23.17312  0.602854  22.66927  0.182486  20.95821   \n",
       "56477   1237667254555115678  19.09367  0.024569  18.86980  0.008963  18.32450   \n",
       "90538   1237651540327923824  21.24234  0.118015  18.44545  0.007215  17.04876   \n",
       "126773  1237674462023386041  24.21035  1.265558  21.92852  0.116575  20.52516   \n",
       "\n",
       "           err_r   dered_i     err_i   dered_z     err_z     specObjID  \\\n",
       "90561   0.004534  15.47646  0.003262  14.59898  0.004056  3.739049e+17   \n",
       "38176   0.060831  19.75094  0.029023  19.23389  0.067354  1.487358e+18   \n",
       "56477   0.008173  18.16549  0.008785  17.70737  0.019005  2.518800e+18   \n",
       "90538   0.004546  16.25174  0.004084  15.76608  0.006439  5.608656e+17   \n",
       "126773  0.047887  19.41116  0.028611  18.89083  0.055227  4.295559e+18   \n",
       "\n",
       "               z      zErr    photoZ  photoErr   class             subClass  \\\n",
       "90561   0.000037  0.000027  0.016231  0.106834    STAR                   M4   \n",
       "38176   0.653555  0.000259  0.627959  0.039716  GALAXY                  NaN   \n",
       "56477   0.363165  0.000024  0.326179  0.030725     QSO  STARBURST BROADLINE   \n",
       "90538  -0.000092  0.000016  0.277150  0.078362    STAR                   M1   \n",
       "126773  0.000025  0.000044  0.585082  0.035910    STAR    M4.5:III (123657)   \n",
       "\n",
       "        type  \n",
       "90561    3.0  \n",
       "38176    NaN  \n",
       "56477    3.0  \n",
       "90538    3.0  \n",
       "126773   3.0  "
      ]
     },
     "execution_count": 3,
     "metadata": {},
     "output_type": "execute_result"
    }
   ],
   "source": [
    "\n",
    "#Scramble the data set so that it is not ordered by spectral class (QSO, galaxy or star) \n",
    "data = data.sample(frac=1)\n",
    "\n",
    "data.head()"
   ]
  },
  {
   "cell_type": "code",
   "execution_count": 4,
   "metadata": {},
   "outputs": [
    {
     "data": {
      "text/html": [
       "<div>\n",
       "<style scoped>\n",
       "    .dataframe tbody tr th:only-of-type {\n",
       "        vertical-align: middle;\n",
       "    }\n",
       "\n",
       "    .dataframe tbody tr th {\n",
       "        vertical-align: top;\n",
       "    }\n",
       "\n",
       "    .dataframe thead th {\n",
       "        text-align: right;\n",
       "    }\n",
       "</style>\n",
       "<table border=\"1\" class=\"dataframe\">\n",
       "  <thead>\n",
       "    <tr style=\"text-align: right;\">\n",
       "      <th></th>\n",
       "      <th>objID</th>\n",
       "      <th>dered_u</th>\n",
       "      <th>err_u</th>\n",
       "      <th>dered_g</th>\n",
       "      <th>err_g</th>\n",
       "      <th>dered_r</th>\n",
       "      <th>err_r</th>\n",
       "      <th>dered_i</th>\n",
       "      <th>err_i</th>\n",
       "      <th>dered_z</th>\n",
       "      <th>err_z</th>\n",
       "      <th>specObjID</th>\n",
       "      <th>z</th>\n",
       "      <th>zErr</th>\n",
       "      <th>photoZ</th>\n",
       "      <th>photoErr</th>\n",
       "      <th>type</th>\n",
       "    </tr>\n",
       "  </thead>\n",
       "  <tbody>\n",
       "    <tr>\n",
       "      <th>count</th>\n",
       "      <td>1.350000e+05</td>\n",
       "      <td>135000.000000</td>\n",
       "      <td>135000.000000</td>\n",
       "      <td>135000.000000</td>\n",
       "      <td>135000.000000</td>\n",
       "      <td>135000.000000</td>\n",
       "      <td>135000.000000</td>\n",
       "      <td>135000.000000</td>\n",
       "      <td>135000.000000</td>\n",
       "      <td>135000.000000</td>\n",
       "      <td>135000.000000</td>\n",
       "      <td>1.350000e+05</td>\n",
       "      <td>135000.000000</td>\n",
       "      <td>135000.000000</td>\n",
       "      <td>135000.000000</td>\n",
       "      <td>135000.000000</td>\n",
       "      <td>90000.0</td>\n",
       "    </tr>\n",
       "    <tr>\n",
       "      <th>mean</th>\n",
       "      <td>1.237659e+18</td>\n",
       "      <td>21.818135</td>\n",
       "      <td>0.564492</td>\n",
       "      <td>20.309045</td>\n",
       "      <td>0.109368</td>\n",
       "      <td>19.285139</td>\n",
       "      <td>0.078141</td>\n",
       "      <td>18.592777</td>\n",
       "      <td>0.050795</td>\n",
       "      <td>18.275074</td>\n",
       "      <td>0.108812</td>\n",
       "      <td>2.667961e+18</td>\n",
       "      <td>0.293436</td>\n",
       "      <td>0.069791</td>\n",
       "      <td>-429.592481</td>\n",
       "      <td>-429.903597</td>\n",
       "      <td>3.0</td>\n",
       "    </tr>\n",
       "    <tr>\n",
       "      <th>std</th>\n",
       "      <td>7.359006e+12</td>\n",
       "      <td>2.191509</td>\n",
       "      <td>0.923682</td>\n",
       "      <td>1.830998</td>\n",
       "      <td>0.529150</td>\n",
       "      <td>1.673204</td>\n",
       "      <td>0.502919</td>\n",
       "      <td>1.488666</td>\n",
       "      <td>0.377803</td>\n",
       "      <td>1.500261</td>\n",
       "      <td>0.494538</td>\n",
       "      <td>2.338664e+18</td>\n",
       "      <td>0.498651</td>\n",
       "      <td>2.411561</td>\n",
       "      <td>2028.452859</td>\n",
       "      <td>2028.386901</td>\n",
       "      <td>0.0</td>\n",
       "    </tr>\n",
       "    <tr>\n",
       "      <th>min</th>\n",
       "      <td>1.237646e+18</td>\n",
       "      <td>10.332040</td>\n",
       "      <td>0.000597</td>\n",
       "      <td>9.884518</td>\n",
       "      <td>0.000282</td>\n",
       "      <td>9.321852</td>\n",
       "      <td>0.000305</td>\n",
       "      <td>9.207663</td>\n",
       "      <td>0.000210</td>\n",
       "      <td>9.800303</td>\n",
       "      <td>0.001093</td>\n",
       "      <td>2.994897e+17</td>\n",
       "      <td>-0.009944</td>\n",
       "      <td>-6.000000</td>\n",
       "      <td>-9999.000000</td>\n",
       "      <td>-9999.000000</td>\n",
       "      <td>3.0</td>\n",
       "    </tr>\n",
       "    <tr>\n",
       "      <th>25%</th>\n",
       "      <td>1.237652e+18</td>\n",
       "      <td>20.000940</td>\n",
       "      <td>0.065125</td>\n",
       "      <td>18.970020</td>\n",
       "      <td>0.012477</td>\n",
       "      <td>18.255080</td>\n",
       "      <td>0.010109</td>\n",
       "      <td>17.759570</td>\n",
       "      <td>0.010070</td>\n",
       "      <td>17.433850</td>\n",
       "      <td>0.024752</td>\n",
       "      <td>5.438980e+17</td>\n",
       "      <td>0.000095</td>\n",
       "      <td>0.000026</td>\n",
       "      <td>0.172001</td>\n",
       "      <td>0.023691</td>\n",
       "      <td>3.0</td>\n",
       "    </tr>\n",
       "    <tr>\n",
       "      <th>50%</th>\n",
       "      <td>1.237658e+18</td>\n",
       "      <td>21.933740</td>\n",
       "      <td>0.321909</td>\n",
       "      <td>20.637290</td>\n",
       "      <td>0.047026</td>\n",
       "      <td>19.579080</td>\n",
       "      <td>0.025417</td>\n",
       "      <td>18.846650</td>\n",
       "      <td>0.021037</td>\n",
       "      <td>18.440160</td>\n",
       "      <td>0.051082</td>\n",
       "      <td>1.691149e+18</td>\n",
       "      <td>0.188444</td>\n",
       "      <td>0.000051</td>\n",
       "      <td>0.368401</td>\n",
       "      <td>0.040274</td>\n",
       "      <td>3.0</td>\n",
       "    </tr>\n",
       "    <tr>\n",
       "      <th>75%</th>\n",
       "      <td>1.237664e+18</td>\n",
       "      <td>23.402515</td>\n",
       "      <td>0.842008</td>\n",
       "      <td>21.611540</td>\n",
       "      <td>0.099981</td>\n",
       "      <td>20.441560</td>\n",
       "      <td>0.050268</td>\n",
       "      <td>19.561500</td>\n",
       "      <td>0.033101</td>\n",
       "      <td>19.151623</td>\n",
       "      <td>0.083175</td>\n",
       "      <td>4.574580e+18</td>\n",
       "      <td>0.431413</td>\n",
       "      <td>0.000095</td>\n",
       "      <td>0.545646</td>\n",
       "      <td>0.065096</td>\n",
       "      <td>3.0</td>\n",
       "    </tr>\n",
       "    <tr>\n",
       "      <th>max</th>\n",
       "      <td>1.237680e+18</td>\n",
       "      <td>32.564690</td>\n",
       "      <td>92.837850</td>\n",
       "      <td>31.013640</td>\n",
       "      <td>68.299890</td>\n",
       "      <td>31.521720</td>\n",
       "      <td>29.829040</td>\n",
       "      <td>31.343010</td>\n",
       "      <td>44.447280</td>\n",
       "      <td>30.781270</td>\n",
       "      <td>55.823620</td>\n",
       "      <td>1.030211e+19</td>\n",
       "      <td>7.018627</td>\n",
       "      <td>453.145900</td>\n",
       "      <td>0.999865</td>\n",
       "      <td>0.277625</td>\n",
       "      <td>3.0</td>\n",
       "    </tr>\n",
       "  </tbody>\n",
       "</table>\n",
       "</div>"
      ],
      "text/plain": [
       "              objID        dered_u          err_u        dered_g  \\\n",
       "count  1.350000e+05  135000.000000  135000.000000  135000.000000   \n",
       "mean   1.237659e+18      21.818135       0.564492      20.309045   \n",
       "std    7.359006e+12       2.191509       0.923682       1.830998   \n",
       "min    1.237646e+18      10.332040       0.000597       9.884518   \n",
       "25%    1.237652e+18      20.000940       0.065125      18.970020   \n",
       "50%    1.237658e+18      21.933740       0.321909      20.637290   \n",
       "75%    1.237664e+18      23.402515       0.842008      21.611540   \n",
       "max    1.237680e+18      32.564690      92.837850      31.013640   \n",
       "\n",
       "               err_g        dered_r          err_r        dered_i  \\\n",
       "count  135000.000000  135000.000000  135000.000000  135000.000000   \n",
       "mean        0.109368      19.285139       0.078141      18.592777   \n",
       "std         0.529150       1.673204       0.502919       1.488666   \n",
       "min         0.000282       9.321852       0.000305       9.207663   \n",
       "25%         0.012477      18.255080       0.010109      17.759570   \n",
       "50%         0.047026      19.579080       0.025417      18.846650   \n",
       "75%         0.099981      20.441560       0.050268      19.561500   \n",
       "max        68.299890      31.521720      29.829040      31.343010   \n",
       "\n",
       "               err_i        dered_z          err_z     specObjID  \\\n",
       "count  135000.000000  135000.000000  135000.000000  1.350000e+05   \n",
       "mean        0.050795      18.275074       0.108812  2.667961e+18   \n",
       "std         0.377803       1.500261       0.494538  2.338664e+18   \n",
       "min         0.000210       9.800303       0.001093  2.994897e+17   \n",
       "25%         0.010070      17.433850       0.024752  5.438980e+17   \n",
       "50%         0.021037      18.440160       0.051082  1.691149e+18   \n",
       "75%         0.033101      19.151623       0.083175  4.574580e+18   \n",
       "max        44.447280      30.781270      55.823620  1.030211e+19   \n",
       "\n",
       "                   z           zErr         photoZ       photoErr     type  \n",
       "count  135000.000000  135000.000000  135000.000000  135000.000000  90000.0  \n",
       "mean        0.293436       0.069791    -429.592481    -429.903597      3.0  \n",
       "std         0.498651       2.411561    2028.452859    2028.386901      0.0  \n",
       "min        -0.009944      -6.000000   -9999.000000   -9999.000000      3.0  \n",
       "25%         0.000095       0.000026       0.172001       0.023691      3.0  \n",
       "50%         0.188444       0.000051       0.368401       0.040274      3.0  \n",
       "75%         0.431413       0.000095       0.545646       0.065096      3.0  \n",
       "max         7.018627     453.145900       0.999865       0.277625      3.0  "
      ]
     },
     "execution_count": 4,
     "metadata": {},
     "output_type": "execute_result"
    }
   ],
   "source": [
    "data.describe()"
   ]
  },
  {
   "cell_type": "markdown",
   "metadata": {},
   "source": [
    "photoZ and photoErr have values set as -9999. This is the same as a Null value. Since it is not part of our determination of the redshift, the sources with null values of SDSS photoZ and photoErr wont be deleted from the dataset. Since photoZ and photoErr are needed for comparison, the dataframes photoz and photozErr are created whithout the null values. This leaves us with 129,195 sources of the 135,000\n"
   ]
  },
  {
   "cell_type": "code",
   "execution_count": 5,
   "metadata": {},
   "outputs": [
    {
     "name": "stdout",
     "output_type": "stream",
     "text": [
      "Mean photoError: 0.056\n"
     ]
    }
   ],
   "source": [
    "\n",
    "photoz= data.loc[(data['photoZ'] >= 0.0)]['photoZ']\n",
    "photozErr=data.loc[(data['photoZ'] >= 0.0)]['photoErr']\n",
    "\n",
    "print('Mean photoError:', round(np.mean(photozErr), 3))"
   ]
  },
  {
   "cell_type": "code",
   "execution_count": 6,
   "metadata": {},
   "outputs": [
    {
     "data": {
      "text/plain": [
       "count    129195.000000\n",
       "mean          0.055803\n",
       "std           0.044428\n",
       "min           0.003985\n",
       "25%           0.025393\n",
       "50%           0.042296\n",
       "75%           0.066900\n",
       "max           0.277625\n",
       "Name: photoErr, dtype: float64"
      ]
     },
     "execution_count": 6,
     "metadata": {},
     "output_type": "execute_result"
    }
   ],
   "source": [
    "photozErr.describe()"
   ]
  },
  {
   "cell_type": "code",
   "execution_count": 7,
   "metadata": {},
   "outputs": [
    {
     "name": "stdout",
     "output_type": "stream",
     "text": [
      "Mean specError: 0.07\n"
     ]
    }
   ],
   "source": [
    "print('Mean specError:', round(np.mean(data['zErr']), 3))"
   ]
  },
  {
   "cell_type": "markdown",
   "metadata": {},
   "source": [
    "The mean value of the spectroscopic errors is 0.07 while the mean value of the photometric errors is 0.056."
   ]
  },
  {
   "cell_type": "code",
   "execution_count": 8,
   "metadata": {},
   "outputs": [
    {
     "data": {
      "text/html": [
       "<div>\n",
       "<style scoped>\n",
       "    .dataframe tbody tr th:only-of-type {\n",
       "        vertical-align: middle;\n",
       "    }\n",
       "\n",
       "    .dataframe tbody tr th {\n",
       "        vertical-align: top;\n",
       "    }\n",
       "\n",
       "    .dataframe thead th {\n",
       "        text-align: right;\n",
       "    }\n",
       "</style>\n",
       "<table border=\"1\" class=\"dataframe\">\n",
       "  <thead>\n",
       "    <tr style=\"text-align: right;\">\n",
       "      <th></th>\n",
       "      <th>dered_u</th>\n",
       "      <th>dered_g</th>\n",
       "      <th>dered_r</th>\n",
       "      <th>dered_i</th>\n",
       "      <th>dered_z</th>\n",
       "      <th>z</th>\n",
       "    </tr>\n",
       "  </thead>\n",
       "  <tbody>\n",
       "    <tr>\n",
       "      <th>90561</th>\n",
       "      <td>21.02934</td>\n",
       "      <td>18.52021</td>\n",
       "      <td>17.02043</td>\n",
       "      <td>15.47646</td>\n",
       "      <td>14.59898</td>\n",
       "      <td>0.000037</td>\n",
       "    </tr>\n",
       "    <tr>\n",
       "      <th>38176</th>\n",
       "      <td>23.17312</td>\n",
       "      <td>22.66927</td>\n",
       "      <td>20.95821</td>\n",
       "      <td>19.75094</td>\n",
       "      <td>19.23389</td>\n",
       "      <td>0.653555</td>\n",
       "    </tr>\n",
       "    <tr>\n",
       "      <th>56477</th>\n",
       "      <td>19.09367</td>\n",
       "      <td>18.86980</td>\n",
       "      <td>18.32450</td>\n",
       "      <td>18.16549</td>\n",
       "      <td>17.70737</td>\n",
       "      <td>0.363165</td>\n",
       "    </tr>\n",
       "    <tr>\n",
       "      <th>90538</th>\n",
       "      <td>21.24234</td>\n",
       "      <td>18.44545</td>\n",
       "      <td>17.04876</td>\n",
       "      <td>16.25174</td>\n",
       "      <td>15.76608</td>\n",
       "      <td>-0.000092</td>\n",
       "    </tr>\n",
       "    <tr>\n",
       "      <th>126773</th>\n",
       "      <td>24.21035</td>\n",
       "      <td>21.92852</td>\n",
       "      <td>20.52516</td>\n",
       "      <td>19.41116</td>\n",
       "      <td>18.89083</td>\n",
       "      <td>0.000025</td>\n",
       "    </tr>\n",
       "  </tbody>\n",
       "</table>\n",
       "</div>"
      ],
      "text/plain": [
       "         dered_u   dered_g   dered_r   dered_i   dered_z         z\n",
       "90561   21.02934  18.52021  17.02043  15.47646  14.59898  0.000037\n",
       "38176   23.17312  22.66927  20.95821  19.75094  19.23389  0.653555\n",
       "56477   19.09367  18.86980  18.32450  18.16549  17.70737  0.363165\n",
       "90538   21.24234  18.44545  17.04876  16.25174  15.76608 -0.000092\n",
       "126773  24.21035  21.92852  20.52516  19.41116  18.89083  0.000025"
      ]
     },
     "execution_count": 8,
     "metadata": {},
     "output_type": "execute_result"
    }
   ],
   "source": [
    "\n",
    "data_clean = data.drop(columns=['specObjID','objID','err_u', 'err_g', 'err_r', 'err_i', 'err_z', 'zErr', 'class', 'subClass', 'photoZ','photoErr','type'])\n",
    "data_clean.head()"
   ]
  },
  {
   "cell_type": "code",
   "execution_count": 9,
   "metadata": {},
   "outputs": [
    {
     "data": {
      "text/html": [
       "<div>\n",
       "<style scoped>\n",
       "    .dataframe tbody tr th:only-of-type {\n",
       "        vertical-align: middle;\n",
       "    }\n",
       "\n",
       "    .dataframe tbody tr th {\n",
       "        vertical-align: top;\n",
       "    }\n",
       "\n",
       "    .dataframe thead th {\n",
       "        text-align: right;\n",
       "    }\n",
       "</style>\n",
       "<table border=\"1\" class=\"dataframe\">\n",
       "  <thead>\n",
       "    <tr style=\"text-align: right;\">\n",
       "      <th></th>\n",
       "      <th>dered_u</th>\n",
       "      <th>dered_g</th>\n",
       "      <th>dered_r</th>\n",
       "      <th>dered_i</th>\n",
       "      <th>dered_z</th>\n",
       "      <th>z</th>\n",
       "    </tr>\n",
       "  </thead>\n",
       "  <tbody>\n",
       "    <tr>\n",
       "      <th>count</th>\n",
       "      <td>135000.000000</td>\n",
       "      <td>135000.000000</td>\n",
       "      <td>135000.000000</td>\n",
       "      <td>135000.000000</td>\n",
       "      <td>135000.000000</td>\n",
       "      <td>135000.000000</td>\n",
       "    </tr>\n",
       "    <tr>\n",
       "      <th>mean</th>\n",
       "      <td>21.818135</td>\n",
       "      <td>20.309045</td>\n",
       "      <td>19.285139</td>\n",
       "      <td>18.592777</td>\n",
       "      <td>18.275074</td>\n",
       "      <td>0.293436</td>\n",
       "    </tr>\n",
       "    <tr>\n",
       "      <th>std</th>\n",
       "      <td>2.191509</td>\n",
       "      <td>1.830998</td>\n",
       "      <td>1.673204</td>\n",
       "      <td>1.488666</td>\n",
       "      <td>1.500261</td>\n",
       "      <td>0.498651</td>\n",
       "    </tr>\n",
       "    <tr>\n",
       "      <th>min</th>\n",
       "      <td>10.332040</td>\n",
       "      <td>9.884518</td>\n",
       "      <td>9.321852</td>\n",
       "      <td>9.207663</td>\n",
       "      <td>9.800303</td>\n",
       "      <td>-0.009944</td>\n",
       "    </tr>\n",
       "    <tr>\n",
       "      <th>25%</th>\n",
       "      <td>20.000940</td>\n",
       "      <td>18.970020</td>\n",
       "      <td>18.255080</td>\n",
       "      <td>17.759570</td>\n",
       "      <td>17.433850</td>\n",
       "      <td>0.000095</td>\n",
       "    </tr>\n",
       "    <tr>\n",
       "      <th>50%</th>\n",
       "      <td>21.933740</td>\n",
       "      <td>20.637290</td>\n",
       "      <td>19.579080</td>\n",
       "      <td>18.846650</td>\n",
       "      <td>18.440160</td>\n",
       "      <td>0.188444</td>\n",
       "    </tr>\n",
       "    <tr>\n",
       "      <th>75%</th>\n",
       "      <td>23.402515</td>\n",
       "      <td>21.611540</td>\n",
       "      <td>20.441560</td>\n",
       "      <td>19.561500</td>\n",
       "      <td>19.151623</td>\n",
       "      <td>0.431413</td>\n",
       "    </tr>\n",
       "    <tr>\n",
       "      <th>max</th>\n",
       "      <td>32.564690</td>\n",
       "      <td>31.013640</td>\n",
       "      <td>31.521720</td>\n",
       "      <td>31.343010</td>\n",
       "      <td>30.781270</td>\n",
       "      <td>7.018627</td>\n",
       "    </tr>\n",
       "  </tbody>\n",
       "</table>\n",
       "</div>"
      ],
      "text/plain": [
       "             dered_u        dered_g        dered_r        dered_i  \\\n",
       "count  135000.000000  135000.000000  135000.000000  135000.000000   \n",
       "mean       21.818135      20.309045      19.285139      18.592777   \n",
       "std         2.191509       1.830998       1.673204       1.488666   \n",
       "min        10.332040       9.884518       9.321852       9.207663   \n",
       "25%        20.000940      18.970020      18.255080      17.759570   \n",
       "50%        21.933740      20.637290      19.579080      18.846650   \n",
       "75%        23.402515      21.611540      20.441560      19.561500   \n",
       "max        32.564690      31.013640      31.521720      31.343010   \n",
       "\n",
       "             dered_z              z  \n",
       "count  135000.000000  135000.000000  \n",
       "mean       18.275074       0.293436  \n",
       "std         1.500261       0.498651  \n",
       "min         9.800303      -0.009944  \n",
       "25%        17.433850       0.000095  \n",
       "50%        18.440160       0.188444  \n",
       "75%        19.151623       0.431413  \n",
       "max        30.781270       7.018627  "
      ]
     },
     "execution_count": 9,
     "metadata": {},
     "output_type": "execute_result"
    }
   ],
   "source": [
    "data_clean.describe()"
   ]
  },
  {
   "cell_type": "code",
   "execution_count": 10,
   "metadata": {},
   "outputs": [],
   "source": [
    "def hist_plots( data: pd.DataFrame,\n",
    "               rows: int,\n",
    "              cols: int,\n",
    "              figsize: tuple):\n",
    "    fig, axes = plt.subplots(rows,cols, figsize=figsize)\n",
    "    for i, ax in enumerate(axes.flatten()):\n",
    "        if i < len(data.columns):\n",
    "            data[sorted(data.columns)[i]].plot.hist(bins=30, ax=ax)\n",
    "            ax.set_title(f'{sorted(data.columns)[i]} distribution', fontsize=10)\n",
    "            ax.tick_params(axis='x', labelsize=10)\n",
    "            ax.tick_params(axis='y', labelsize=10)\n",
    "            ax.get_yaxis().get_label().set_visible(False)\n",
    "        else:\n",
    "            fig.delaxes(ax=ax)\n",
    "    fig.tight_layout()"
   ]
  },
  {
   "cell_type": "code",
   "execution_count": 11,
   "metadata": {},
   "outputs": [
    {
     "data": {
      "image/png": "[encoded data removed]",
      "text/plain": [
       "<Figure size 1440x720 with 6 Axes>"
      ]
     },
     "metadata": {
      "needs_background": "light"
     },
     "output_type": "display_data"
    }
   ],
   "source": [
    "#Histograms of the columns in the dataset\n",
    "hist_plots(data=data_clean,\n",
    "          rows=2,\n",
    "          cols=4,\n",
    "          figsize=(20,10))\n"
   ]
  },
  {
   "cell_type": "markdown",
   "metadata": {},
   "source": [
    "Mostly normal distributions of the bands around 18-20 mag. Most redshifts are less than 0.5."
   ]
  },
  {
   "cell_type": "code",
   "execution_count": 12,
   "metadata": {},
   "outputs": [],
   "source": [
    "# Creating the atributes set as X and the target redshift as y\n",
    "cols= data_clean.columns[:-1]\n",
    "X = data_clean[cols]\n",
    "y = data_clean['z']\n"
   ]
  },
  {
   "cell_type": "code",
   "execution_count": 13,
   "metadata": {},
   "outputs": [
    {
     "data": {
      "image/png": "[encoded data removed]",
      "text/plain": [
       "<Figure size 360x360 with 1 Axes>"
      ]
     },
     "metadata": {
      "needs_background": "light"
     },
     "output_type": "display_data"
    }
   ],
   "source": [
    "\n",
    "data['ur'] =  data['dered_u'] - data['dered_r']\n",
    "data['gr'] =  data['dered_g'] - data['dered_r']\n",
    "\n",
    "sns.lmplot( x=\"ur\", y=\"gr\", data=data, fit_reg=False, hue='class', legend=False)\n",
    " \n",
    "# Move the legend to an empty part of the plot\n",
    "plt.legend(loc='lower right')\n",
    "\n",
    "plt.show()"
   ]
  },
  {
   "cell_type": "markdown",
   "metadata": {},
   "source": [
    "As seen by the graph above, colours (the difference in magnitude between 2 bands) gives no extra information."
   ]
  },
  {
   "cell_type": "markdown",
   "metadata": {},
   "source": [
    "## Training models"
   ]
  },
  {
   "cell_type": "code",
   "execution_count": 14,
   "metadata": {},
   "outputs": [],
   "source": [
    "# Splitting the Xand y datasets into training and test set\n",
    "from sklearn.model_selection import train_test_split\n",
    "\n",
    "X_train, X_test, y_train, y_test = train_test_split(X, y, \n",
    "                                                    test_size=0.3, random_state=42)"
   ]
  },
  {
   "cell_type": "code",
   "execution_count": 15,
   "metadata": {},
   "outputs": [],
   "source": [
    "# Linear regression\n",
    "from sklearn.linear_model import LinearRegression\n",
    "from sklearn.metrics import mean_squared_error\n",
    "\n",
    "LR = LinearRegression()\n",
    "\n",
    "# Storage for error values\n",
    "error_df = list()\n",
    "\n",
    "\n",
    "LR = LR.fit(X_train, y_train)\n",
    "y_train_pred = LR.predict(X_train)\n",
    "y_test_pred = LR.predict(X_test)\n",
    "\n",
    "error_df.append(pd.Series({'train': mean_squared_error(y_train, y_train_pred),\n",
    "                           'test' : mean_squared_error(y_test,  y_test_pred)}))\n"
   ]
  },
  {
   "cell_type": "code",
   "execution_count": 16,
   "metadata": {},
   "outputs": [
    {
     "data": {
      "text/plain": [
       "[train    0.229884\n",
       " test     0.217391\n",
       " dtype: float64]"
      ]
     },
     "execution_count": 16,
     "metadata": {},
     "output_type": "execute_result"
    }
   ],
   "source": [
    "error_df"
   ]
  },
  {
   "cell_type": "code",
   "execution_count": 19,
   "metadata": {},
   "outputs": [],
   "source": [
    "# Random Forest with GridSearchCV\n",
    "from sklearn.ensemble import RandomForestRegressor\n",
    "from sklearn.model_selection import GridSearchCV\n",
    "RF = RandomForestRegressor(random_state = 42)\n",
    "param_grid = {  'bootstrap': [True],\n",
    "                'max_features': ['log2'], \n",
    "                'n_estimators': range(300,400, 20)}\n",
    "\n",
    "rf= GridSearchCV(RF,\n",
    "                  param_grid=param_grid)\n",
    "\n",
    "# Train the model on training data\n",
    "rf.fit(X_train, y_train);\n",
    "predictions = rf.predict(X_test)\n"
   ]
  },
  {
   "cell_type": "code",
   "execution_count": 20,
   "metadata": {},
   "outputs": [
    {
     "data": {
      "text/plain": [
       "({'bootstrap': True, 'max_features': 'log2', 'n_estimators': 380},\n",
       " 0.5989613533349238)"
      ]
     },
     "execution_count": 20,
     "metadata": {},
     "output_type": "execute_result"
    }
   ],
   "source": [
    "rf.best_params_ ,rf.best_score_"
   ]
  },
  {
   "cell_type": "markdown",
   "metadata": {},
   "source": [
    "'bootstrap': True, 'max_features': 'log2', 'n_estimators': 121 best parameters of the random forest regressor. "
   ]
  },
  {
   "cell_type": "code",
   "execution_count": 21,
   "metadata": {},
   "outputs": [
    {
     "name": "stdout",
     "output_type": "stream",
     "text": [
      "Mean Square Error RF: 0.075\n"
     ]
    }
   ],
   "source": [
    "# Print out the mean square error between the predicted redshift and the spectroscopic redshift\n",
    "print('Mean Square Error RF:', round(mean_squared_error(y_test, predictions), 3))"
   ]
  },
  {
   "cell_type": "code",
   "execution_count": 22,
   "metadata": {},
   "outputs": [
    {
     "name": "stdout",
     "output_type": "stream",
     "text": [
      "Mean Square Error SDSS: 0.259\n"
     ]
    }
   ],
   "source": [
    "# MSE between the SDSS photo redshift and the spectroscopic redshift\n",
    "sZ= data.loc[(data['photoZ'] >= 0.0)]['z']\n",
    "print('Mean Square Error SDSS:', round(mean_squared_error(sZ,photoz), 3))"
   ]
  },
  {
   "cell_type": "markdown",
   "metadata": {},
   "source": [
    "The test error of the linear regression model is (mse) 0.23 while we get an mse of 0.075 with randome forest classifier. To compare errors the mse from the difference between photometric redshift and spectroscopic redshift is 0.259."
   ]
  },
  {
   "cell_type": "code",
   "execution_count": 30,
   "metadata": {},
   "outputs": [
    {
     "data": {
      "text/html": [
       "<div>\n",
       "<style scoped>\n",
       "    .dataframe tbody tr th:only-of-type {\n",
       "        vertical-align: middle;\n",
       "    }\n",
       "\n",
       "    .dataframe tbody tr th {\n",
       "        vertical-align: top;\n",
       "    }\n",
       "\n",
       "    .dataframe thead th {\n",
       "        text-align: right;\n",
       "    }\n",
       "</style>\n",
       "<table border=\"1\" class=\"dataframe\">\n",
       "  <thead>\n",
       "    <tr style=\"text-align: right;\">\n",
       "      <th></th>\n",
       "      <th>objID</th>\n",
       "      <th>dered_u</th>\n",
       "      <th>err_u</th>\n",
       "      <th>dered_g</th>\n",
       "      <th>err_g</th>\n",
       "      <th>dered_r</th>\n",
       "      <th>err_r</th>\n",
       "      <th>dered_i</th>\n",
       "      <th>err_i</th>\n",
       "      <th>dered_z</th>\n",
       "      <th>...</th>\n",
       "      <th>zErr</th>\n",
       "      <th>photoZ</th>\n",
       "      <th>photoErr</th>\n",
       "      <th>class</th>\n",
       "      <th>subClass</th>\n",
       "      <th>type</th>\n",
       "      <th>ur</th>\n",
       "      <th>gr</th>\n",
       "      <th>pred</th>\n",
       "      <th>pred_err</th>\n",
       "    </tr>\n",
       "  </thead>\n",
       "  <tbody>\n",
       "    <tr>\n",
       "      <th>123458</th>\n",
       "      <td>1237660764298674628</td>\n",
       "      <td>24.07581</td>\n",
       "      <td>1.286765</td>\n",
       "      <td>21.86084</td>\n",
       "      <td>0.125899</td>\n",
       "      <td>20.48475</td>\n",
       "      <td>0.058795</td>\n",
       "      <td>19.51616</td>\n",
       "      <td>0.033645</td>\n",
       "      <td>19.29449</td>\n",
       "      <td>...</td>\n",
       "      <td>0.000053</td>\n",
       "      <td>0.547303</td>\n",
       "      <td>0.052060</td>\n",
       "      <td>STAR</td>\n",
       "      <td>M1 (204445)</td>\n",
       "      <td>3.0</td>\n",
       "      <td>3.59106</td>\n",
       "      <td>1.37609</td>\n",
       "      <td>0.138653</td>\n",
       "      <td>0.138631</td>\n",
       "    </tr>\n",
       "    <tr>\n",
       "      <th>87764</th>\n",
       "      <td>1237661416602796352</td>\n",
       "      <td>25.32982</td>\n",
       "      <td>0.726183</td>\n",
       "      <td>22.55227</td>\n",
       "      <td>0.114455</td>\n",
       "      <td>22.83547</td>\n",
       "      <td>0.249895</td>\n",
       "      <td>21.45920</td>\n",
       "      <td>0.107526</td>\n",
       "      <td>22.01094</td>\n",
       "      <td>...</td>\n",
       "      <td>0.001092</td>\n",
       "      <td>0.247493</td>\n",
       "      <td>0.154322</td>\n",
       "      <td>QSO</td>\n",
       "      <td>NaN</td>\n",
       "      <td>3.0</td>\n",
       "      <td>2.49435</td>\n",
       "      <td>-0.28320</td>\n",
       "      <td>1.711563</td>\n",
       "      <td>0.001081</td>\n",
       "    </tr>\n",
       "    <tr>\n",
       "      <th>101692</th>\n",
       "      <td>1237664819287949338</td>\n",
       "      <td>12.79254</td>\n",
       "      <td>0.003249</td>\n",
       "      <td>11.64368</td>\n",
       "      <td>0.001720</td>\n",
       "      <td>11.09547</td>\n",
       "      <td>0.001684</td>\n",
       "      <td>10.80082</td>\n",
       "      <td>0.001699</td>\n",
       "      <td>10.63779</td>\n",
       "      <td>...</td>\n",
       "      <td>0.000016</td>\n",
       "      <td>0.032504</td>\n",
       "      <td>0.007985</td>\n",
       "      <td>STAR</td>\n",
       "      <td>A0</td>\n",
       "      <td>3.0</td>\n",
       "      <td>1.69707</td>\n",
       "      <td>0.54821</td>\n",
       "      <td>0.003318</td>\n",
       "      <td>0.002619</td>\n",
       "    </tr>\n",
       "    <tr>\n",
       "      <th>83846</th>\n",
       "      <td>1237667910591906187</td>\n",
       "      <td>26.64964</td>\n",
       "      <td>0.446320</td>\n",
       "      <td>21.87149</td>\n",
       "      <td>0.113672</td>\n",
       "      <td>20.13940</td>\n",
       "      <td>0.037472</td>\n",
       "      <td>19.37429</td>\n",
       "      <td>0.028726</td>\n",
       "      <td>19.02763</td>\n",
       "      <td>...</td>\n",
       "      <td>0.000058</td>\n",
       "      <td>0.450060</td>\n",
       "      <td>0.025805</td>\n",
       "      <td>QSO</td>\n",
       "      <td>AGN</td>\n",
       "      <td>3.0</td>\n",
       "      <td>6.51024</td>\n",
       "      <td>1.73209</td>\n",
       "      <td>1.141498</td>\n",
       "      <td>0.659053</td>\n",
       "    </tr>\n",
       "    <tr>\n",
       "      <th>52689</th>\n",
       "      <td>1237661385994928261</td>\n",
       "      <td>19.43503</td>\n",
       "      <td>0.036228</td>\n",
       "      <td>19.05497</td>\n",
       "      <td>0.013540</td>\n",
       "      <td>18.35523</td>\n",
       "      <td>0.010204</td>\n",
       "      <td>17.99414</td>\n",
       "      <td>0.010228</td>\n",
       "      <td>17.70808</td>\n",
       "      <td>...</td>\n",
       "      <td>0.000047</td>\n",
       "      <td>0.299495</td>\n",
       "      <td>0.047221</td>\n",
       "      <td>QSO</td>\n",
       "      <td>STARBURST BROADLINE</td>\n",
       "      <td>3.0</td>\n",
       "      <td>1.07980</td>\n",
       "      <td>0.69974</td>\n",
       "      <td>0.248143</td>\n",
       "      <td>0.001023</td>\n",
       "    </tr>\n",
       "  </tbody>\n",
       "</table>\n",
       "<p>5 rows × 23 columns</p>\n",
       "</div>"
      ],
      "text/plain": [
       "                      objID   dered_u     err_u   dered_g     err_g   dered_r  \\\n",
       "123458  1237660764298674628  24.07581  1.286765  21.86084  0.125899  20.48475   \n",
       "87764   1237661416602796352  25.32982  0.726183  22.55227  0.114455  22.83547   \n",
       "101692  1237664819287949338  12.79254  0.003249  11.64368  0.001720  11.09547   \n",
       "83846   1237667910591906187  26.64964  0.446320  21.87149  0.113672  20.13940   \n",
       "52689   1237661385994928261  19.43503  0.036228  19.05497  0.013540  18.35523   \n",
       "\n",
       "           err_r   dered_i     err_i   dered_z  ...      zErr    photoZ  \\\n",
       "123458  0.058795  19.51616  0.033645  19.29449  ...  0.000053  0.547303   \n",
       "87764   0.249895  21.45920  0.107526  22.01094  ...  0.001092  0.247493   \n",
       "101692  0.001684  10.80082  0.001699  10.63779  ...  0.000016  0.032504   \n",
       "83846   0.037472  19.37429  0.028726  19.02763  ...  0.000058  0.450060   \n",
       "52689   0.010204  17.99414  0.010228  17.70808  ...  0.000047  0.299495   \n",
       "\n",
       "        photoErr  class             subClass  type       ur       gr  \\\n",
       "123458  0.052060   STAR          M1 (204445)   3.0  3.59106  1.37609   \n",
       "87764   0.154322    QSO                  NaN   3.0  2.49435 -0.28320   \n",
       "101692  0.007985   STAR                   A0   3.0  1.69707  0.54821   \n",
       "83846   0.025805    QSO                  AGN   3.0  6.51024  1.73209   \n",
       "52689   0.047221    QSO  STARBURST BROADLINE   3.0  1.07980  0.69974   \n",
       "\n",
       "            pred  pred_err  \n",
       "123458  0.138653  0.138631  \n",
       "87764   1.711563  0.001081  \n",
       "101692  0.003318  0.002619  \n",
       "83846   1.141498  0.659053  \n",
       "52689   0.248143  0.001023  \n",
       "\n",
       "[5 rows x 23 columns]"
      ]
     },
     "execution_count": 30,
     "metadata": {},
     "output_type": "execute_result"
    }
   ],
   "source": [
    "index = pd.DataFrame(index=X_test.index)\n",
    "errors = index.join(data, how= 'inner')\n",
    "prediction = pd.DataFrame(predictions, columns = ['pred'])\n",
    "errors['pred'] = predictions\n",
    "errors['pred_err'] = abs(errors['pred'] - errors['z'])\n",
    "\n",
    "errors.head()\n"
   ]
  },
  {
   "cell_type": "code",
   "execution_count": 31,
   "metadata": {},
   "outputs": [
    {
     "data": {
      "image/png": "[encoded data removed]",
      "text/plain": [
       "<Figure size 443.475x360 with 1 Axes>"
      ]
     },
     "metadata": {
      "needs_background": "light"
     },
     "output_type": "display_data"
    }
   ],
   "source": [
    "# plot of dered_r versus the absolute error of predicted redshift and spectroscopic redshif (pred_err)\n",
    "sns.lmplot( x=\"dered_r\", y=\"pred_err\", data=errors, fit_reg=False, hue='class',scatter_kws={'alpha':0.25})\n",
    "plt.show()"
   ]
  },
  {
   "cell_type": "markdown",
   "metadata": {},
   "source": [
    "There doesn't seem to be a correlation between the absolute error of predicted redshift and spectroscopic redshif (pred_err) andthe r band. There does seem to be a fraction of galaxies with high pred_err, all around magnitude 20 "
   ]
  },
  {
   "cell_type": "code",
   "execution_count": 32,
   "metadata": {},
   "outputs": [
    {
     "data": {
      "text/plain": [
       "<seaborn.axisgrid.FacetGrid at 0x7fb5a7719610>"
      ]
     },
     "execution_count": 32,
     "metadata": {},
     "output_type": "execute_result"
    },
    {
     "data": {
      "image/png": "[encoded data removed]",
      "text/plain": [
       "<Figure size 443.475x360 with 1 Axes>"
      ]
     },
     "metadata": {
      "needs_background": "light"
     },
     "output_type": "display_data"
    }
   ],
   "source": [
    "# Scatter plot of the redshift with the pred_err for the 3 classes (star, galaxies and QSO)\n",
    "sns.lmplot( x=\"z\", y=\"pred_err\", data=errors, fit_reg=False, hue = 'class', scatter_kws={'alpha':0.25})"
   ]
  },
  {
   "cell_type": "markdown",
   "metadata": {},
   "source": [
    "There is a correlation of some sources with higher redshift, the higher the pred_err.  "
   ]
  },
  {
   "cell_type": "code",
   "execution_count": 33,
   "metadata": {},
   "outputs": [
    {
     "data": {
      "image/png": "[encoded data removed]",
      "text/plain": [
       "<Figure size 432x288 with 1 Axes>"
      ]
     },
     "metadata": {
      "needs_background": "light"
     },
     "output_type": "display_data"
    }
   ],
   "source": [
    "# histograms of the absolute errors for the predicted redshift and the photometric redshift.\n",
    "plt.hist(abs(photoz-sZ), bins=50,density =True,histtype= 'step')\n",
    "plt.hist(errors['pred_err'], bins=50, density = True,histtype= 'step')\n",
    "labels= [\"SDSS_err\", \"Pred_err\"]\n",
    "plt.legend(labels)\n",
    "plt.show()"
   ]
  },
  {
   "cell_type": "code",
   "execution_count": 34,
   "metadata": {},
   "outputs": [
    {
     "data": {
      "text/plain": [
       "<matplotlib.legend.Legend at 0x7fb5a762c5d0>"
      ]
     },
     "execution_count": 34,
     "metadata": {},
     "output_type": "execute_result"
    },
    {
     "data": {
      "image/png": "[encoded data removed]",
      "text/plain": [
       "<Figure size 432x288 with 1 Axes>"
      ]
     },
     "metadata": {
      "needs_background": "light"
     },
     "output_type": "display_data"
    }
   ],
   "source": [
    "# getting data of the histogram\n",
    "count, bins_count = np.histogram(errors['pred_err'], bins=100)\n",
    "count2, bins_count2 = np.histogram(abs(photoz-sZ), bins=100) \n",
    "# finding the PDF of the histogram using count values\n",
    "pdf = count / sum(count)\n",
    "pdf_photo = count2 / sum(count2)\n",
    "# using numpy np.cumsum to calculate the CDF\n",
    "cdf = np.cumsum(pdf)\n",
    "cdf_photo =  np.cumsum(pdf_photo)\n",
    "# plotting PDF and CDF\n",
    "\n",
    "plt.plot(bins_count[1:], cdf, label=\"pred_err\")\n",
    "plt.plot(bins_count2[1:], cdf_photo, color=\"red\", label=\"photo_err\")\n",
    "plt.legend()"
   ]
  },
  {
   "cell_type": "markdown",
   "metadata": {},
   "source": [
    "Both the histogram and the cumulative plots show that the RF predicted errors do better than the photometric errors."
   ]
  },
  {
   "cell_type": "markdown",
   "metadata": {},
   "source": [
    "\n",
    "## Conclusion\n",
    "\n",
    "For the 135,000 sources in this dataset with the same number of of sources per class, the mse between the predicted redshift and the spectroscopic redshift(pred_err) is 0.075; much less than the mse between the SDSS photometric errors and the spectroscopic errors of 0.259. \n",
    "\n",
    "It was also observed that the pred_err was not correlated with the r band. But it was observed that a small fraction of galaxies with an r band magnitude of about 20, have high errors.\n",
    "\n",
    "There was some correlation at high redshifht (z > 1). This represent a very small subset of the entire dataset. Need to check if the errors would be as high if they were better rappresented in the dataset.\n",
    "\n"
   ]
  }
 ],
 "metadata": {
  "kernelspec": {
   "display_name": "Python 3",
   "language": "python",
   "name": "python3"
  },
  "language_info": {
   "codemirror_mode": {
    "name": "ipython",
    "version": 3
   },
   "file_extension": ".py",
   "mimetype": "text/x-python",
   "name": "python",
   "nbconvert_exporter": "python",
   "pygments_lexer": "ipython3",
   "version": "3.7.6"
  }
 },
 "nbformat": 4,
 "nbformat_minor": 4
}
