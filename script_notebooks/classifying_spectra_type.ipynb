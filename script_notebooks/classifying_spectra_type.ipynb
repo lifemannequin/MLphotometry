{
 "cells": [
  {
   "cell_type": "markdown",
   "metadata": {},
   "source": [
    "# Classifying Spectral types\n",
    "\n",
    "## Introduction\n",
    "\n",
    "Initially, classifying the spectra using ML was more for fun than for a purpose. But on the light of my other notebook on determining the redshifts using ML, classification of spectal types could help reduce the errors on the determining the redshifts using photometry.\n",
    "\n",
    "The data was obtained using the skyserver from the Sloan Digital Sky Survey (SDSS) using the SQL query. In the SQL query, I specified for no missing values of the redshift or the five bands (u,g,r,i,z). Also the dered values were obtained to account for galactic extinction. For each spectral class (star, galaxy and QSO), 5000 sources were obtained; giving a total of 15000 sources."
   ]
  },
  {
   "cell_type": "code",
   "execution_count": 1,
   "metadata": {},
   "outputs": [],
   "source": [
    "import os\n",
    "import numpy as np\n",
    "import pandas as pd\n",
    "from pandas.plotting import table\n",
    "import seaborn as sns\n",
    "import matplotlib.pyplot as plt\n",
    "from scipy import stats\n",
    "sns.set()\n",
    "%matplotlib inline"
   ]
  },
  {
   "cell_type": "code",
   "execution_count": 2,
   "metadata": {
    "scrolled": true
   },
   "outputs": [
    {
     "data": {
      "text/html": [
       "<div>\n",
       "<style scoped>\n",
       "    .dataframe tbody tr th:only-of-type {\n",
       "        vertical-align: middle;\n",
       "    }\n",
       "\n",
       "    .dataframe tbody tr th {\n",
       "        vertical-align: top;\n",
       "    }\n",
       "\n",
       "    .dataframe thead th {\n",
       "        text-align: right;\n",
       "    }\n",
       "</style>\n",
       "<table border=\"1\" class=\"dataframe\">\n",
       "  <thead>\n",
       "    <tr style=\"text-align: right;\">\n",
       "      <th></th>\n",
       "      <th>#objID</th>\n",
       "      <th>type</th>\n",
       "      <th>dered_u</th>\n",
       "      <th>err_u</th>\n",
       "      <th>dered_g</th>\n",
       "      <th>err_g</th>\n",
       "      <th>dered_r</th>\n",
       "      <th>err_r</th>\n",
       "      <th>dered_i</th>\n",
       "      <th>err_i</th>\n",
       "      <th>dered_z</th>\n",
       "      <th>err_z</th>\n",
       "      <th>specObjID</th>\n",
       "      <th>z</th>\n",
       "      <th>zErr</th>\n",
       "      <th>photoZ</th>\n",
       "      <th>photoErr</th>\n",
       "      <th>zWarning</th>\n",
       "      <th>class</th>\n",
       "      <th>subClass</th>\n",
       "    </tr>\n",
       "  </thead>\n",
       "  <tbody>\n",
       "    <tr>\n",
       "      <th>0</th>\n",
       "      <td>1237648703511068760</td>\n",
       "      <td>3</td>\n",
       "      <td>18.77188</td>\n",
       "      <td>0.018979</td>\n",
       "      <td>17.43419</td>\n",
       "      <td>0.004775</td>\n",
       "      <td>16.93682</td>\n",
       "      <td>0.004398</td>\n",
       "      <td>16.76784</td>\n",
       "      <td>0.004519</td>\n",
       "      <td>16.69084</td>\n",
       "      <td>0.009132</td>\n",
       "      <td>334462399065122816</td>\n",
       "      <td>0.000273</td>\n",
       "      <td>0.000010</td>\n",
       "      <td>0.028731</td>\n",
       "      <td>0.012854</td>\n",
       "      <td>0</td>\n",
       "      <td>STAR</td>\n",
       "      <td>F9</td>\n",
       "    </tr>\n",
       "    <tr>\n",
       "      <th>1</th>\n",
       "      <td>1237648703511068760</td>\n",
       "      <td>3</td>\n",
       "      <td>18.77188</td>\n",
       "      <td>0.018979</td>\n",
       "      <td>17.43419</td>\n",
       "      <td>0.004775</td>\n",
       "      <td>16.93682</td>\n",
       "      <td>0.004398</td>\n",
       "      <td>16.76784</td>\n",
       "      <td>0.004519</td>\n",
       "      <td>16.69084</td>\n",
       "      <td>0.009132</td>\n",
       "      <td>334463218732787712</td>\n",
       "      <td>0.000268</td>\n",
       "      <td>0.000012</td>\n",
       "      <td>0.028731</td>\n",
       "      <td>0.012854</td>\n",
       "      <td>0</td>\n",
       "      <td>STAR</td>\n",
       "      <td>F9</td>\n",
       "    </tr>\n",
       "    <tr>\n",
       "      <th>2</th>\n",
       "      <td>1237650761850290262</td>\n",
       "      <td>3</td>\n",
       "      <td>20.95792</td>\n",
       "      <td>0.113500</td>\n",
       "      <td>18.33668</td>\n",
       "      <td>0.007373</td>\n",
       "      <td>16.96131</td>\n",
       "      <td>0.004531</td>\n",
       "      <td>16.33501</td>\n",
       "      <td>0.004110</td>\n",
       "      <td>15.97918</td>\n",
       "      <td>0.007425</td>\n",
       "      <td>368266889681463296</td>\n",
       "      <td>0.000002</td>\n",
       "      <td>0.000009</td>\n",
       "      <td>0.205829</td>\n",
       "      <td>0.021877</td>\n",
       "      <td>0</td>\n",
       "      <td>STAR</td>\n",
       "      <td>M0</td>\n",
       "    </tr>\n",
       "    <tr>\n",
       "      <th>3</th>\n",
       "      <td>1237648705678147694</td>\n",
       "      <td>3</td>\n",
       "      <td>17.76817</td>\n",
       "      <td>0.012322</td>\n",
       "      <td>16.35608</td>\n",
       "      <td>0.003747</td>\n",
       "      <td>15.82515</td>\n",
       "      <td>0.003405</td>\n",
       "      <td>15.65219</td>\n",
       "      <td>0.003503</td>\n",
       "      <td>15.55778</td>\n",
       "      <td>0.005531</td>\n",
       "      <td>409929854226556928</td>\n",
       "      <td>0.000027</td>\n",
       "      <td>0.000007</td>\n",
       "      <td>0.024064</td>\n",
       "      <td>0.008734</td>\n",
       "      <td>0</td>\n",
       "      <td>STAR</td>\n",
       "      <td>F9</td>\n",
       "    </tr>\n",
       "    <tr>\n",
       "      <th>4</th>\n",
       "      <td>1237648705130987618</td>\n",
       "      <td>3</td>\n",
       "      <td>19.09714</td>\n",
       "      <td>0.034568</td>\n",
       "      <td>17.45125</td>\n",
       "      <td>0.006773</td>\n",
       "      <td>17.63474</td>\n",
       "      <td>0.006646</td>\n",
       "      <td>24.28417</td>\n",
       "      <td>3.215709</td>\n",
       "      <td>17.99097</td>\n",
       "      <td>0.034200</td>\n",
       "      <td>604619828854024192</td>\n",
       "      <td>-0.000010</td>\n",
       "      <td>0.000010</td>\n",
       "      <td>-9999.000000</td>\n",
       "      <td>-9999.000000</td>\n",
       "      <td>0</td>\n",
       "      <td>STAR</td>\n",
       "      <td>F9</td>\n",
       "    </tr>\n",
       "  </tbody>\n",
       "</table>\n",
       "</div>"
      ],
      "text/plain": [
       "                #objID  type   dered_u     err_u   dered_g     err_g  \\\n",
       "0  1237648703511068760     3  18.77188  0.018979  17.43419  0.004775   \n",
       "1  1237648703511068760     3  18.77188  0.018979  17.43419  0.004775   \n",
       "2  1237650761850290262     3  20.95792  0.113500  18.33668  0.007373   \n",
       "3  1237648705678147694     3  17.76817  0.012322  16.35608  0.003747   \n",
       "4  1237648705130987618     3  19.09714  0.034568  17.45125  0.006773   \n",
       "\n",
       "    dered_r     err_r   dered_i     err_i   dered_z     err_z  \\\n",
       "0  16.93682  0.004398  16.76784  0.004519  16.69084  0.009132   \n",
       "1  16.93682  0.004398  16.76784  0.004519  16.69084  0.009132   \n",
       "2  16.96131  0.004531  16.33501  0.004110  15.97918  0.007425   \n",
       "3  15.82515  0.003405  15.65219  0.003503  15.55778  0.005531   \n",
       "4  17.63474  0.006646  24.28417  3.215709  17.99097  0.034200   \n",
       "\n",
       "            specObjID         z      zErr       photoZ     photoErr  zWarning  \\\n",
       "0  334462399065122816  0.000273  0.000010     0.028731     0.012854         0   \n",
       "1  334463218732787712  0.000268  0.000012     0.028731     0.012854         0   \n",
       "2  368266889681463296  0.000002  0.000009     0.205829     0.021877         0   \n",
       "3  409929854226556928  0.000027  0.000007     0.024064     0.008734         0   \n",
       "4  604619828854024192 -0.000010  0.000010 -9999.000000 -9999.000000         0   \n",
       "\n",
       "  class subClass  \n",
       "0  STAR       F9  \n",
       "1  STAR       F9  \n",
       "2  STAR       M0  \n",
       "3  STAR       F9  \n",
       "4  STAR       F9  "
      ]
     },
     "execution_count": 2,
     "metadata": {},
     "output_type": "execute_result"
    }
   ],
   "source": [
    "#loading files\n",
    "filepath= \"/home/veroastro/Documents/spectraTypes/data/\"\n",
    "star = pd.read_csv(filepath+\"STAR2_Skyserver_SQL2_12_2022 5_02_48 PM.csv\")\n",
    "QSO = pd.read_csv(filepath+\"QSO2Skyserver_SQL2_12_2022 5_03_49 PM.csv\")\n",
    "galaxy = pd.read_csv(filepath+\"GALAXY2Skyserver_SQL2_12_2022 5_03_24 PM.csv\")\n",
    "star.head()"
   ]
  },
  {
   "cell_type": "code",
   "execution_count": 3,
   "metadata": {},
   "outputs": [
    {
     "data": {
      "text/html": [
       "<div>\n",
       "<style scoped>\n",
       "    .dataframe tbody tr th:only-of-type {\n",
       "        vertical-align: middle;\n",
       "    }\n",
       "\n",
       "    .dataframe tbody tr th {\n",
       "        vertical-align: top;\n",
       "    }\n",
       "\n",
       "    .dataframe thead th {\n",
       "        text-align: right;\n",
       "    }\n",
       "</style>\n",
       "<table border=\"1\" class=\"dataframe\">\n",
       "  <thead>\n",
       "    <tr style=\"text-align: right;\">\n",
       "      <th></th>\n",
       "      <th>#objID</th>\n",
       "      <th>type</th>\n",
       "      <th>dered_u</th>\n",
       "      <th>err_u</th>\n",
       "      <th>dered_g</th>\n",
       "      <th>err_g</th>\n",
       "      <th>dered_r</th>\n",
       "      <th>err_r</th>\n",
       "      <th>dered_i</th>\n",
       "      <th>err_i</th>\n",
       "      <th>dered_z</th>\n",
       "      <th>err_z</th>\n",
       "      <th>specObjID</th>\n",
       "      <th>z</th>\n",
       "      <th>zErr</th>\n",
       "      <th>photoZ</th>\n",
       "      <th>photoErr</th>\n",
       "      <th>zWarning</th>\n",
       "      <th>class</th>\n",
       "      <th>subClass</th>\n",
       "    </tr>\n",
       "  </thead>\n",
       "  <tbody>\n",
       "    <tr>\n",
       "      <th>3596</th>\n",
       "      <td>1237657877538996616</td>\n",
       "      <td>3</td>\n",
       "      <td>18.77780</td>\n",
       "      <td>0.021533</td>\n",
       "      <td>17.14138</td>\n",
       "      <td>0.004635</td>\n",
       "      <td>16.54338</td>\n",
       "      <td>0.004038</td>\n",
       "      <td>16.29598</td>\n",
       "      <td>0.004109</td>\n",
       "      <td>16.26506</td>\n",
       "      <td>0.007232</td>\n",
       "      <td>1043882979413223424</td>\n",
       "      <td>-0.000153</td>\n",
       "      <td>0.000012</td>\n",
       "      <td>0.018998</td>\n",
       "      <td>0.022096</td>\n",
       "      <td>0</td>\n",
       "      <td>STAR</td>\n",
       "      <td>K1</td>\n",
       "    </tr>\n",
       "    <tr>\n",
       "      <th>3877</th>\n",
       "      <td>1237655371433115750</td>\n",
       "      <td>3</td>\n",
       "      <td>19.70977</td>\n",
       "      <td>0.041320</td>\n",
       "      <td>19.57509</td>\n",
       "      <td>0.015132</td>\n",
       "      <td>19.08462</td>\n",
       "      <td>0.013293</td>\n",
       "      <td>18.87117</td>\n",
       "      <td>0.016542</td>\n",
       "      <td>18.43765</td>\n",
       "      <td>0.042202</td>\n",
       "      <td>873788251691837440</td>\n",
       "      <td>0.293577</td>\n",
       "      <td>0.000054</td>\n",
       "      <td>0.353059</td>\n",
       "      <td>0.038993</td>\n",
       "      <td>0</td>\n",
       "      <td>QSO</td>\n",
       "      <td>BROADLINE</td>\n",
       "    </tr>\n",
       "    <tr>\n",
       "      <th>4485</th>\n",
       "      <td>1237657190905741604</td>\n",
       "      <td>3</td>\n",
       "      <td>20.49796</td>\n",
       "      <td>0.081518</td>\n",
       "      <td>19.93220</td>\n",
       "      <td>0.022153</td>\n",
       "      <td>19.51818</td>\n",
       "      <td>0.021206</td>\n",
       "      <td>19.00519</td>\n",
       "      <td>0.018617</td>\n",
       "      <td>18.70650</td>\n",
       "      <td>0.052173</td>\n",
       "      <td>771257416066033664</td>\n",
       "      <td>0.583773</td>\n",
       "      <td>0.000215</td>\n",
       "      <td>0.439675</td>\n",
       "      <td>0.168145</td>\n",
       "      <td>0</td>\n",
       "      <td>QSO</td>\n",
       "      <td>NaN</td>\n",
       "    </tr>\n",
       "    <tr>\n",
       "      <th>84</th>\n",
       "      <td>1237651752923562103</td>\n",
       "      <td>3</td>\n",
       "      <td>17.01539</td>\n",
       "      <td>0.035806</td>\n",
       "      <td>15.42125</td>\n",
       "      <td>0.004727</td>\n",
       "      <td>14.98335</td>\n",
       "      <td>0.004504</td>\n",
       "      <td>14.71907</td>\n",
       "      <td>0.005077</td>\n",
       "      <td>14.56652</td>\n",
       "      <td>0.015886</td>\n",
       "      <td>302956442304931840</td>\n",
       "      <td>0.046220</td>\n",
       "      <td>0.000009</td>\n",
       "      <td>0.029971</td>\n",
       "      <td>0.008899</td>\n",
       "      <td>0</td>\n",
       "      <td>GALAXY</td>\n",
       "      <td>STARFORMING</td>\n",
       "    </tr>\n",
       "    <tr>\n",
       "      <th>2415</th>\n",
       "      <td>1237655124465418333</td>\n",
       "      <td>3</td>\n",
       "      <td>23.50389</td>\n",
       "      <td>12.862410</td>\n",
       "      <td>22.23635</td>\n",
       "      <td>2.266559</td>\n",
       "      <td>18.09105</td>\n",
       "      <td>0.081327</td>\n",
       "      <td>16.75460</td>\n",
       "      <td>0.036049</td>\n",
       "      <td>16.21874</td>\n",
       "      <td>0.081100</td>\n",
       "      <td>940188858522298368</td>\n",
       "      <td>0.000076</td>\n",
       "      <td>0.000055</td>\n",
       "      <td>0.304357</td>\n",
       "      <td>0.030680</td>\n",
       "      <td>0</td>\n",
       "      <td>STAR</td>\n",
       "      <td>M5</td>\n",
       "    </tr>\n",
       "  </tbody>\n",
       "</table>\n",
       "</div>"
      ],
      "text/plain": [
       "                   #objID  type   dered_u      err_u   dered_g     err_g  \\\n",
       "3596  1237657877538996616     3  18.77780   0.021533  17.14138  0.004635   \n",
       "3877  1237655371433115750     3  19.70977   0.041320  19.57509  0.015132   \n",
       "4485  1237657190905741604     3  20.49796   0.081518  19.93220  0.022153   \n",
       "84    1237651752923562103     3  17.01539   0.035806  15.42125  0.004727   \n",
       "2415  1237655124465418333     3  23.50389  12.862410  22.23635  2.266559   \n",
       "\n",
       "       dered_r     err_r   dered_i     err_i   dered_z     err_z  \\\n",
       "3596  16.54338  0.004038  16.29598  0.004109  16.26506  0.007232   \n",
       "3877  19.08462  0.013293  18.87117  0.016542  18.43765  0.042202   \n",
       "4485  19.51818  0.021206  19.00519  0.018617  18.70650  0.052173   \n",
       "84    14.98335  0.004504  14.71907  0.005077  14.56652  0.015886   \n",
       "2415  18.09105  0.081327  16.75460  0.036049  16.21874  0.081100   \n",
       "\n",
       "                specObjID         z      zErr    photoZ  photoErr  zWarning  \\\n",
       "3596  1043882979413223424 -0.000153  0.000012  0.018998  0.022096         0   \n",
       "3877   873788251691837440  0.293577  0.000054  0.353059  0.038993         0   \n",
       "4485   771257416066033664  0.583773  0.000215  0.439675  0.168145         0   \n",
       "84     302956442304931840  0.046220  0.000009  0.029971  0.008899         0   \n",
       "2415   940188858522298368  0.000076  0.000055  0.304357  0.030680         0   \n",
       "\n",
       "       class     subClass  \n",
       "3596    STAR           K1  \n",
       "3877     QSO    BROADLINE  \n",
       "4485     QSO          NaN  \n",
       "84    GALAXY  STARFORMING  \n",
       "2415    STAR           M5  "
      ]
     },
     "execution_count": 3,
     "metadata": {},
     "output_type": "execute_result"
    }
   ],
   "source": [
    "# Concatenating the three dataframes\n",
    "data = pd.concat([star, QSO, galaxy])\n",
    "#scrambling the data so that they are not ordered by class\n",
    "data = data.sample(frac=1)\n",
    "data.head()"
   ]
  },
  {
   "cell_type": "code",
   "execution_count": 4,
   "metadata": {},
   "outputs": [
    {
     "data": {
      "text/plain": [
       "(15000, 20)"
      ]
     },
     "execution_count": 4,
     "metadata": {},
     "output_type": "execute_result"
    }
   ],
   "source": [
    "data.shape"
   ]
  },
  {
   "cell_type": "code",
   "execution_count": 5,
   "metadata": {},
   "outputs": [
    {
     "data": {
      "text/plain": [
       "(15000, 17)"
      ]
     },
     "execution_count": 5,
     "metadata": {},
     "output_type": "execute_result"
    }
   ],
   "source": [
    "cols= ['zWarning','specObjID','#objID']\n",
    "data_clean = data.drop(columns=['zWarning','specObjID','#objID'])\n",
    "data_clean.shape"
   ]
  },
  {
   "cell_type": "code",
   "execution_count": 6,
   "metadata": {},
   "outputs": [
    {
     "data": {
      "text/html": [
       "<div>\n",
       "<style scoped>\n",
       "    .dataframe tbody tr th:only-of-type {\n",
       "        vertical-align: middle;\n",
       "    }\n",
       "\n",
       "    .dataframe tbody tr th {\n",
       "        vertical-align: top;\n",
       "    }\n",
       "\n",
       "    .dataframe thead th {\n",
       "        text-align: right;\n",
       "    }\n",
       "</style>\n",
       "<table border=\"1\" class=\"dataframe\">\n",
       "  <thead>\n",
       "    <tr style=\"text-align: right;\">\n",
       "      <th></th>\n",
       "      <th>type</th>\n",
       "      <th>dered_u</th>\n",
       "      <th>err_u</th>\n",
       "      <th>dered_g</th>\n",
       "      <th>err_g</th>\n",
       "      <th>dered_r</th>\n",
       "      <th>err_r</th>\n",
       "      <th>dered_i</th>\n",
       "      <th>err_i</th>\n",
       "      <th>dered_z</th>\n",
       "      <th>err_z</th>\n",
       "      <th>z</th>\n",
       "      <th>zErr</th>\n",
       "      <th>photoZ</th>\n",
       "      <th>photoErr</th>\n",
       "      <th>class</th>\n",
       "      <th>subClass</th>\n",
       "    </tr>\n",
       "  </thead>\n",
       "  <tbody>\n",
       "    <tr>\n",
       "      <th>3596</th>\n",
       "      <td>3</td>\n",
       "      <td>18.77780</td>\n",
       "      <td>0.021533</td>\n",
       "      <td>17.14138</td>\n",
       "      <td>0.004635</td>\n",
       "      <td>16.54338</td>\n",
       "      <td>0.004038</td>\n",
       "      <td>16.29598</td>\n",
       "      <td>0.004109</td>\n",
       "      <td>16.26506</td>\n",
       "      <td>0.007232</td>\n",
       "      <td>-0.000153</td>\n",
       "      <td>0.000012</td>\n",
       "      <td>0.018998</td>\n",
       "      <td>0.022096</td>\n",
       "      <td>STAR</td>\n",
       "      <td>K1</td>\n",
       "    </tr>\n",
       "    <tr>\n",
       "      <th>3877</th>\n",
       "      <td>3</td>\n",
       "      <td>19.70977</td>\n",
       "      <td>0.041320</td>\n",
       "      <td>19.57509</td>\n",
       "      <td>0.015132</td>\n",
       "      <td>19.08462</td>\n",
       "      <td>0.013293</td>\n",
       "      <td>18.87117</td>\n",
       "      <td>0.016542</td>\n",
       "      <td>18.43765</td>\n",
       "      <td>0.042202</td>\n",
       "      <td>0.293577</td>\n",
       "      <td>0.000054</td>\n",
       "      <td>0.353059</td>\n",
       "      <td>0.038993</td>\n",
       "      <td>QSO</td>\n",
       "      <td>BROADLINE</td>\n",
       "    </tr>\n",
       "    <tr>\n",
       "      <th>4485</th>\n",
       "      <td>3</td>\n",
       "      <td>20.49796</td>\n",
       "      <td>0.081518</td>\n",
       "      <td>19.93220</td>\n",
       "      <td>0.022153</td>\n",
       "      <td>19.51818</td>\n",
       "      <td>0.021206</td>\n",
       "      <td>19.00519</td>\n",
       "      <td>0.018617</td>\n",
       "      <td>18.70650</td>\n",
       "      <td>0.052173</td>\n",
       "      <td>0.583773</td>\n",
       "      <td>0.000215</td>\n",
       "      <td>0.439675</td>\n",
       "      <td>0.168145</td>\n",
       "      <td>QSO</td>\n",
       "      <td>NaN</td>\n",
       "    </tr>\n",
       "    <tr>\n",
       "      <th>84</th>\n",
       "      <td>3</td>\n",
       "      <td>17.01539</td>\n",
       "      <td>0.035806</td>\n",
       "      <td>15.42125</td>\n",
       "      <td>0.004727</td>\n",
       "      <td>14.98335</td>\n",
       "      <td>0.004504</td>\n",
       "      <td>14.71907</td>\n",
       "      <td>0.005077</td>\n",
       "      <td>14.56652</td>\n",
       "      <td>0.015886</td>\n",
       "      <td>0.046220</td>\n",
       "      <td>0.000009</td>\n",
       "      <td>0.029971</td>\n",
       "      <td>0.008899</td>\n",
       "      <td>GALAXY</td>\n",
       "      <td>STARFORMING</td>\n",
       "    </tr>\n",
       "    <tr>\n",
       "      <th>2415</th>\n",
       "      <td>3</td>\n",
       "      <td>23.50389</td>\n",
       "      <td>12.862410</td>\n",
       "      <td>22.23635</td>\n",
       "      <td>2.266559</td>\n",
       "      <td>18.09105</td>\n",
       "      <td>0.081327</td>\n",
       "      <td>16.75460</td>\n",
       "      <td>0.036049</td>\n",
       "      <td>16.21874</td>\n",
       "      <td>0.081100</td>\n",
       "      <td>0.000076</td>\n",
       "      <td>0.000055</td>\n",
       "      <td>0.304357</td>\n",
       "      <td>0.030680</td>\n",
       "      <td>STAR</td>\n",
       "      <td>M5</td>\n",
       "    </tr>\n",
       "  </tbody>\n",
       "</table>\n",
       "</div>"
      ],
      "text/plain": [
       "      type   dered_u      err_u   dered_g     err_g   dered_r     err_r  \\\n",
       "3596     3  18.77780   0.021533  17.14138  0.004635  16.54338  0.004038   \n",
       "3877     3  19.70977   0.041320  19.57509  0.015132  19.08462  0.013293   \n",
       "4485     3  20.49796   0.081518  19.93220  0.022153  19.51818  0.021206   \n",
       "84       3  17.01539   0.035806  15.42125  0.004727  14.98335  0.004504   \n",
       "2415     3  23.50389  12.862410  22.23635  2.266559  18.09105  0.081327   \n",
       "\n",
       "       dered_i     err_i   dered_z     err_z         z      zErr    photoZ  \\\n",
       "3596  16.29598  0.004109  16.26506  0.007232 -0.000153  0.000012  0.018998   \n",
       "3877  18.87117  0.016542  18.43765  0.042202  0.293577  0.000054  0.353059   \n",
       "4485  19.00519  0.018617  18.70650  0.052173  0.583773  0.000215  0.439675   \n",
       "84    14.71907  0.005077  14.56652  0.015886  0.046220  0.000009  0.029971   \n",
       "2415  16.75460  0.036049  16.21874  0.081100  0.000076  0.000055  0.304357   \n",
       "\n",
       "      photoErr   class     subClass  \n",
       "3596  0.022096    STAR           K1  \n",
       "3877  0.038993     QSO    BROADLINE  \n",
       "4485  0.168145     QSO          NaN  \n",
       "84    0.008899  GALAXY  STARFORMING  \n",
       "2415  0.030680    STAR           M5  "
      ]
     },
     "execution_count": 6,
     "metadata": {},
     "output_type": "execute_result"
    }
   ],
   "source": [
    "data_clean.head()"
   ]
  },
  {
   "cell_type": "code",
   "execution_count": 7,
   "metadata": {},
   "outputs": [],
   "source": [
    "# Encoding to integers the classes\n",
    "def type_to_value(n):\n",
    "    if n == 'STAR':\n",
    "        return 1\n",
    "    elif n == 'QSO':\n",
    "        return 2\n",
    "    elif n == 'GALAXY':\n",
    "        return 3\n",
    "    \n",
    "\n",
    "data_clean['nClass'] = [type_to_value(n) for n in data_clean['class']]"
   ]
  },
  {
   "cell_type": "code",
   "execution_count": 8,
   "metadata": {},
   "outputs": [
    {
     "data": {
      "text/html": [
       "<div>\n",
       "<style scoped>\n",
       "    .dataframe tbody tr th:only-of-type {\n",
       "        vertical-align: middle;\n",
       "    }\n",
       "\n",
       "    .dataframe tbody tr th {\n",
       "        vertical-align: top;\n",
       "    }\n",
       "\n",
       "    .dataframe thead th {\n",
       "        text-align: right;\n",
       "    }\n",
       "</style>\n",
       "<table border=\"1\" class=\"dataframe\">\n",
       "  <thead>\n",
       "    <tr style=\"text-align: right;\">\n",
       "      <th></th>\n",
       "      <th>type</th>\n",
       "      <th>dered_u</th>\n",
       "      <th>dered_g</th>\n",
       "      <th>dered_r</th>\n",
       "      <th>dered_i</th>\n",
       "      <th>dered_z</th>\n",
       "      <th>nClass</th>\n",
       "    </tr>\n",
       "  </thead>\n",
       "  <tbody>\n",
       "    <tr>\n",
       "      <th>3596</th>\n",
       "      <td>3</td>\n",
       "      <td>18.77780</td>\n",
       "      <td>17.14138</td>\n",
       "      <td>16.54338</td>\n",
       "      <td>16.29598</td>\n",
       "      <td>16.26506</td>\n",
       "      <td>1</td>\n",
       "    </tr>\n",
       "    <tr>\n",
       "      <th>3877</th>\n",
       "      <td>3</td>\n",
       "      <td>19.70977</td>\n",
       "      <td>19.57509</td>\n",
       "      <td>19.08462</td>\n",
       "      <td>18.87117</td>\n",
       "      <td>18.43765</td>\n",
       "      <td>2</td>\n",
       "    </tr>\n",
       "    <tr>\n",
       "      <th>4485</th>\n",
       "      <td>3</td>\n",
       "      <td>20.49796</td>\n",
       "      <td>19.93220</td>\n",
       "      <td>19.51818</td>\n",
       "      <td>19.00519</td>\n",
       "      <td>18.70650</td>\n",
       "      <td>2</td>\n",
       "    </tr>\n",
       "    <tr>\n",
       "      <th>84</th>\n",
       "      <td>3</td>\n",
       "      <td>17.01539</td>\n",
       "      <td>15.42125</td>\n",
       "      <td>14.98335</td>\n",
       "      <td>14.71907</td>\n",
       "      <td>14.56652</td>\n",
       "      <td>3</td>\n",
       "    </tr>\n",
       "    <tr>\n",
       "      <th>2415</th>\n",
       "      <td>3</td>\n",
       "      <td>23.50389</td>\n",
       "      <td>22.23635</td>\n",
       "      <td>18.09105</td>\n",
       "      <td>16.75460</td>\n",
       "      <td>16.21874</td>\n",
       "      <td>1</td>\n",
       "    </tr>\n",
       "  </tbody>\n",
       "</table>\n",
       "</div>"
      ],
      "text/plain": [
       "      type   dered_u   dered_g   dered_r   dered_i   dered_z  nClass\n",
       "3596     3  18.77780  17.14138  16.54338  16.29598  16.26506       1\n",
       "3877     3  19.70977  19.57509  19.08462  18.87117  18.43765       2\n",
       "4485     3  20.49796  19.93220  19.51818  19.00519  18.70650       2\n",
       "84       3  17.01539  15.42125  14.98335  14.71907  14.56652       3\n",
       "2415     3  23.50389  22.23635  18.09105  16.75460  16.21874       1"
      ]
     },
     "execution_count": 8,
     "metadata": {},
     "output_type": "execute_result"
    }
   ],
   "source": [
    "# Removing errors, redshift and class data\n",
    "data1 = data_clean.drop(['err_u', 'err_g', 'err_r', 'err_i', 'err_z','z', 'zErr', 'class', 'subClass','photoZ','photoErr'], axis = 1)\n",
    "data1.head()"
   ]
  },
  {
   "cell_type": "code",
   "execution_count": 9,
   "metadata": {},
   "outputs": [],
   "source": [
    "def hist_plots( data: pd.DataFrame,\n",
    "               rows: int,\n",
    "              cols: int,\n",
    "              figsize: tuple):\n",
    "    fig, axes = plt.subplots(rows,cols, figsize=figsize)\n",
    "    for i, ax in enumerate(axes.flatten()):\n",
    "        if i < len(data.columns):\n",
    "            data[sorted(data.columns)[i]].plot.hist(bins=30, ax=ax)\n",
    "            ax.set_title(f'{sorted(data.columns)[i]} distribution', fontsize=10)\n",
    "            ax.tick_params(axis='x', labelsize=10)\n",
    "            ax.tick_params(axis='y', labelsize=10)\n",
    "            ax.get_yaxis().get_label().set_visible(False)\n",
    "        else:\n",
    "            fig.delaxes(ax=ax)\n",
    "    fig.tight_layout()"
   ]
  },
  {
   "cell_type": "code",
   "execution_count": 10,
   "metadata": {},
   "outputs": [
    {
     "data": {
      "image/png": "[encoded data removed]",
      "text/plain": [
       "<Figure size 1440x720 with 7 Axes>"
      ]
     },
     "metadata": {
      "needs_background": "light"
     },
     "output_type": "display_data"
    }
   ],
   "source": [
    "hist_plots(data=data1,\n",
    "          rows=2,\n",
    "          cols=4,\n",
    "          figsize=(20,10))"
   ]
  },
  {
   "cell_type": "code",
   "execution_count": 11,
   "metadata": {},
   "outputs": [
    {
     "data": {
      "image/png": "[encoded data removed]",
      "text/plain": [
       "<Figure size 360x360 with 1 Axes>"
      ]
     },
     "metadata": {
      "needs_background": "light"
     },
     "output_type": "display_data"
    }
   ],
   "source": [
    "# Calculating colours u-g and g-r\n",
    "colour = data\n",
    "colour['ug'] =  data['dered_u'] - data['dered_g']\n",
    "colour['gr'] =  data['dered_g'] - data['dered_r']\n",
    "\n",
    "sns.lmplot( x=\"ug\", y=\"gr\", data= colour, fit_reg=False, hue='class', legend=False)\n",
    " \n",
    "\n",
    "plt.legend(fontsize='x-small', loc='lower left')\n",
    "\n",
    "plt.show()"
   ]
  },
  {
   "cell_type": "code",
   "execution_count": 12,
   "metadata": {},
   "outputs": [],
   "source": [
    "# Separating the features and the labled data and normalising the data\n",
    "from sklearn.preprocessing import MinMaxScaler\n",
    "cols= data1.columns[:-1]\n",
    "X = data1[cols]\n",
    "y = data1['nClass']\n",
    "scaler = MinMaxScaler()\n",
    "X_t = scaler.fit_transform(X)"
   ]
  },
  {
   "cell_type": "code",
   "execution_count": 13,
   "metadata": {},
   "outputs": [
    {
     "name": "stdout",
     "output_type": "stream",
     "text": [
      "(10500,)\n",
      "(4500,)\n"
     ]
    }
   ],
   "source": [
    "# split the data in train and test subsets\n",
    "from sklearn.model_selection import StratifiedShuffleSplit\n",
    "\n",
    "\n",
    "# Get the split indexes\n",
    "strat_shuf_split = StratifiedShuffleSplit(n_splits=3, \n",
    "                                          test_size=0.3, \n",
    "                                          random_state=42)\n",
    "\n",
    "\n",
    "\n",
    "train_idx, test_idx = next(strat_shuf_split.split(X_t,y))\n",
    "print(train_idx.shape)\n",
    "print(test_idx.shape)\n",
    "\n",
    "X_train = data1[cols].iloc[train_idx]\n",
    "y_train = data1['nClass'].iloc[train_idx]\n",
    "X_test  = data1[cols].iloc[test_idx]\n",
    "y_test  = data1['nClass'].iloc[test_idx]\n",
    "\n"
   ]
  },
  {
   "cell_type": "code",
   "execution_count": 14,
   "metadata": {},
   "outputs": [
    {
     "data": {
      "text/html": [
       "<div>\n",
       "<style scoped>\n",
       "    .dataframe tbody tr th:only-of-type {\n",
       "        vertical-align: middle;\n",
       "    }\n",
       "\n",
       "    .dataframe tbody tr th {\n",
       "        vertical-align: top;\n",
       "    }\n",
       "\n",
       "    .dataframe thead th {\n",
       "        text-align: right;\n",
       "    }\n",
       "</style>\n",
       "<table border=\"1\" class=\"dataframe\">\n",
       "  <thead>\n",
       "    <tr style=\"text-align: right;\">\n",
       "      <th></th>\n",
       "      <th>type</th>\n",
       "      <th>dered_u</th>\n",
       "      <th>dered_g</th>\n",
       "      <th>dered_r</th>\n",
       "      <th>dered_i</th>\n",
       "      <th>dered_z</th>\n",
       "      <th>ug</th>\n",
       "      <th>gr</th>\n",
       "      <th>ri</th>\n",
       "      <th>iz</th>\n",
       "    </tr>\n",
       "  </thead>\n",
       "  <tbody>\n",
       "    <tr>\n",
       "      <th>3596</th>\n",
       "      <td>3</td>\n",
       "      <td>18.77780</td>\n",
       "      <td>17.14138</td>\n",
       "      <td>16.54338</td>\n",
       "      <td>16.29598</td>\n",
       "      <td>16.26506</td>\n",
       "      <td>1.63642</td>\n",
       "      <td>0.59800</td>\n",
       "      <td>0.24740</td>\n",
       "      <td>0.03092</td>\n",
       "    </tr>\n",
       "    <tr>\n",
       "      <th>3877</th>\n",
       "      <td>3</td>\n",
       "      <td>19.70977</td>\n",
       "      <td>19.57509</td>\n",
       "      <td>19.08462</td>\n",
       "      <td>18.87117</td>\n",
       "      <td>18.43765</td>\n",
       "      <td>0.13468</td>\n",
       "      <td>0.49047</td>\n",
       "      <td>0.21345</td>\n",
       "      <td>0.43352</td>\n",
       "    </tr>\n",
       "    <tr>\n",
       "      <th>4485</th>\n",
       "      <td>3</td>\n",
       "      <td>20.49796</td>\n",
       "      <td>19.93220</td>\n",
       "      <td>19.51818</td>\n",
       "      <td>19.00519</td>\n",
       "      <td>18.70650</td>\n",
       "      <td>0.56576</td>\n",
       "      <td>0.41402</td>\n",
       "      <td>0.51299</td>\n",
       "      <td>0.29869</td>\n",
       "    </tr>\n",
       "    <tr>\n",
       "      <th>84</th>\n",
       "      <td>3</td>\n",
       "      <td>17.01539</td>\n",
       "      <td>15.42125</td>\n",
       "      <td>14.98335</td>\n",
       "      <td>14.71907</td>\n",
       "      <td>14.56652</td>\n",
       "      <td>1.59414</td>\n",
       "      <td>0.43790</td>\n",
       "      <td>0.26428</td>\n",
       "      <td>0.15255</td>\n",
       "    </tr>\n",
       "    <tr>\n",
       "      <th>2415</th>\n",
       "      <td>3</td>\n",
       "      <td>23.50389</td>\n",
       "      <td>22.23635</td>\n",
       "      <td>18.09105</td>\n",
       "      <td>16.75460</td>\n",
       "      <td>16.21874</td>\n",
       "      <td>1.26754</td>\n",
       "      <td>4.14530</td>\n",
       "      <td>1.33645</td>\n",
       "      <td>0.53586</td>\n",
       "    </tr>\n",
       "  </tbody>\n",
       "</table>\n",
       "</div>"
      ],
      "text/plain": [
       "      type   dered_u   dered_g   dered_r   dered_i   dered_z       ug  \\\n",
       "3596     3  18.77780  17.14138  16.54338  16.29598  16.26506  1.63642   \n",
       "3877     3  19.70977  19.57509  19.08462  18.87117  18.43765  0.13468   \n",
       "4485     3  20.49796  19.93220  19.51818  19.00519  18.70650  0.56576   \n",
       "84       3  17.01539  15.42125  14.98335  14.71907  14.56652  1.59414   \n",
       "2415     3  23.50389  22.23635  18.09105  16.75460  16.21874  1.26754   \n",
       "\n",
       "           gr       ri       iz  \n",
       "3596  0.59800  0.24740  0.03092  \n",
       "3877  0.49047  0.21345  0.43352  \n",
       "4485  0.41402  0.51299  0.29869  \n",
       "84    0.43790  0.26428  0.15255  \n",
       "2415  4.14530  1.33645  0.53586  "
      ]
     },
     "execution_count": 14,
     "metadata": {},
     "output_type": "execute_result"
    }
   ],
   "source": [
    "#Calculating colours to test importance\n",
    "X_colour = X\n",
    "\n",
    "X_colour['ug'] = X_colour['dered_u'] - X_colour['dered_g']\n",
    "X_colour['gr'] = X_colour['dered_g'] - X_colour['dered_r']\n",
    "X_colour['ri'] = X_colour['dered_r'] - X_colour['dered_i']\n",
    "X_colour['iz'] = X_colour['dered_i'] - X_colour['dered_z']\n",
    "X_colour.head()"
   ]
  },
  {
   "cell_type": "code",
   "execution_count": 15,
   "metadata": {},
   "outputs": [],
   "source": [
    "#creating a feature dataset with colours (diference between bands)\n",
    "X_train_c = X_colour.iloc[train_idx]\n",
    "X_test_c  = X_colour.iloc[test_idx]\n"
   ]
  },
  {
   "cell_type": "code",
   "execution_count": 16,
   "metadata": {},
   "outputs": [
    {
     "name": "stderr",
     "output_type": "stream",
     "text": [
      "/home/veroastro/anaconda3/lib/python3.7/site-packages/sklearn/svm/_base.py:947: ConvergenceWarning: Liblinear failed to converge, increase the number of iterations.\n",
      "  \"the number of iterations.\", ConvergenceWarning)\n",
      "/home/veroastro/anaconda3/lib/python3.7/site-packages/sklearn/svm/_base.py:947: ConvergenceWarning: Liblinear failed to converge, increase the number of iterations.\n",
      "  \"the number of iterations.\", ConvergenceWarning)\n",
      "/home/veroastro/anaconda3/lib/python3.7/site-packages/sklearn/svm/_base.py:947: ConvergenceWarning: Liblinear failed to converge, increase the number of iterations.\n",
      "  \"the number of iterations.\", ConvergenceWarning)\n",
      "/home/veroastro/anaconda3/lib/python3.7/site-packages/sklearn/svm/_base.py:947: ConvergenceWarning: Liblinear failed to converge, increase the number of iterations.\n",
      "  \"the number of iterations.\", ConvergenceWarning)\n",
      "/home/veroastro/anaconda3/lib/python3.7/site-packages/sklearn/svm/_base.py:947: ConvergenceWarning: Liblinear failed to converge, increase the number of iterations.\n",
      "  \"the number of iterations.\", ConvergenceWarning)\n",
      "/home/veroastro/anaconda3/lib/python3.7/site-packages/sklearn/svm/_base.py:947: ConvergenceWarning: Liblinear failed to converge, increase the number of iterations.\n",
      "  \"the number of iterations.\", ConvergenceWarning)\n",
      "/home/veroastro/anaconda3/lib/python3.7/site-packages/sklearn/svm/_base.py:947: ConvergenceWarning: Liblinear failed to converge, increase the number of iterations.\n",
      "  \"the number of iterations.\", ConvergenceWarning)\n",
      "/home/veroastro/anaconda3/lib/python3.7/site-packages/sklearn/svm/_base.py:947: ConvergenceWarning: Liblinear failed to converge, increase the number of iterations.\n",
      "  \"the number of iterations.\", ConvergenceWarning)\n",
      "/home/veroastro/anaconda3/lib/python3.7/site-packages/sklearn/svm/_base.py:947: ConvergenceWarning: Liblinear failed to converge, increase the number of iterations.\n",
      "  \"the number of iterations.\", ConvergenceWarning)\n",
      "/home/veroastro/anaconda3/lib/python3.7/site-packages/sklearn/svm/_base.py:947: ConvergenceWarning: Liblinear failed to converge, increase the number of iterations.\n",
      "  \"the number of iterations.\", ConvergenceWarning)\n",
      "/home/veroastro/anaconda3/lib/python3.7/site-packages/sklearn/svm/_base.py:947: ConvergenceWarning: Liblinear failed to converge, increase the number of iterations.\n",
      "  \"the number of iterations.\", ConvergenceWarning)\n",
      "/home/veroastro/anaconda3/lib/python3.7/site-packages/sklearn/svm/_base.py:947: ConvergenceWarning: Liblinear failed to converge, increase the number of iterations.\n",
      "  \"the number of iterations.\", ConvergenceWarning)\n",
      "/home/veroastro/anaconda3/lib/python3.7/site-packages/sklearn/svm/_base.py:947: ConvergenceWarning: Liblinear failed to converge, increase the number of iterations.\n",
      "  \"the number of iterations.\", ConvergenceWarning)\n",
      "/home/veroastro/anaconda3/lib/python3.7/site-packages/sklearn/svm/_base.py:947: ConvergenceWarning: Liblinear failed to converge, increase the number of iterations.\n",
      "  \"the number of iterations.\", ConvergenceWarning)\n",
      "/home/veroastro/anaconda3/lib/python3.7/site-packages/sklearn/svm/_base.py:947: ConvergenceWarning: Liblinear failed to converge, increase the number of iterations.\n",
      "  \"the number of iterations.\", ConvergenceWarning)\n",
      "/home/veroastro/anaconda3/lib/python3.7/site-packages/sklearn/svm/_base.py:947: ConvergenceWarning: Liblinear failed to converge, increase the number of iterations.\n",
      "  \"the number of iterations.\", ConvergenceWarning)\n",
      "/home/veroastro/anaconda3/lib/python3.7/site-packages/sklearn/svm/_base.py:947: ConvergenceWarning: Liblinear failed to converge, increase the number of iterations.\n",
      "  \"the number of iterations.\", ConvergenceWarning)\n",
      "/home/veroastro/anaconda3/lib/python3.7/site-packages/sklearn/svm/_base.py:947: ConvergenceWarning: Liblinear failed to converge, increase the number of iterations.\n",
      "  \"the number of iterations.\", ConvergenceWarning)\n",
      "/home/veroastro/anaconda3/lib/python3.7/site-packages/sklearn/svm/_base.py:947: ConvergenceWarning: Liblinear failed to converge, increase the number of iterations.\n",
      "  \"the number of iterations.\", ConvergenceWarning)\n",
      "/home/veroastro/anaconda3/lib/python3.7/site-packages/sklearn/svm/_base.py:947: ConvergenceWarning: Liblinear failed to converge, increase the number of iterations.\n",
      "  \"the number of iterations.\", ConvergenceWarning)\n",
      "/home/veroastro/anaconda3/lib/python3.7/site-packages/sklearn/svm/_base.py:947: ConvergenceWarning: Liblinear failed to converge, increase the number of iterations.\n",
      "  \"the number of iterations.\", ConvergenceWarning)\n",
      "/home/veroastro/anaconda3/lib/python3.7/site-packages/sklearn/svm/_base.py:947: ConvergenceWarning: Liblinear failed to converge, increase the number of iterations.\n",
      "  \"the number of iterations.\", ConvergenceWarning)\n",
      "/home/veroastro/anaconda3/lib/python3.7/site-packages/sklearn/svm/_base.py:947: ConvergenceWarning: Liblinear failed to converge, increase the number of iterations.\n",
      "  \"the number of iterations.\", ConvergenceWarning)\n",
      "/home/veroastro/anaconda3/lib/python3.7/site-packages/sklearn/svm/_base.py:947: ConvergenceWarning: Liblinear failed to converge, increase the number of iterations.\n",
      "  \"the number of iterations.\", ConvergenceWarning)\n",
      "/home/veroastro/anaconda3/lib/python3.7/site-packages/sklearn/svm/_base.py:947: ConvergenceWarning: Liblinear failed to converge, increase the number of iterations.\n",
      "  \"the number of iterations.\", ConvergenceWarning)\n",
      "/home/veroastro/anaconda3/lib/python3.7/site-packages/sklearn/svm/_base.py:947: ConvergenceWarning: Liblinear failed to converge, increase the number of iterations.\n",
      "  \"the number of iterations.\", ConvergenceWarning)\n",
      "/home/veroastro/anaconda3/lib/python3.7/site-packages/sklearn/svm/_base.py:947: ConvergenceWarning: Liblinear failed to converge, increase the number of iterations.\n",
      "  \"the number of iterations.\", ConvergenceWarning)\n",
      "/home/veroastro/anaconda3/lib/python3.7/site-packages/sklearn/svm/_base.py:947: ConvergenceWarning: Liblinear failed to converge, increase the number of iterations.\n",
      "  \"the number of iterations.\", ConvergenceWarning)\n",
      "/home/veroastro/anaconda3/lib/python3.7/site-packages/sklearn/svm/_base.py:947: ConvergenceWarning: Liblinear failed to converge, increase the number of iterations.\n",
      "  \"the number of iterations.\", ConvergenceWarning)\n",
      "/home/veroastro/anaconda3/lib/python3.7/site-packages/sklearn/svm/_base.py:947: ConvergenceWarning: Liblinear failed to converge, increase the number of iterations.\n",
      "  \"the number of iterations.\", ConvergenceWarning)\n",
      "/home/veroastro/anaconda3/lib/python3.7/site-packages/sklearn/svm/_base.py:947: ConvergenceWarning: Liblinear failed to converge, increase the number of iterations.\n",
      "  \"the number of iterations.\", ConvergenceWarning)\n",
      "/home/veroastro/anaconda3/lib/python3.7/site-packages/sklearn/svm/_base.py:947: ConvergenceWarning: Liblinear failed to converge, increase the number of iterations.\n",
      "  \"the number of iterations.\", ConvergenceWarning)\n",
      "/home/veroastro/anaconda3/lib/python3.7/site-packages/sklearn/svm/_base.py:947: ConvergenceWarning: Liblinear failed to converge, increase the number of iterations.\n",
      "  \"the number of iterations.\", ConvergenceWarning)\n",
      "/home/veroastro/anaconda3/lib/python3.7/site-packages/sklearn/svm/_base.py:947: ConvergenceWarning: Liblinear failed to converge, increase the number of iterations.\n",
      "  \"the number of iterations.\", ConvergenceWarning)\n",
      "/home/veroastro/anaconda3/lib/python3.7/site-packages/sklearn/svm/_base.py:947: ConvergenceWarning: Liblinear failed to converge, increase the number of iterations.\n",
      "  \"the number of iterations.\", ConvergenceWarning)\n",
      "/home/veroastro/anaconda3/lib/python3.7/site-packages/sklearn/svm/_base.py:947: ConvergenceWarning: Liblinear failed to converge, increase the number of iterations.\n",
      "  \"the number of iterations.\", ConvergenceWarning)\n",
      "/home/veroastro/anaconda3/lib/python3.7/site-packages/sklearn/svm/_base.py:947: ConvergenceWarning: Liblinear failed to converge, increase the number of iterations.\n",
      "  \"the number of iterations.\", ConvergenceWarning)\n",
      "/home/veroastro/anaconda3/lib/python3.7/site-packages/sklearn/svm/_base.py:947: ConvergenceWarning: Liblinear failed to converge, increase the number of iterations.\n",
      "  \"the number of iterations.\", ConvergenceWarning)\n"
     ]
    },
    {
     "name": "stderr",
     "output_type": "stream",
     "text": [
      "/home/veroastro/anaconda3/lib/python3.7/site-packages/sklearn/svm/_base.py:947: ConvergenceWarning: Liblinear failed to converge, increase the number of iterations.\n",
      "  \"the number of iterations.\", ConvergenceWarning)\n",
      "/home/veroastro/anaconda3/lib/python3.7/site-packages/sklearn/svm/_base.py:947: ConvergenceWarning: Liblinear failed to converge, increase the number of iterations.\n",
      "  \"the number of iterations.\", ConvergenceWarning)\n",
      "/home/veroastro/anaconda3/lib/python3.7/site-packages/sklearn/svm/_base.py:947: ConvergenceWarning: Liblinear failed to converge, increase the number of iterations.\n",
      "  \"the number of iterations.\", ConvergenceWarning)\n",
      "/home/veroastro/anaconda3/lib/python3.7/site-packages/sklearn/svm/_base.py:947: ConvergenceWarning: Liblinear failed to converge, increase the number of iterations.\n",
      "  \"the number of iterations.\", ConvergenceWarning)\n",
      "/home/veroastro/anaconda3/lib/python3.7/site-packages/sklearn/svm/_base.py:947: ConvergenceWarning: Liblinear failed to converge, increase the number of iterations.\n",
      "  \"the number of iterations.\", ConvergenceWarning)\n",
      "/home/veroastro/anaconda3/lib/python3.7/site-packages/sklearn/svm/_base.py:947: ConvergenceWarning: Liblinear failed to converge, increase the number of iterations.\n",
      "  \"the number of iterations.\", ConvergenceWarning)\n",
      "/home/veroastro/anaconda3/lib/python3.7/site-packages/sklearn/svm/_base.py:947: ConvergenceWarning: Liblinear failed to converge, increase the number of iterations.\n",
      "  \"the number of iterations.\", ConvergenceWarning)\n",
      "/home/veroastro/anaconda3/lib/python3.7/site-packages/sklearn/svm/_base.py:947: ConvergenceWarning: Liblinear failed to converge, increase the number of iterations.\n",
      "  \"the number of iterations.\", ConvergenceWarning)\n",
      "/home/veroastro/anaconda3/lib/python3.7/site-packages/sklearn/svm/_base.py:947: ConvergenceWarning: Liblinear failed to converge, increase the number of iterations.\n",
      "  \"the number of iterations.\", ConvergenceWarning)\n",
      "/home/veroastro/anaconda3/lib/python3.7/site-packages/sklearn/svm/_base.py:947: ConvergenceWarning: Liblinear failed to converge, increase the number of iterations.\n",
      "  \"the number of iterations.\", ConvergenceWarning)\n",
      "/home/veroastro/anaconda3/lib/python3.7/site-packages/sklearn/svm/_base.py:947: ConvergenceWarning: Liblinear failed to converge, increase the number of iterations.\n",
      "  \"the number of iterations.\", ConvergenceWarning)\n",
      "/home/veroastro/anaconda3/lib/python3.7/site-packages/sklearn/svm/_base.py:947: ConvergenceWarning: Liblinear failed to converge, increase the number of iterations.\n",
      "  \"the number of iterations.\", ConvergenceWarning)\n",
      "/home/veroastro/anaconda3/lib/python3.7/site-packages/sklearn/svm/_base.py:947: ConvergenceWarning: Liblinear failed to converge, increase the number of iterations.\n",
      "  \"the number of iterations.\", ConvergenceWarning)\n",
      "/home/veroastro/anaconda3/lib/python3.7/site-packages/sklearn/svm/_base.py:947: ConvergenceWarning: Liblinear failed to converge, increase the number of iterations.\n",
      "  \"the number of iterations.\", ConvergenceWarning)\n",
      "/home/veroastro/anaconda3/lib/python3.7/site-packages/sklearn/svm/_base.py:947: ConvergenceWarning: Liblinear failed to converge, increase the number of iterations.\n",
      "  \"the number of iterations.\", ConvergenceWarning)\n",
      "/home/veroastro/anaconda3/lib/python3.7/site-packages/sklearn/svm/_base.py:947: ConvergenceWarning: Liblinear failed to converge, increase the number of iterations.\n",
      "  \"the number of iterations.\", ConvergenceWarning)\n",
      "/home/veroastro/anaconda3/lib/python3.7/site-packages/sklearn/svm/_base.py:947: ConvergenceWarning: Liblinear failed to converge, increase the number of iterations.\n",
      "  \"the number of iterations.\", ConvergenceWarning)\n",
      "/home/veroastro/anaconda3/lib/python3.7/site-packages/sklearn/svm/_base.py:947: ConvergenceWarning: Liblinear failed to converge, increase the number of iterations.\n",
      "  \"the number of iterations.\", ConvergenceWarning)\n",
      "/home/veroastro/anaconda3/lib/python3.7/site-packages/sklearn/svm/_base.py:947: ConvergenceWarning: Liblinear failed to converge, increase the number of iterations.\n",
      "  \"the number of iterations.\", ConvergenceWarning)\n",
      "/home/veroastro/anaconda3/lib/python3.7/site-packages/sklearn/svm/_base.py:947: ConvergenceWarning: Liblinear failed to converge, increase the number of iterations.\n",
      "  \"the number of iterations.\", ConvergenceWarning)\n",
      "/home/veroastro/anaconda3/lib/python3.7/site-packages/sklearn/svm/_base.py:947: ConvergenceWarning: Liblinear failed to converge, increase the number of iterations.\n",
      "  \"the number of iterations.\", ConvergenceWarning)\n",
      "/home/veroastro/anaconda3/lib/python3.7/site-packages/sklearn/svm/_base.py:947: ConvergenceWarning: Liblinear failed to converge, increase the number of iterations.\n",
      "  \"the number of iterations.\", ConvergenceWarning)\n",
      "/home/veroastro/anaconda3/lib/python3.7/site-packages/sklearn/svm/_base.py:947: ConvergenceWarning: Liblinear failed to converge, increase the number of iterations.\n",
      "  \"the number of iterations.\", ConvergenceWarning)\n",
      "/home/veroastro/anaconda3/lib/python3.7/site-packages/sklearn/svm/_base.py:947: ConvergenceWarning: Liblinear failed to converge, increase the number of iterations.\n",
      "  \"the number of iterations.\", ConvergenceWarning)\n",
      "/home/veroastro/anaconda3/lib/python3.7/site-packages/sklearn/svm/_base.py:947: ConvergenceWarning: Liblinear failed to converge, increase the number of iterations.\n",
      "  \"the number of iterations.\", ConvergenceWarning)\n",
      "/home/veroastro/anaconda3/lib/python3.7/site-packages/sklearn/svm/_base.py:947: ConvergenceWarning: Liblinear failed to converge, increase the number of iterations.\n",
      "  \"the number of iterations.\", ConvergenceWarning)\n",
      "/home/veroastro/anaconda3/lib/python3.7/site-packages/sklearn/svm/_base.py:947: ConvergenceWarning: Liblinear failed to converge, increase the number of iterations.\n",
      "  \"the number of iterations.\", ConvergenceWarning)\n",
      "/home/veroastro/anaconda3/lib/python3.7/site-packages/sklearn/svm/_base.py:947: ConvergenceWarning: Liblinear failed to converge, increase the number of iterations.\n",
      "  \"the number of iterations.\", ConvergenceWarning)\n",
      "/home/veroastro/anaconda3/lib/python3.7/site-packages/sklearn/svm/_base.py:947: ConvergenceWarning: Liblinear failed to converge, increase the number of iterations.\n",
      "  \"the number of iterations.\", ConvergenceWarning)\n",
      "/home/veroastro/anaconda3/lib/python3.7/site-packages/sklearn/svm/_base.py:947: ConvergenceWarning: Liblinear failed to converge, increase the number of iterations.\n",
      "  \"the number of iterations.\", ConvergenceWarning)\n",
      "/home/veroastro/anaconda3/lib/python3.7/site-packages/sklearn/svm/_base.py:947: ConvergenceWarning: Liblinear failed to converge, increase the number of iterations.\n",
      "  \"the number of iterations.\", ConvergenceWarning)\n",
      "/home/veroastro/anaconda3/lib/python3.7/site-packages/sklearn/svm/_base.py:947: ConvergenceWarning: Liblinear failed to converge, increase the number of iterations.\n",
      "  \"the number of iterations.\", ConvergenceWarning)\n",
      "/home/veroastro/anaconda3/lib/python3.7/site-packages/sklearn/svm/_base.py:947: ConvergenceWarning: Liblinear failed to converge, increase the number of iterations.\n",
      "  \"the number of iterations.\", ConvergenceWarning)\n",
      "/home/veroastro/anaconda3/lib/python3.7/site-packages/sklearn/svm/_base.py:947: ConvergenceWarning: Liblinear failed to converge, increase the number of iterations.\n",
      "  \"the number of iterations.\", ConvergenceWarning)\n",
      "/home/veroastro/anaconda3/lib/python3.7/site-packages/sklearn/svm/_base.py:947: ConvergenceWarning: Liblinear failed to converge, increase the number of iterations.\n",
      "  \"the number of iterations.\", ConvergenceWarning)\n",
      "/home/veroastro/anaconda3/lib/python3.7/site-packages/sklearn/svm/_base.py:947: ConvergenceWarning: Liblinear failed to converge, increase the number of iterations.\n",
      "  \"the number of iterations.\", ConvergenceWarning)\n",
      "/home/veroastro/anaconda3/lib/python3.7/site-packages/sklearn/svm/_base.py:947: ConvergenceWarning: Liblinear failed to converge, increase the number of iterations.\n",
      "  \"the number of iterations.\", ConvergenceWarning)\n",
      "/home/veroastro/anaconda3/lib/python3.7/site-packages/sklearn/svm/_base.py:947: ConvergenceWarning: Liblinear failed to converge, increase the number of iterations.\n",
      "  \"the number of iterations.\", ConvergenceWarning)\n"
     ]
    },
    {
     "name": "stderr",
     "output_type": "stream",
     "text": [
      "/home/veroastro/anaconda3/lib/python3.7/site-packages/sklearn/svm/_base.py:947: ConvergenceWarning: Liblinear failed to converge, increase the number of iterations.\n",
      "  \"the number of iterations.\", ConvergenceWarning)\n",
      "/home/veroastro/anaconda3/lib/python3.7/site-packages/sklearn/svm/_base.py:947: ConvergenceWarning: Liblinear failed to converge, increase the number of iterations.\n",
      "  \"the number of iterations.\", ConvergenceWarning)\n",
      "/home/veroastro/anaconda3/lib/python3.7/site-packages/sklearn/svm/_base.py:947: ConvergenceWarning: Liblinear failed to converge, increase the number of iterations.\n",
      "  \"the number of iterations.\", ConvergenceWarning)\n",
      "/home/veroastro/anaconda3/lib/python3.7/site-packages/sklearn/svm/_base.py:947: ConvergenceWarning: Liblinear failed to converge, increase the number of iterations.\n",
      "  \"the number of iterations.\", ConvergenceWarning)\n",
      "/home/veroastro/anaconda3/lib/python3.7/site-packages/sklearn/svm/_base.py:947: ConvergenceWarning: Liblinear failed to converge, increase the number of iterations.\n",
      "  \"the number of iterations.\", ConvergenceWarning)\n",
      "/home/veroastro/anaconda3/lib/python3.7/site-packages/sklearn/svm/_base.py:947: ConvergenceWarning: Liblinear failed to converge, increase the number of iterations.\n",
      "  \"the number of iterations.\", ConvergenceWarning)\n",
      "/home/veroastro/anaconda3/lib/python3.7/site-packages/sklearn/svm/_base.py:947: ConvergenceWarning: Liblinear failed to converge, increase the number of iterations.\n",
      "  \"the number of iterations.\", ConvergenceWarning)\n",
      "/home/veroastro/anaconda3/lib/python3.7/site-packages/sklearn/svm/_base.py:947: ConvergenceWarning: Liblinear failed to converge, increase the number of iterations.\n",
      "  \"the number of iterations.\", ConvergenceWarning)\n",
      "/home/veroastro/anaconda3/lib/python3.7/site-packages/sklearn/svm/_base.py:947: ConvergenceWarning: Liblinear failed to converge, increase the number of iterations.\n",
      "  \"the number of iterations.\", ConvergenceWarning)\n"
     ]
    }
   ],
   "source": [
    "# using logistic regression on the non-colour data\n",
    "\n",
    "from sklearn.linear_model import LogisticRegression\n",
    "from sklearn.model_selection import GridSearchCV\n",
    "params = {\"C\":np.logspace(-3,3,30), \"penalty\":[\"l1\",\"l2\"]}\n",
    "\n",
    "\n",
    "grid = GridSearchCV(LogisticRegression(solver='liblinear'), params)\n",
    "\n",
    "\n",
    "GR = grid.fit(X_train, y_train)"
   ]
  },
  {
   "cell_type": "code",
   "execution_count": 17,
   "metadata": {},
   "outputs": [
    {
     "data": {
      "text/plain": [
       "({'C': 8.531678524172806, 'penalty': 'l1'}, 0.6194285714285714)"
      ]
     },
     "execution_count": 17,
     "metadata": {},
     "output_type": "execute_result"
    }
   ],
   "source": [
    "GR.best_params_ ,GR.best_score_"
   ]
  },
  {
   "cell_type": "code",
   "execution_count": 18,
   "metadata": {},
   "outputs": [],
   "source": [
    "y_pred=grid.predict(X_test)\n",
    "#y_prob=grid.predict_proba(X_test)"
   ]
  },
  {
   "cell_type": "code",
   "execution_count": 19,
   "metadata": {},
   "outputs": [
    {
     "name": "stdout",
     "output_type": "stream",
     "text": [
      "              precision    recall  f1-score   support\n",
      "\n",
      "           1       0.57      0.49      0.53      1500\n",
      "           2       0.71      0.81      0.75      1500\n",
      "           3       0.54      0.53      0.53      1500\n",
      "\n",
      "    accuracy                           0.61      4500\n",
      "   macro avg       0.60      0.61      0.60      4500\n",
      "weighted avg       0.60      0.61      0.60      4500\n",
      "\n"
     ]
    }
   ],
   "source": [
    "from sklearn.metrics import classification_report\n",
    "\n",
    "cr = classification_report(y_test, y_pred)\n",
    "print(cr)\n"
   ]
  },
  {
   "cell_type": "markdown",
   "metadata": {},
   "source": [
    "Trying adding colours to the dataframe  and redo the algorithm"
   ]
  },
  {
   "cell_type": "code",
   "execution_count": 20,
   "metadata": {},
   "outputs": [
    {
     "name": "stderr",
     "output_type": "stream",
     "text": [
      "/home/veroastro/anaconda3/lib/python3.7/site-packages/sklearn/svm/_base.py:947: ConvergenceWarning: Liblinear failed to converge, increase the number of iterations.\n",
      "  \"the number of iterations.\", ConvergenceWarning)\n",
      "/home/veroastro/anaconda3/lib/python3.7/site-packages/sklearn/svm/_base.py:947: ConvergenceWarning: Liblinear failed to converge, increase the number of iterations.\n",
      "  \"the number of iterations.\", ConvergenceWarning)\n",
      "/home/veroastro/anaconda3/lib/python3.7/site-packages/sklearn/svm/_base.py:947: ConvergenceWarning: Liblinear failed to converge, increase the number of iterations.\n",
      "  \"the number of iterations.\", ConvergenceWarning)\n",
      "/home/veroastro/anaconda3/lib/python3.7/site-packages/sklearn/svm/_base.py:947: ConvergenceWarning: Liblinear failed to converge, increase the number of iterations.\n",
      "  \"the number of iterations.\", ConvergenceWarning)\n",
      "/home/veroastro/anaconda3/lib/python3.7/site-packages/sklearn/svm/_base.py:947: ConvergenceWarning: Liblinear failed to converge, increase the number of iterations.\n",
      "  \"the number of iterations.\", ConvergenceWarning)\n",
      "/home/veroastro/anaconda3/lib/python3.7/site-packages/sklearn/svm/_base.py:947: ConvergenceWarning: Liblinear failed to converge, increase the number of iterations.\n",
      "  \"the number of iterations.\", ConvergenceWarning)\n",
      "/home/veroastro/anaconda3/lib/python3.7/site-packages/sklearn/svm/_base.py:947: ConvergenceWarning: Liblinear failed to converge, increase the number of iterations.\n",
      "  \"the number of iterations.\", ConvergenceWarning)\n",
      "/home/veroastro/anaconda3/lib/python3.7/site-packages/sklearn/svm/_base.py:947: ConvergenceWarning: Liblinear failed to converge, increase the number of iterations.\n",
      "  \"the number of iterations.\", ConvergenceWarning)\n",
      "/home/veroastro/anaconda3/lib/python3.7/site-packages/sklearn/svm/_base.py:947: ConvergenceWarning: Liblinear failed to converge, increase the number of iterations.\n",
      "  \"the number of iterations.\", ConvergenceWarning)\n",
      "/home/veroastro/anaconda3/lib/python3.7/site-packages/sklearn/svm/_base.py:947: ConvergenceWarning: Liblinear failed to converge, increase the number of iterations.\n",
      "  \"the number of iterations.\", ConvergenceWarning)\n",
      "/home/veroastro/anaconda3/lib/python3.7/site-packages/sklearn/svm/_base.py:947: ConvergenceWarning: Liblinear failed to converge, increase the number of iterations.\n",
      "  \"the number of iterations.\", ConvergenceWarning)\n",
      "/home/veroastro/anaconda3/lib/python3.7/site-packages/sklearn/svm/_base.py:947: ConvergenceWarning: Liblinear failed to converge, increase the number of iterations.\n",
      "  \"the number of iterations.\", ConvergenceWarning)\n",
      "/home/veroastro/anaconda3/lib/python3.7/site-packages/sklearn/svm/_base.py:947: ConvergenceWarning: Liblinear failed to converge, increase the number of iterations.\n",
      "  \"the number of iterations.\", ConvergenceWarning)\n",
      "/home/veroastro/anaconda3/lib/python3.7/site-packages/sklearn/svm/_base.py:947: ConvergenceWarning: Liblinear failed to converge, increase the number of iterations.\n",
      "  \"the number of iterations.\", ConvergenceWarning)\n",
      "/home/veroastro/anaconda3/lib/python3.7/site-packages/sklearn/svm/_base.py:947: ConvergenceWarning: Liblinear failed to converge, increase the number of iterations.\n",
      "  \"the number of iterations.\", ConvergenceWarning)\n"
     ]
    },
    {
     "data": {
      "text/plain": [
       "({'C': 1.2689610031679222, 'penalty': 'l1'}, 0.6193333333333333)"
      ]
     },
     "execution_count": 20,
     "metadata": {},
     "output_type": "execute_result"
    }
   ],
   "source": [
    "# test with colours\n",
    "GR = grid.fit(X_train_c, y_train)\n",
    "GR.best_params_ ,GR.best_score_"
   ]
  },
  {
   "cell_type": "code",
   "execution_count": 21,
   "metadata": {},
   "outputs": [],
   "source": [
    "y_pred_c=grid.predict(X_test_c)"
   ]
  },
  {
   "cell_type": "code",
   "execution_count": 22,
   "metadata": {},
   "outputs": [
    {
     "name": "stdout",
     "output_type": "stream",
     "text": [
      "              precision    recall  f1-score   support\n",
      "\n",
      "           1       0.57      0.49      0.53      1500\n",
      "           2       0.71      0.81      0.76      1500\n",
      "           3       0.54      0.53      0.53      1500\n",
      "\n",
      "    accuracy                           0.61      4500\n",
      "   macro avg       0.60      0.61      0.61      4500\n",
      "weighted avg       0.60      0.61      0.61      4500\n",
      "\n"
     ]
    }
   ],
   "source": [
    "cr_c = classification_report(y_test, y_pred_c)\n",
    "print(cr_c)"
   ]
  },
  {
   "cell_type": "markdown",
   "metadata": {},
   "source": [
    " Colour doesn't affect the estimation of the spectral classes"
   ]
  },
  {
   "cell_type": "markdown",
   "metadata": {},
   "source": [
    "## Testing other classifiers\n",
    "   ### Random Forest Classifier"
   ]
  },
  {
   "cell_type": "code",
   "execution_count": 23,
   "metadata": {},
   "outputs": [
    {
     "name": "stderr",
     "output_type": "stream",
     "text": [
      "/home/veroastro/anaconda3/lib/python3.7/site-packages/sklearn/ensemble/_forest.py:523: UserWarning: Some inputs do not have OOB scores. This probably means too few trees were used to compute any reliable oob estimates.\n",
      "  warn(\"Some inputs do not have OOB scores. \"\n",
      "/home/veroastro/anaconda3/lib/python3.7/site-packages/sklearn/ensemble/_forest.py:528: RuntimeWarning: invalid value encountered in true_divide\n",
      "  predictions[k].sum(axis=1)[:, np.newaxis])\n",
      "/home/veroastro/anaconda3/lib/python3.7/site-packages/sklearn/ensemble/_forest.py:523: UserWarning: Some inputs do not have OOB scores. This probably means too few trees were used to compute any reliable oob estimates.\n",
      "  warn(\"Some inputs do not have OOB scores. \"\n",
      "/home/veroastro/anaconda3/lib/python3.7/site-packages/sklearn/ensemble/_forest.py:528: RuntimeWarning: invalid value encountered in true_divide\n",
      "  predictions[k].sum(axis=1)[:, np.newaxis])\n",
      "/home/veroastro/anaconda3/lib/python3.7/site-packages/sklearn/ensemble/_forest.py:523: UserWarning: Some inputs do not have OOB scores. This probably means too few trees were used to compute any reliable oob estimates.\n",
      "  warn(\"Some inputs do not have OOB scores. \"\n",
      "/home/veroastro/anaconda3/lib/python3.7/site-packages/sklearn/ensemble/_forest.py:528: RuntimeWarning: invalid value encountered in true_divide\n",
      "  predictions[k].sum(axis=1)[:, np.newaxis])\n",
      "/home/veroastro/anaconda3/lib/python3.7/site-packages/sklearn/ensemble/_forest.py:523: UserWarning: Some inputs do not have OOB scores. This probably means too few trees were used to compute any reliable oob estimates.\n",
      "  warn(\"Some inputs do not have OOB scores. \"\n",
      "/home/veroastro/anaconda3/lib/python3.7/site-packages/sklearn/ensemble/_forest.py:528: RuntimeWarning: invalid value encountered in true_divide\n",
      "  predictions[k].sum(axis=1)[:, np.newaxis])\n",
      "/home/veroastro/anaconda3/lib/python3.7/site-packages/sklearn/ensemble/_forest.py:523: UserWarning: Some inputs do not have OOB scores. This probably means too few trees were used to compute any reliable oob estimates.\n",
      "  warn(\"Some inputs do not have OOB scores. \"\n",
      "/home/veroastro/anaconda3/lib/python3.7/site-packages/sklearn/ensemble/_forest.py:528: RuntimeWarning: invalid value encountered in true_divide\n",
      "  predictions[k].sum(axis=1)[:, np.newaxis])\n"
     ]
    }
   ],
   "source": [
    "from sklearn.ensemble import RandomForestClassifier\n",
    "param_grid = {'n_estimators':range(1,400, 40)}\n",
    "\n",
    "\n",
    "RF = RandomForestClassifier(oob_score=True, \n",
    "                            random_state=42, \n",
    "                            warm_start=True,\n",
    "                            n_jobs=-1)\n",
    "rf = GridSearchCV(RF,\n",
    "                  param_grid=param_grid)\n",
    "\n",
    "rf = rf.fit(X_train, y_train)"
   ]
  },
  {
   "cell_type": "code",
   "execution_count": 24,
   "metadata": {},
   "outputs": [
    {
     "data": {
      "text/plain": [
       "({'n_estimators': 361}, 0.8925714285714286)"
      ]
     },
     "execution_count": 24,
     "metadata": {},
     "output_type": "execute_result"
    }
   ],
   "source": [
    "rf.best_params_ ,rf.best_score_"
   ]
  },
  {
   "cell_type": "code",
   "execution_count": 25,
   "metadata": {},
   "outputs": [
    {
     "name": "stdout",
     "output_type": "stream",
     "text": [
      "              precision    recall  f1-score   support\n",
      "\n",
      "           1       0.91      0.91      0.91      1500\n",
      "           2       0.95      0.88      0.91      1500\n",
      "           3       0.85      0.92      0.88      1500\n",
      "\n",
      "    accuracy                           0.90      4500\n",
      "   macro avg       0.90      0.90      0.90      4500\n",
      "weighted avg       0.90      0.90      0.90      4500\n",
      "\n"
     ]
    }
   ],
   "source": [
    "y_pred_rf = rf.predict(X_test)\n",
    "cr = classification_report(y_test, y_pred_rf)\n",
    "print(cr)"
   ]
  },
  {
   "cell_type": "code",
   "execution_count": 26,
   "metadata": {},
   "outputs": [
    {
     "data": {
      "image/png": "[encoded data removed]",
      "text/plain": [
       "<Figure size 432x288 with 2 Axes>"
      ]
     },
     "metadata": {
      "needs_background": "light"
     },
     "output_type": "display_data"
    }
   ],
   "source": [
    "from sklearn.metrics import confusion_matrix\n",
    "sns.set_context('talk')\n",
    "cm = confusion_matrix(y_test, y_pred_rf)\n",
    "ax = sns.heatmap(cm, annot=True, fmt='d')"
   ]
  },
  {
   "cell_type": "markdown",
   "metadata": {},
   "source": [
    "### Decision Tree Classifier"
   ]
  },
  {
   "cell_type": "code",
   "execution_count": 27,
   "metadata": {},
   "outputs": [],
   "source": [
    "from sklearn.tree import DecisionTreeClassifier\n",
    "\n",
    "\n",
    "param_grid = {'max_depth':range(1, 1000, 40),\n",
    "              'max_features': [ 'auto', 'sqrt', 'log2']}\n",
    "\n",
    "GR_dt = GridSearchCV(DecisionTreeClassifier(random_state=42),\n",
    "                  param_grid=param_grid,\n",
    "                  scoring='accuracy',\n",
    "                  n_jobs=-1)\n",
    "\n",
    "GR_dt = GR_dt.fit(X_train, y_train)"
   ]
  },
  {
   "cell_type": "code",
   "execution_count": 28,
   "metadata": {},
   "outputs": [
    {
     "data": {
      "text/plain": [
       "({'max_depth': 41, 'max_features': 'auto'}, 0.8254285714285713)"
      ]
     },
     "execution_count": 28,
     "metadata": {},
     "output_type": "execute_result"
    }
   ],
   "source": [
    "#GR_dt.tree_.node_count, GR_dt.tree_.max_depth\n",
    "GR_dt.best_params_ ,GR_dt.best_score_"
   ]
  },
  {
   "cell_type": "code",
   "execution_count": 29,
   "metadata": {},
   "outputs": [
    {
     "name": "stdout",
     "output_type": "stream",
     "text": [
      "              precision    recall  f1-score   support\n",
      "\n",
      "           1       0.85      0.84      0.84      1500\n",
      "           2       0.86      0.86      0.86      1500\n",
      "           3       0.81      0.81      0.81      1500\n",
      "\n",
      "    accuracy                           0.84      4500\n",
      "   macro avg       0.84      0.84      0.84      4500\n",
      "weighted avg       0.84      0.84      0.84      4500\n",
      "\n"
     ]
    }
   ],
   "source": [
    "\n",
    "y_pred_dt = GR_dt.predict(X_test)\n",
    "cr_dt = classification_report(y_test, y_pred_dt)\n",
    "print(cr_dt)\n"
   ]
  },
  {
   "cell_type": "code",
   "execution_count": 30,
   "metadata": {},
   "outputs": [
    {
     "data": {
      "image/png": "[encoded data removed]",
      "text/plain": [
       "<Figure size 432x288 with 2 Axes>"
      ]
     },
     "metadata": {
      "needs_background": "light"
     },
     "output_type": "display_data"
    }
   ],
   "source": [
    "sns.set_context('talk')\n",
    "cm = confusion_matrix(y_test, y_pred_dt)\n",
    "ax = sns.heatmap(cm, annot=True, fmt='d')"
   ]
  },
  {
   "cell_type": "markdown",
   "metadata": {},
   "source": [
    "### Gradient Boosting Classifier"
   ]
  },
  {
   "cell_type": "code",
   "execution_count": 31,
   "metadata": {},
   "outputs": [
    {
     "name": "stdout",
     "output_type": "stream",
     "text": [
      "              precision    recall  f1-score   support\n",
      "\n",
      "           1       0.86      0.89      0.87      1440\n",
      "           2       0.85      0.93      0.89      1372\n",
      "           3       0.90      0.80      0.85      1688\n",
      "\n",
      "    accuracy                           0.87      4500\n",
      "   macro avg       0.87      0.87      0.87      4500\n",
      "weighted avg       0.87      0.87      0.87      4500\n",
      "\n"
     ]
    }
   ],
   "source": [
    "from sklearn.ensemble import GradientBoostingClassifier\n",
    "\n",
    "tree_list = [15, 25, 50, 100, 200, 400]\n",
    "param_grid = {'n_estimators': tree_list,\n",
    "              'learning_rate': [0.1, 0.01, 0.001, 0.0001],\n",
    "              'subsample': [1.0, 0.5]}\n",
    "\n",
    "# The grid search object\n",
    "GV_GBC = GridSearchCV(GradientBoostingClassifier(random_state=42), \n",
    "                      param_grid=param_grid, \n",
    "                      scoring='accuracy',\n",
    "                      n_jobs=-1)\n",
    "\n",
    "# Do the grid search\n",
    "GV_GBC = GV_GBC.fit(X_train, y_train)\n",
    "\n",
    "y_pred_gbc = GV_GBC.predict(X_test)\n",
    "print(classification_report(y_pred_gbc, y_test))"
   ]
  },
  {
   "cell_type": "code",
   "execution_count": 32,
   "metadata": {},
   "outputs": [
    {
     "data": {
      "image/png": "[encoded data removed]",
      "text/plain": [
       "<Figure size 432x288 with 2 Axes>"
      ]
     },
     "metadata": {
      "needs_background": "light"
     },
     "output_type": "display_data"
    }
   ],
   "source": [
    "\n",
    "sns.set_context('talk')\n",
    "cm = confusion_matrix(y_test, y_pred_gbc)\n",
    "ax = sns.heatmap(cm, annot=True, fmt='d')"
   ]
  },
  {
   "cell_type": "markdown",
   "metadata": {},
   "source": [
    "# Conclusion\n",
    "\n",
    "I obtained 90% accuracy with Random Forest Classifier and over 82% on the other classifiers except Logistic Regression (62%) which was a litle over random in some cases. Colours, as expected from the image (ug vs gr), didn't add any new information to the models. \n",
    "\n",
    "This is less than obtained on the Determining Redshift notebook and not good enough to imporove estimation of redshifts."
   ]
  }
 ],
 "metadata": {
  "kernelspec": {
   "display_name": "Python 3",
   "language": "python",
   "name": "python3"
  },
  "language_info": {
   "codemirror_mode": {
    "name": "ipython",
    "version": 3
   },
   "file_extension": ".py",
   "mimetype": "text/x-python",
   "name": "python",
   "nbconvert_exporter": "python",
   "pygments_lexer": "ipython3",
   "version": "3.7.6"
  }
 },
 "nbformat": 4,
 "nbformat_minor": 4
}
