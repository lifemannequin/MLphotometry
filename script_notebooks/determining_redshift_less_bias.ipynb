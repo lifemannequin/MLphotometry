{
 "cells": [
  {
   "cell_type": "markdown",
   "metadata": {},
   "source": [
    "# Introduction"
   ]
  },
  {
   "cell_type": "markdown",
   "metadata": {},
   "source": [
    "\n",
    "In the notebook 'determining_redshift', the sample was small (1500 sources) and it contained only very bright (mean 17 in magnitude in the dered_r band) sources. The new dataset contains 135000 sources with a mean of 19 in magnitudes.\n",
    "\n",
    "To note that SDSS removed their photozRF table because it does poorly with the faint red galaxies targeted in  Baryon Oscillation Spectroscopic Survey (BOSS). "
   ]
  },
  {
   "cell_type": "code",
   "execution_count": 1,
   "metadata": {},
   "outputs": [],
   "source": [
    "import os\n",
    "import numpy as np\n",
    "import pandas as pd\n",
    "from pandas.plotting import table\n",
    "import seaborn as sns\n",
    "import matplotlib.pyplot as plt\n",
    "from scipy import stats\n",
    "sns.set()\n",
    "%matplotlib inline"
   ]
  },
  {
   "cell_type": "markdown",
   "metadata": {},
   "source": [
    "## Loading data and some EDA"
   ]
  },
  {
   "cell_type": "code",
   "execution_count": 2,
   "metadata": {},
   "outputs": [],
   "source": [
    "filepath= \"/home/veroastro/Documents/spectraTypes/data/newData/\"\n",
    "data = pd.read_csv(filepath+\"full_sources.csv\")\n"
   ]
  },
  {
   "cell_type": "code",
   "execution_count": 3,
   "metadata": {},
   "outputs": [
    {
     "data": {
      "text/html": [
       "<div>\n",
       "<style scoped>\n",
       "    .dataframe tbody tr th:only-of-type {\n",
       "        vertical-align: middle;\n",
       "    }\n",
       "\n",
       "    .dataframe tbody tr th {\n",
       "        vertical-align: top;\n",
       "    }\n",
       "\n",
       "    .dataframe thead th {\n",
       "        text-align: right;\n",
       "    }\n",
       "</style>\n",
       "<table border=\"1\" class=\"dataframe\">\n",
       "  <thead>\n",
       "    <tr style=\"text-align: right;\">\n",
       "      <th></th>\n",
       "      <th>objID</th>\n",
       "      <th>dered_u</th>\n",
       "      <th>err_u</th>\n",
       "      <th>dered_g</th>\n",
       "      <th>err_g</th>\n",
       "      <th>dered_r</th>\n",
       "      <th>err_r</th>\n",
       "      <th>dered_i</th>\n",
       "      <th>err_i</th>\n",
       "      <th>dered_z</th>\n",
       "      <th>err_z</th>\n",
       "      <th>specObjID</th>\n",
       "      <th>z</th>\n",
       "      <th>zErr</th>\n",
       "      <th>photoZ</th>\n",
       "      <th>photoErr</th>\n",
       "      <th>class</th>\n",
       "      <th>subClass</th>\n",
       "      <th>type</th>\n",
       "    </tr>\n",
       "  </thead>\n",
       "  <tbody>\n",
       "    <tr>\n",
       "      <th>74661</th>\n",
       "      <td>1237671140946673797</td>\n",
       "      <td>18.70755</td>\n",
       "      <td>0.018987</td>\n",
       "      <td>18.58827</td>\n",
       "      <td>0.008115</td>\n",
       "      <td>18.30832</td>\n",
       "      <td>0.007775</td>\n",
       "      <td>18.03629</td>\n",
       "      <td>0.007845</td>\n",
       "      <td>17.61891</td>\n",
       "      <td>0.014817</td>\n",
       "      <td>9.470003e+17</td>\n",
       "      <td>0.391421</td>\n",
       "      <td>0.000128</td>\n",
       "      <td>0.274903</td>\n",
       "      <td>0.062726</td>\n",
       "      <td>QSO</td>\n",
       "      <td>BROADLINE</td>\n",
       "      <td>3.0</td>\n",
       "    </tr>\n",
       "    <tr>\n",
       "      <th>52108</th>\n",
       "      <td>1237666407380091059</td>\n",
       "      <td>21.86515</td>\n",
       "      <td>0.302100</td>\n",
       "      <td>20.95020</td>\n",
       "      <td>0.051835</td>\n",
       "      <td>20.14202</td>\n",
       "      <td>0.036993</td>\n",
       "      <td>19.27346</td>\n",
       "      <td>0.025795</td>\n",
       "      <td>19.14456</td>\n",
       "      <td>0.077907</td>\n",
       "      <td>7.858861e+17</td>\n",
       "      <td>0.599028</td>\n",
       "      <td>0.000055</td>\n",
       "      <td>0.630623</td>\n",
       "      <td>0.069566</td>\n",
       "      <td>QSO</td>\n",
       "      <td>BROADLINE</td>\n",
       "      <td>3.0</td>\n",
       "    </tr>\n",
       "    <tr>\n",
       "      <th>26404</th>\n",
       "      <td>1237648720139518093</td>\n",
       "      <td>24.61275</td>\n",
       "      <td>2.121920</td>\n",
       "      <td>20.75031</td>\n",
       "      <td>0.073134</td>\n",
       "      <td>18.84521</td>\n",
       "      <td>0.018786</td>\n",
       "      <td>18.19994</td>\n",
       "      <td>0.015492</td>\n",
       "      <td>17.85910</td>\n",
       "      <td>0.042086</td>\n",
       "      <td>5.337555e+17</td>\n",
       "      <td>0.321955</td>\n",
       "      <td>0.000110</td>\n",
       "      <td>0.370356</td>\n",
       "      <td>0.026022</td>\n",
       "      <td>GALAXY</td>\n",
       "      <td>NaN</td>\n",
       "      <td>NaN</td>\n",
       "    </tr>\n",
       "    <tr>\n",
       "      <th>102845</th>\n",
       "      <td>1237667430633570409</td>\n",
       "      <td>22.41891</td>\n",
       "      <td>0.289416</td>\n",
       "      <td>19.70115</td>\n",
       "      <td>0.014923</td>\n",
       "      <td>18.25798</td>\n",
       "      <td>0.008024</td>\n",
       "      <td>17.35775</td>\n",
       "      <td>0.006623</td>\n",
       "      <td>16.81206</td>\n",
       "      <td>0.013416</td>\n",
       "      <td>2.584074e+18</td>\n",
       "      <td>0.000116</td>\n",
       "      <td>0.000015</td>\n",
       "      <td>0.192390</td>\n",
       "      <td>0.129783</td>\n",
       "      <td>STAR</td>\n",
       "      <td>M2</td>\n",
       "      <td>3.0</td>\n",
       "    </tr>\n",
       "    <tr>\n",
       "      <th>63411</th>\n",
       "      <td>1237657400803721249</td>\n",
       "      <td>21.22128</td>\n",
       "      <td>0.159223</td>\n",
       "      <td>20.43307</td>\n",
       "      <td>0.031508</td>\n",
       "      <td>20.28084</td>\n",
       "      <td>0.037875</td>\n",
       "      <td>19.69734</td>\n",
       "      <td>0.029186</td>\n",
       "      <td>19.54530</td>\n",
       "      <td>0.082307</td>\n",
       "      <td>9.311591e+17</td>\n",
       "      <td>0.644905</td>\n",
       "      <td>0.000182</td>\n",
       "      <td>0.375111</td>\n",
       "      <td>0.172950</td>\n",
       "      <td>QSO</td>\n",
       "      <td>NaN</td>\n",
       "      <td>3.0</td>\n",
       "    </tr>\n",
       "  </tbody>\n",
       "</table>\n",
       "</div>"
      ],
      "text/plain": [
       "                      objID   dered_u     err_u   dered_g     err_g   dered_r  \\\n",
       "74661   1237671140946673797  18.70755  0.018987  18.58827  0.008115  18.30832   \n",
       "52108   1237666407380091059  21.86515  0.302100  20.95020  0.051835  20.14202   \n",
       "26404   1237648720139518093  24.61275  2.121920  20.75031  0.073134  18.84521   \n",
       "102845  1237667430633570409  22.41891  0.289416  19.70115  0.014923  18.25798   \n",
       "63411   1237657400803721249  21.22128  0.159223  20.43307  0.031508  20.28084   \n",
       "\n",
       "           err_r   dered_i     err_i   dered_z     err_z     specObjID  \\\n",
       "74661   0.007775  18.03629  0.007845  17.61891  0.014817  9.470003e+17   \n",
       "52108   0.036993  19.27346  0.025795  19.14456  0.077907  7.858861e+17   \n",
       "26404   0.018786  18.19994  0.015492  17.85910  0.042086  5.337555e+17   \n",
       "102845  0.008024  17.35775  0.006623  16.81206  0.013416  2.584074e+18   \n",
       "63411   0.037875  19.69734  0.029186  19.54530  0.082307  9.311591e+17   \n",
       "\n",
       "               z      zErr    photoZ  photoErr   class   subClass  type  \n",
       "74661   0.391421  0.000128  0.274903  0.062726     QSO  BROADLINE   3.0  \n",
       "52108   0.599028  0.000055  0.630623  0.069566     QSO  BROADLINE   3.0  \n",
       "26404   0.321955  0.000110  0.370356  0.026022  GALAXY        NaN   NaN  \n",
       "102845  0.000116  0.000015  0.192390  0.129783    STAR         M2   3.0  \n",
       "63411   0.644905  0.000182  0.375111  0.172950     QSO        NaN   3.0  "
      ]
     },
     "execution_count": 3,
     "metadata": {},
     "output_type": "execute_result"
    }
   ],
   "source": [
    "\n",
    "#Scramble the data set so that it is not ordered by spectral class (QSO, galaxy or star) \n",
    "data = data.sample(frac=1)\n",
    "\n",
    "data.head()"
   ]
  },
  {
   "cell_type": "code",
   "execution_count": 4,
   "metadata": {},
   "outputs": [
    {
     "data": {
      "text/html": [
       "<div>\n",
       "<style scoped>\n",
       "    .dataframe tbody tr th:only-of-type {\n",
       "        vertical-align: middle;\n",
       "    }\n",
       "\n",
       "    .dataframe tbody tr th {\n",
       "        vertical-align: top;\n",
       "    }\n",
       "\n",
       "    .dataframe thead th {\n",
       "        text-align: right;\n",
       "    }\n",
       "</style>\n",
       "<table border=\"1\" class=\"dataframe\">\n",
       "  <thead>\n",
       "    <tr style=\"text-align: right;\">\n",
       "      <th></th>\n",
       "      <th>objID</th>\n",
       "      <th>dered_u</th>\n",
       "      <th>err_u</th>\n",
       "      <th>dered_g</th>\n",
       "      <th>err_g</th>\n",
       "      <th>dered_r</th>\n",
       "      <th>err_r</th>\n",
       "      <th>dered_i</th>\n",
       "      <th>err_i</th>\n",
       "      <th>dered_z</th>\n",
       "      <th>err_z</th>\n",
       "      <th>specObjID</th>\n",
       "      <th>z</th>\n",
       "      <th>zErr</th>\n",
       "      <th>photoZ</th>\n",
       "      <th>photoErr</th>\n",
       "      <th>type</th>\n",
       "    </tr>\n",
       "  </thead>\n",
       "  <tbody>\n",
       "    <tr>\n",
       "      <th>count</th>\n",
       "      <td>1.350000e+05</td>\n",
       "      <td>135000.000000</td>\n",
       "      <td>135000.000000</td>\n",
       "      <td>135000.000000</td>\n",
       "      <td>135000.000000</td>\n",
       "      <td>135000.000000</td>\n",
       "      <td>135000.000000</td>\n",
       "      <td>135000.000000</td>\n",
       "      <td>135000.000000</td>\n",
       "      <td>135000.000000</td>\n",
       "      <td>135000.000000</td>\n",
       "      <td>1.350000e+05</td>\n",
       "      <td>135000.000000</td>\n",
       "      <td>135000.000000</td>\n",
       "      <td>135000.000000</td>\n",
       "      <td>135000.000000</td>\n",
       "      <td>90000.0</td>\n",
       "    </tr>\n",
       "    <tr>\n",
       "      <th>mean</th>\n",
       "      <td>1.237659e+18</td>\n",
       "      <td>21.818135</td>\n",
       "      <td>0.564492</td>\n",
       "      <td>20.309045</td>\n",
       "      <td>0.109368</td>\n",
       "      <td>19.285139</td>\n",
       "      <td>0.078141</td>\n",
       "      <td>18.592777</td>\n",
       "      <td>0.050795</td>\n",
       "      <td>18.275074</td>\n",
       "      <td>0.108812</td>\n",
       "      <td>2.667961e+18</td>\n",
       "      <td>0.293436</td>\n",
       "      <td>0.069791</td>\n",
       "      <td>-429.592481</td>\n",
       "      <td>-429.903597</td>\n",
       "      <td>3.0</td>\n",
       "    </tr>\n",
       "    <tr>\n",
       "      <th>std</th>\n",
       "      <td>7.359006e+12</td>\n",
       "      <td>2.191509</td>\n",
       "      <td>0.923682</td>\n",
       "      <td>1.830998</td>\n",
       "      <td>0.529150</td>\n",
       "      <td>1.673204</td>\n",
       "      <td>0.502919</td>\n",
       "      <td>1.488666</td>\n",
       "      <td>0.377803</td>\n",
       "      <td>1.500261</td>\n",
       "      <td>0.494538</td>\n",
       "      <td>2.338664e+18</td>\n",
       "      <td>0.498651</td>\n",
       "      <td>2.411561</td>\n",
       "      <td>2028.452859</td>\n",
       "      <td>2028.386901</td>\n",
       "      <td>0.0</td>\n",
       "    </tr>\n",
       "    <tr>\n",
       "      <th>min</th>\n",
       "      <td>1.237646e+18</td>\n",
       "      <td>10.332040</td>\n",
       "      <td>0.000597</td>\n",
       "      <td>9.884518</td>\n",
       "      <td>0.000282</td>\n",
       "      <td>9.321852</td>\n",
       "      <td>0.000305</td>\n",
       "      <td>9.207663</td>\n",
       "      <td>0.000210</td>\n",
       "      <td>9.800303</td>\n",
       "      <td>0.001093</td>\n",
       "      <td>2.994897e+17</td>\n",
       "      <td>-0.009944</td>\n",
       "      <td>-6.000000</td>\n",
       "      <td>-9999.000000</td>\n",
       "      <td>-9999.000000</td>\n",
       "      <td>3.0</td>\n",
       "    </tr>\n",
       "    <tr>\n",
       "      <th>25%</th>\n",
       "      <td>1.237652e+18</td>\n",
       "      <td>20.000940</td>\n",
       "      <td>0.065125</td>\n",
       "      <td>18.970020</td>\n",
       "      <td>0.012477</td>\n",
       "      <td>18.255080</td>\n",
       "      <td>0.010109</td>\n",
       "      <td>17.759570</td>\n",
       "      <td>0.010070</td>\n",
       "      <td>17.433850</td>\n",
       "      <td>0.024752</td>\n",
       "      <td>5.438980e+17</td>\n",
       "      <td>0.000095</td>\n",
       "      <td>0.000026</td>\n",
       "      <td>0.172001</td>\n",
       "      <td>0.023691</td>\n",
       "      <td>3.0</td>\n",
       "    </tr>\n",
       "    <tr>\n",
       "      <th>50%</th>\n",
       "      <td>1.237658e+18</td>\n",
       "      <td>21.933740</td>\n",
       "      <td>0.321909</td>\n",
       "      <td>20.637290</td>\n",
       "      <td>0.047026</td>\n",
       "      <td>19.579080</td>\n",
       "      <td>0.025417</td>\n",
       "      <td>18.846650</td>\n",
       "      <td>0.021037</td>\n",
       "      <td>18.440160</td>\n",
       "      <td>0.051082</td>\n",
       "      <td>1.691149e+18</td>\n",
       "      <td>0.188444</td>\n",
       "      <td>0.000051</td>\n",
       "      <td>0.368401</td>\n",
       "      <td>0.040274</td>\n",
       "      <td>3.0</td>\n",
       "    </tr>\n",
       "    <tr>\n",
       "      <th>75%</th>\n",
       "      <td>1.237664e+18</td>\n",
       "      <td>23.402515</td>\n",
       "      <td>0.842008</td>\n",
       "      <td>21.611540</td>\n",
       "      <td>0.099981</td>\n",
       "      <td>20.441560</td>\n",
       "      <td>0.050268</td>\n",
       "      <td>19.561500</td>\n",
       "      <td>0.033101</td>\n",
       "      <td>19.151623</td>\n",
       "      <td>0.083175</td>\n",
       "      <td>4.574580e+18</td>\n",
       "      <td>0.431413</td>\n",
       "      <td>0.000095</td>\n",
       "      <td>0.545646</td>\n",
       "      <td>0.065096</td>\n",
       "      <td>3.0</td>\n",
       "    </tr>\n",
       "    <tr>\n",
       "      <th>max</th>\n",
       "      <td>1.237680e+18</td>\n",
       "      <td>32.564690</td>\n",
       "      <td>92.837850</td>\n",
       "      <td>31.013640</td>\n",
       "      <td>68.299890</td>\n",
       "      <td>31.521720</td>\n",
       "      <td>29.829040</td>\n",
       "      <td>31.343010</td>\n",
       "      <td>44.447280</td>\n",
       "      <td>30.781270</td>\n",
       "      <td>55.823620</td>\n",
       "      <td>1.030211e+19</td>\n",
       "      <td>7.018627</td>\n",
       "      <td>453.145900</td>\n",
       "      <td>0.999865</td>\n",
       "      <td>0.277625</td>\n",
       "      <td>3.0</td>\n",
       "    </tr>\n",
       "  </tbody>\n",
       "</table>\n",
       "</div>"
      ],
      "text/plain": [
       "              objID        dered_u          err_u        dered_g  \\\n",
       "count  1.350000e+05  135000.000000  135000.000000  135000.000000   \n",
       "mean   1.237659e+18      21.818135       0.564492      20.309045   \n",
       "std    7.359006e+12       2.191509       0.923682       1.830998   \n",
       "min    1.237646e+18      10.332040       0.000597       9.884518   \n",
       "25%    1.237652e+18      20.000940       0.065125      18.970020   \n",
       "50%    1.237658e+18      21.933740       0.321909      20.637290   \n",
       "75%    1.237664e+18      23.402515       0.842008      21.611540   \n",
       "max    1.237680e+18      32.564690      92.837850      31.013640   \n",
       "\n",
       "               err_g        dered_r          err_r        dered_i  \\\n",
       "count  135000.000000  135000.000000  135000.000000  135000.000000   \n",
       "mean        0.109368      19.285139       0.078141      18.592777   \n",
       "std         0.529150       1.673204       0.502919       1.488666   \n",
       "min         0.000282       9.321852       0.000305       9.207663   \n",
       "25%         0.012477      18.255080       0.010109      17.759570   \n",
       "50%         0.047026      19.579080       0.025417      18.846650   \n",
       "75%         0.099981      20.441560       0.050268      19.561500   \n",
       "max        68.299890      31.521720      29.829040      31.343010   \n",
       "\n",
       "               err_i        dered_z          err_z     specObjID  \\\n",
       "count  135000.000000  135000.000000  135000.000000  1.350000e+05   \n",
       "mean        0.050795      18.275074       0.108812  2.667961e+18   \n",
       "std         0.377803       1.500261       0.494538  2.338664e+18   \n",
       "min         0.000210       9.800303       0.001093  2.994897e+17   \n",
       "25%         0.010070      17.433850       0.024752  5.438980e+17   \n",
       "50%         0.021037      18.440160       0.051082  1.691149e+18   \n",
       "75%         0.033101      19.151623       0.083175  4.574580e+18   \n",
       "max        44.447280      30.781270      55.823620  1.030211e+19   \n",
       "\n",
       "                   z           zErr         photoZ       photoErr     type  \n",
       "count  135000.000000  135000.000000  135000.000000  135000.000000  90000.0  \n",
       "mean        0.293436       0.069791    -429.592481    -429.903597      3.0  \n",
       "std         0.498651       2.411561    2028.452859    2028.386901      0.0  \n",
       "min        -0.009944      -6.000000   -9999.000000   -9999.000000      3.0  \n",
       "25%         0.000095       0.000026       0.172001       0.023691      3.0  \n",
       "50%         0.188444       0.000051       0.368401       0.040274      3.0  \n",
       "75%         0.431413       0.000095       0.545646       0.065096      3.0  \n",
       "max         7.018627     453.145900       0.999865       0.277625      3.0  "
      ]
     },
     "execution_count": 4,
     "metadata": {},
     "output_type": "execute_result"
    }
   ],
   "source": [
    "data.describe()"
   ]
  },
  {
   "cell_type": "markdown",
   "metadata": {},
   "source": [
    "photoZ and photoErr have values set as -9999. This is the same as a Null value. Since it is not part of our determination of the redshift, the sources with null values of SDSS photoZ and photoErr wont be deleted from the dataset. Since photoZ and photoErr are needed for comparison, the dataframes photoz and photozErr are created whithout the null values. This leaves us with 129,195 sources of the 135,000\n"
   ]
  },
  {
   "cell_type": "code",
   "execution_count": 5,
   "metadata": {},
   "outputs": [
    {
     "name": "stdout",
     "output_type": "stream",
     "text": [
      "Mean photoError: 0.056\n"
     ]
    }
   ],
   "source": [
    "\n",
    "photoz= data.loc[(data['photoZ'] >= 0.0)]['photoZ']\n",
    "photozErr=data.loc[(data['photoZ'] >= 0.0)]['photoErr']\n",
    "\n",
    "print('Mean photoError:', round(np.mean(photozErr), 3))"
   ]
  },
  {
   "cell_type": "code",
   "execution_count": 6,
   "metadata": {},
   "outputs": [
    {
     "data": {
      "text/plain": [
       "count    129195.000000\n",
       "mean          0.055803\n",
       "std           0.044428\n",
       "min           0.003985\n",
       "25%           0.025393\n",
       "50%           0.042296\n",
       "75%           0.066900\n",
       "max           0.277625\n",
       "Name: photoErr, dtype: float64"
      ]
     },
     "execution_count": 6,
     "metadata": {},
     "output_type": "execute_result"
    }
   ],
   "source": [
    "photozErr.describe()"
   ]
  },
  {
   "cell_type": "code",
   "execution_count": 7,
   "metadata": {},
   "outputs": [
    {
     "name": "stdout",
     "output_type": "stream",
     "text": [
      "Mean specError: 0.07\n"
     ]
    }
   ],
   "source": [
    "print('Mean specError:', round(np.mean(data['zErr']), 3))"
   ]
  },
  {
   "cell_type": "markdown",
   "metadata": {},
   "source": [
    "The mean value of the spectroscopic errors is 0.07 while the mean value of the photometric errors is 0.056."
   ]
  },
  {
   "cell_type": "code",
   "execution_count": 8,
   "metadata": {},
   "outputs": [
    {
     "data": {
      "text/html": [
       "<div>\n",
       "<style scoped>\n",
       "    .dataframe tbody tr th:only-of-type {\n",
       "        vertical-align: middle;\n",
       "    }\n",
       "\n",
       "    .dataframe tbody tr th {\n",
       "        vertical-align: top;\n",
       "    }\n",
       "\n",
       "    .dataframe thead th {\n",
       "        text-align: right;\n",
       "    }\n",
       "</style>\n",
       "<table border=\"1\" class=\"dataframe\">\n",
       "  <thead>\n",
       "    <tr style=\"text-align: right;\">\n",
       "      <th></th>\n",
       "      <th>dered_u</th>\n",
       "      <th>dered_g</th>\n",
       "      <th>dered_r</th>\n",
       "      <th>dered_i</th>\n",
       "      <th>dered_z</th>\n",
       "      <th>z</th>\n",
       "    </tr>\n",
       "  </thead>\n",
       "  <tbody>\n",
       "    <tr>\n",
       "      <th>74661</th>\n",
       "      <td>18.70755</td>\n",
       "      <td>18.58827</td>\n",
       "      <td>18.30832</td>\n",
       "      <td>18.03629</td>\n",
       "      <td>17.61891</td>\n",
       "      <td>0.391421</td>\n",
       "    </tr>\n",
       "    <tr>\n",
       "      <th>52108</th>\n",
       "      <td>21.86515</td>\n",
       "      <td>20.95020</td>\n",
       "      <td>20.14202</td>\n",
       "      <td>19.27346</td>\n",
       "      <td>19.14456</td>\n",
       "      <td>0.599028</td>\n",
       "    </tr>\n",
       "    <tr>\n",
       "      <th>26404</th>\n",
       "      <td>24.61275</td>\n",
       "      <td>20.75031</td>\n",
       "      <td>18.84521</td>\n",
       "      <td>18.19994</td>\n",
       "      <td>17.85910</td>\n",
       "      <td>0.321955</td>\n",
       "    </tr>\n",
       "    <tr>\n",
       "      <th>102845</th>\n",
       "      <td>22.41891</td>\n",
       "      <td>19.70115</td>\n",
       "      <td>18.25798</td>\n",
       "      <td>17.35775</td>\n",
       "      <td>16.81206</td>\n",
       "      <td>0.000116</td>\n",
       "    </tr>\n",
       "    <tr>\n",
       "      <th>63411</th>\n",
       "      <td>21.22128</td>\n",
       "      <td>20.43307</td>\n",
       "      <td>20.28084</td>\n",
       "      <td>19.69734</td>\n",
       "      <td>19.54530</td>\n",
       "      <td>0.644905</td>\n",
       "    </tr>\n",
       "  </tbody>\n",
       "</table>\n",
       "</div>"
      ],
      "text/plain": [
       "         dered_u   dered_g   dered_r   dered_i   dered_z         z\n",
       "74661   18.70755  18.58827  18.30832  18.03629  17.61891  0.391421\n",
       "52108   21.86515  20.95020  20.14202  19.27346  19.14456  0.599028\n",
       "26404   24.61275  20.75031  18.84521  18.19994  17.85910  0.321955\n",
       "102845  22.41891  19.70115  18.25798  17.35775  16.81206  0.000116\n",
       "63411   21.22128  20.43307  20.28084  19.69734  19.54530  0.644905"
      ]
     },
     "execution_count": 8,
     "metadata": {},
     "output_type": "execute_result"
    }
   ],
   "source": [
    "\n",
    "data_clean = data.drop(columns=['specObjID','objID','err_u', 'err_g', 'err_r', 'err_i', 'err_z', 'zErr', 'class', 'subClass', 'photoZ','photoErr','type'])\n",
    "data_clean.head()"
   ]
  },
  {
   "cell_type": "code",
   "execution_count": 9,
   "metadata": {},
   "outputs": [
    {
     "data": {
      "text/html": [
       "<div>\n",
       "<style scoped>\n",
       "    .dataframe tbody tr th:only-of-type {\n",
       "        vertical-align: middle;\n",
       "    }\n",
       "\n",
       "    .dataframe tbody tr th {\n",
       "        vertical-align: top;\n",
       "    }\n",
       "\n",
       "    .dataframe thead th {\n",
       "        text-align: right;\n",
       "    }\n",
       "</style>\n",
       "<table border=\"1\" class=\"dataframe\">\n",
       "  <thead>\n",
       "    <tr style=\"text-align: right;\">\n",
       "      <th></th>\n",
       "      <th>dered_u</th>\n",
       "      <th>dered_g</th>\n",
       "      <th>dered_r</th>\n",
       "      <th>dered_i</th>\n",
       "      <th>dered_z</th>\n",
       "      <th>z</th>\n",
       "    </tr>\n",
       "  </thead>\n",
       "  <tbody>\n",
       "    <tr>\n",
       "      <th>count</th>\n",
       "      <td>135000.000000</td>\n",
       "      <td>135000.000000</td>\n",
       "      <td>135000.000000</td>\n",
       "      <td>135000.000000</td>\n",
       "      <td>135000.000000</td>\n",
       "      <td>135000.000000</td>\n",
       "    </tr>\n",
       "    <tr>\n",
       "      <th>mean</th>\n",
       "      <td>21.818135</td>\n",
       "      <td>20.309045</td>\n",
       "      <td>19.285139</td>\n",
       "      <td>18.592777</td>\n",
       "      <td>18.275074</td>\n",
       "      <td>0.293436</td>\n",
       "    </tr>\n",
       "    <tr>\n",
       "      <th>std</th>\n",
       "      <td>2.191509</td>\n",
       "      <td>1.830998</td>\n",
       "      <td>1.673204</td>\n",
       "      <td>1.488666</td>\n",
       "      <td>1.500261</td>\n",
       "      <td>0.498651</td>\n",
       "    </tr>\n",
       "    <tr>\n",
       "      <th>min</th>\n",
       "      <td>10.332040</td>\n",
       "      <td>9.884518</td>\n",
       "      <td>9.321852</td>\n",
       "      <td>9.207663</td>\n",
       "      <td>9.800303</td>\n",
       "      <td>-0.009944</td>\n",
       "    </tr>\n",
       "    <tr>\n",
       "      <th>25%</th>\n",
       "      <td>20.000940</td>\n",
       "      <td>18.970020</td>\n",
       "      <td>18.255080</td>\n",
       "      <td>17.759570</td>\n",
       "      <td>17.433850</td>\n",
       "      <td>0.000095</td>\n",
       "    </tr>\n",
       "    <tr>\n",
       "      <th>50%</th>\n",
       "      <td>21.933740</td>\n",
       "      <td>20.637290</td>\n",
       "      <td>19.579080</td>\n",
       "      <td>18.846650</td>\n",
       "      <td>18.440160</td>\n",
       "      <td>0.188444</td>\n",
       "    </tr>\n",
       "    <tr>\n",
       "      <th>75%</th>\n",
       "      <td>23.402515</td>\n",
       "      <td>21.611540</td>\n",
       "      <td>20.441560</td>\n",
       "      <td>19.561500</td>\n",
       "      <td>19.151623</td>\n",
       "      <td>0.431413</td>\n",
       "    </tr>\n",
       "    <tr>\n",
       "      <th>max</th>\n",
       "      <td>32.564690</td>\n",
       "      <td>31.013640</td>\n",
       "      <td>31.521720</td>\n",
       "      <td>31.343010</td>\n",
       "      <td>30.781270</td>\n",
       "      <td>7.018627</td>\n",
       "    </tr>\n",
       "  </tbody>\n",
       "</table>\n",
       "</div>"
      ],
      "text/plain": [
       "             dered_u        dered_g        dered_r        dered_i  \\\n",
       "count  135000.000000  135000.000000  135000.000000  135000.000000   \n",
       "mean       21.818135      20.309045      19.285139      18.592777   \n",
       "std         2.191509       1.830998       1.673204       1.488666   \n",
       "min        10.332040       9.884518       9.321852       9.207663   \n",
       "25%        20.000940      18.970020      18.255080      17.759570   \n",
       "50%        21.933740      20.637290      19.579080      18.846650   \n",
       "75%        23.402515      21.611540      20.441560      19.561500   \n",
       "max        32.564690      31.013640      31.521720      31.343010   \n",
       "\n",
       "             dered_z              z  \n",
       "count  135000.000000  135000.000000  \n",
       "mean       18.275074       0.293436  \n",
       "std         1.500261       0.498651  \n",
       "min         9.800303      -0.009944  \n",
       "25%        17.433850       0.000095  \n",
       "50%        18.440160       0.188444  \n",
       "75%        19.151623       0.431413  \n",
       "max        30.781270       7.018627  "
      ]
     },
     "execution_count": 9,
     "metadata": {},
     "output_type": "execute_result"
    }
   ],
   "source": [
    "data_clean.describe()"
   ]
  },
  {
   "cell_type": "code",
   "execution_count": 10,
   "metadata": {},
   "outputs": [],
   "source": [
    "def hist_plots( data: pd.DataFrame,\n",
    "               rows: int,\n",
    "              cols: int,\n",
    "              figsize: tuple):\n",
    "    fig, axes = plt.subplots(rows,cols, figsize=figsize)\n",
    "    for i, ax in enumerate(axes.flatten()):\n",
    "        if i < len(data.columns):\n",
    "            data[sorted(data.columns)[i]].plot.hist(bins=30, ax=ax)\n",
    "            ax.set_title(f'{sorted(data.columns)[i]} distribution', fontsize=10)\n",
    "            ax.tick_params(axis='x', labelsize=10)\n",
    "            ax.tick_params(axis='y', labelsize=10)\n",
    "            ax.get_yaxis().get_label().set_visible(False)\n",
    "        else:\n",
    "            fig.delaxes(ax=ax)\n",
    "    fig.tight_layout()"
   ]
  },
  {
   "cell_type": "code",
   "execution_count": 11,
   "metadata": {},
   "outputs": [
    {
     "data": {
      "image/png": "[encoded data removed]",
      "text/plain": [
       "<Figure size 1440x720 with 6 Axes>"
      ]
     },
     "metadata": {
      "needs_background": "light"
     },
     "output_type": "display_data"
    }
   ],
   "source": [
    "#Histograms of the columns in the dataset\n",
    "hist_plots(data=data_clean,\n",
    "          rows=2,\n",
    "          cols=4,\n",
    "          figsize=(20,10))\n"
   ]
  },
  {
   "cell_type": "markdown",
   "metadata": {},
   "source": [
    "Mostly normal distributions of the bands around 18-20 mag. Most redshifts are less than 0.5."
   ]
  },
  {
   "cell_type": "code",
   "execution_count": 12,
   "metadata": {},
   "outputs": [
    {
     "data": {
      "image/png": "[encoded data removed]",
      "text/plain": [
       "<Figure size 360x360 with 1 Axes>"
      ]
     },
     "metadata": {
      "needs_background": "light"
     },
     "output_type": "display_data"
    }
   ],
   "source": [
    "\n",
    "data['ur'] =  data['dered_u'] - data['dered_r']\n",
    "data['gr'] =  data['dered_g'] - data['dered_r']\n",
    "\n",
    "sns.lmplot( x=\"ur\", y=\"gr\", data=data, fit_reg=False, hue='class', legend=False)\n",
    " \n",
    "# Move the legend to an empty part of the plot\n",
    "plt.legend(loc='lower right')\n",
    "\n",
    "plt.show()"
   ]
  },
  {
   "cell_type": "markdown",
   "metadata": {},
   "source": [
    "As seen by the graph above, colours (the difference in magnitude between 2 bands) gives no extra information."
   ]
  },
  {
   "cell_type": "code",
   "execution_count": 13,
   "metadata": {},
   "outputs": [],
   "source": [
    "# Creating the atributes set as X and the target redshift as y\n",
    "from sklearn.preprocessing import MinMaxScaler\n",
    "cols= data_clean.columns[:-1]\n",
    "X = data_clean[cols]\n",
    "y = data_clean['z']\n",
    "scaler = MinMaxScaler()\n",
    "X_t = scaler.fit_transform(X)"
   ]
  },
  {
   "cell_type": "markdown",
   "metadata": {},
   "source": [
    "## Training models"
   ]
  },
  {
   "cell_type": "code",
   "execution_count": 14,
   "metadata": {},
   "outputs": [],
   "source": [
    "# Splitting the Xand y datasets into training and test set and normalising the data\n",
    "from sklearn.model_selection import train_test_split\n",
    "\n",
    "X_train, X_test, y_train, y_test = train_test_split(X_t, y, \n",
    "                                                    test_size=0.3, random_state=42)"
   ]
  },
  {
   "cell_type": "code",
   "execution_count": 15,
   "metadata": {},
   "outputs": [],
   "source": [
    "# Linear regression\n",
    "from sklearn.linear_model import LinearRegression\n",
    "from sklearn.metrics import mean_squared_error\n",
    "\n",
    "LR = LinearRegression()\n",
    "\n",
    "# Storage for error values\n",
    "error_df = list()\n",
    "\n",
    "\n",
    "LR = LR.fit(X_train, y_train)\n",
    "y_train_pred = LR.predict(X_train)\n",
    "y_test_pred = LR.predict(X_test)\n",
    "\n",
    "error_df.append(pd.Series({'train': mean_squared_error(y_train, y_train_pred),\n",
    "                           'test' : mean_squared_error(y_test,  y_test_pred)}))\n"
   ]
  },
  {
   "cell_type": "code",
   "execution_count": 16,
   "metadata": {},
   "outputs": [
    {
     "data": {
      "text/plain": [
       "[train    0.221162\n",
       " test     0.237769\n",
       " dtype: float64]"
      ]
     },
     "execution_count": 16,
     "metadata": {},
     "output_type": "execute_result"
    }
   ],
   "source": [
    "error_df"
   ]
  },
  {
   "cell_type": "code",
   "execution_count": 17,
   "metadata": {},
   "outputs": [],
   "source": [
    "# Random Forest with GridSearchCV\n",
    "from sklearn.ensemble import RandomForestRegressor\n",
    "from sklearn.model_selection import GridSearchCV\n",
    "RF = RandomForestRegressor(random_state = 42)\n",
    "param_grid = {  'bootstrap': [True],\n",
    "                'max_features': ['log2'], \n",
    "                'n_estimators': range(300,400, 20)}\n",
    "\n",
    "rf= GridSearchCV(RF,\n",
    "                  param_grid=param_grid)\n",
    "\n",
    "# Train the model on training data\n",
    "rf.fit(X_train, y_train);\n",
    "predictions = rf.predict(X_test)\n"
   ]
  },
  {
   "cell_type": "code",
   "execution_count": 18,
   "metadata": {},
   "outputs": [
    {
     "data": {
      "text/plain": [
       "({'bootstrap': True, 'max_features': 'log2', 'n_estimators': 360},\n",
       " 0.6035668644692928)"
      ]
     },
     "execution_count": 18,
     "metadata": {},
     "output_type": "execute_result"
    }
   ],
   "source": [
    "rf.best_params_ ,rf.best_score_"
   ]
  },
  {
   "cell_type": "markdown",
   "metadata": {},
   "source": [
    "'bootstrap': True, 'max_features': 'log2', 'n_estimators': 121 best parameters of the random forest regressor. "
   ]
  },
  {
   "cell_type": "code",
   "execution_count": 19,
   "metadata": {},
   "outputs": [
    {
     "name": "stdout",
     "output_type": "stream",
     "text": [
      "Mean Square Error RF: 0.091\n"
     ]
    }
   ],
   "source": [
    "# Print out the mean square error between the predicted redshift and the spectroscopic redshift\n",
    "print('Mean Square Error RF:', round(mean_squared_error(y_test, predictions), 3))"
   ]
  },
  {
   "cell_type": "code",
   "execution_count": 20,
   "metadata": {},
   "outputs": [
    {
     "name": "stdout",
     "output_type": "stream",
     "text": [
      "Mean Square Error SDSS: 0.259\n"
     ]
    }
   ],
   "source": [
    "# MSE between the SDSS photo redshift and the spectroscopic redshift\n",
    "sZ= data.loc[(data['photoZ'] >= 0.0)]['z']\n",
    "print('Mean Square Error SDSS:', round(mean_squared_error(sZ,photoz), 3))"
   ]
  },
  {
   "cell_type": "markdown",
   "metadata": {},
   "source": [
    "The test error of the linear regression model is (mse) 0.23 while we get an mse of 0.075 with randome forest classifier. To compare errors the mse from the difference between photometric redshift and spectroscopic redshift is 0.259."
   ]
  },
  {
   "cell_type": "code",
   "execution_count": 22,
   "metadata": {},
   "outputs": [
    {
     "data": {
      "text/html": [
       "<div>\n",
       "<style scoped>\n",
       "    .dataframe tbody tr th:only-of-type {\n",
       "        vertical-align: middle;\n",
       "    }\n",
       "\n",
       "    .dataframe tbody tr th {\n",
       "        vertical-align: top;\n",
       "    }\n",
       "\n",
       "    .dataframe thead th {\n",
       "        text-align: right;\n",
       "    }\n",
       "</style>\n",
       "<table border=\"1\" class=\"dataframe\">\n",
       "  <thead>\n",
       "    <tr style=\"text-align: right;\">\n",
       "      <th></th>\n",
       "      <th>objID</th>\n",
       "      <th>dered_u</th>\n",
       "      <th>err_u</th>\n",
       "      <th>dered_g</th>\n",
       "      <th>err_g</th>\n",
       "      <th>dered_r</th>\n",
       "      <th>err_r</th>\n",
       "      <th>dered_i</th>\n",
       "      <th>err_i</th>\n",
       "      <th>dered_z</th>\n",
       "      <th>...</th>\n",
       "      <th>zErr</th>\n",
       "      <th>photoZ</th>\n",
       "      <th>photoErr</th>\n",
       "      <th>class</th>\n",
       "      <th>subClass</th>\n",
       "      <th>type</th>\n",
       "      <th>ur</th>\n",
       "      <th>gr</th>\n",
       "      <th>pred</th>\n",
       "      <th>pred_err</th>\n",
       "    </tr>\n",
       "  </thead>\n",
       "  <tbody>\n",
       "    <tr>\n",
       "      <th>0</th>\n",
       "      <td>1237648673971437623</td>\n",
       "      <td>16.21378</td>\n",
       "      <td>0.009347</td>\n",
       "      <td>14.63972</td>\n",
       "      <td>0.002319</td>\n",
       "      <td>13.82659</td>\n",
       "      <td>0.002071</td>\n",
       "      <td>13.42598</td>\n",
       "      <td>0.002083</td>\n",
       "      <td>13.11843</td>\n",
       "      <td>...</td>\n",
       "      <td>0.000011</td>\n",
       "      <td>0.024331</td>\n",
       "      <td>0.006740</td>\n",
       "      <td>GALAXY</td>\n",
       "      <td>STARFORMING</td>\n",
       "      <td>NaN</td>\n",
       "      <td>2.38719</td>\n",
       "      <td>0.81313</td>\n",
       "      <td>0.414930</td>\n",
       "      <td>0.402417</td>\n",
       "    </tr>\n",
       "    <tr>\n",
       "      <th>1</th>\n",
       "      <td>1237648704023625805</td>\n",
       "      <td>20.21892</td>\n",
       "      <td>0.115816</td>\n",
       "      <td>24.91980</td>\n",
       "      <td>2.818639</td>\n",
       "      <td>17.53619</td>\n",
       "      <td>0.008782</td>\n",
       "      <td>17.03932</td>\n",
       "      <td>0.008234</td>\n",
       "      <td>16.88227</td>\n",
       "      <td>...</td>\n",
       "      <td>0.000008</td>\n",
       "      <td>-9999.000000</td>\n",
       "      <td>-9999.000000</td>\n",
       "      <td>GALAXY</td>\n",
       "      <td>STARFORMING</td>\n",
       "      <td>NaN</td>\n",
       "      <td>2.68273</td>\n",
       "      <td>7.38361</td>\n",
       "      <td>0.365634</td>\n",
       "      <td>0.267371</td>\n",
       "    </tr>\n",
       "    <tr>\n",
       "      <th>2</th>\n",
       "      <td>1237648704023625805</td>\n",
       "      <td>20.21892</td>\n",
       "      <td>0.115816</td>\n",
       "      <td>24.91980</td>\n",
       "      <td>2.818639</td>\n",
       "      <td>17.53619</td>\n",
       "      <td>0.008782</td>\n",
       "      <td>17.03932</td>\n",
       "      <td>0.008234</td>\n",
       "      <td>16.88227</td>\n",
       "      <td>...</td>\n",
       "      <td>0.000010</td>\n",
       "      <td>-9999.000000</td>\n",
       "      <td>-9999.000000</td>\n",
       "      <td>GALAXY</td>\n",
       "      <td>STARFORMING</td>\n",
       "      <td>NaN</td>\n",
       "      <td>2.68273</td>\n",
       "      <td>7.38361</td>\n",
       "      <td>0.397308</td>\n",
       "      <td>0.299070</td>\n",
       "    </tr>\n",
       "    <tr>\n",
       "      <th>3</th>\n",
       "      <td>1237648704579437220</td>\n",
       "      <td>22.93833</td>\n",
       "      <td>0.825781</td>\n",
       "      <td>21.15927</td>\n",
       "      <td>0.084720</td>\n",
       "      <td>19.41586</td>\n",
       "      <td>0.028193</td>\n",
       "      <td>18.46311</td>\n",
       "      <td>0.017802</td>\n",
       "      <td>18.04901</td>\n",
       "      <td>...</td>\n",
       "      <td>0.000119</td>\n",
       "      <td>0.507916</td>\n",
       "      <td>0.015943</td>\n",
       "      <td>GALAXY</td>\n",
       "      <td>NaN</td>\n",
       "      <td>NaN</td>\n",
       "      <td>3.52247</td>\n",
       "      <td>1.74341</td>\n",
       "      <td>0.213705</td>\n",
       "      <td>0.290389</td>\n",
       "    </tr>\n",
       "    <tr>\n",
       "      <th>4</th>\n",
       "      <td>1237648704579502224</td>\n",
       "      <td>19.89147</td>\n",
       "      <td>0.056597</td>\n",
       "      <td>18.27204</td>\n",
       "      <td>0.008137</td>\n",
       "      <td>17.39907</td>\n",
       "      <td>0.006014</td>\n",
       "      <td>16.98018</td>\n",
       "      <td>0.005779</td>\n",
       "      <td>16.66573</td>\n",
       "      <td>...</td>\n",
       "      <td>0.000031</td>\n",
       "      <td>0.118370</td>\n",
       "      <td>0.024215</td>\n",
       "      <td>GALAXY</td>\n",
       "      <td>NaN</td>\n",
       "      <td>NaN</td>\n",
       "      <td>2.49240</td>\n",
       "      <td>0.87297</td>\n",
       "      <td>0.007419</td>\n",
       "      <td>0.099797</td>\n",
       "    </tr>\n",
       "  </tbody>\n",
       "</table>\n",
       "<p>5 rows × 23 columns</p>\n",
       "</div>"
      ],
      "text/plain": [
       "                 objID   dered_u     err_u   dered_g     err_g   dered_r  \\\n",
       "0  1237648673971437623  16.21378  0.009347  14.63972  0.002319  13.82659   \n",
       "1  1237648704023625805  20.21892  0.115816  24.91980  2.818639  17.53619   \n",
       "2  1237648704023625805  20.21892  0.115816  24.91980  2.818639  17.53619   \n",
       "3  1237648704579437220  22.93833  0.825781  21.15927  0.084720  19.41586   \n",
       "4  1237648704579502224  19.89147  0.056597  18.27204  0.008137  17.39907   \n",
       "\n",
       "      err_r   dered_i     err_i   dered_z  ...      zErr       photoZ  \\\n",
       "0  0.002071  13.42598  0.002083  13.11843  ...  0.000011     0.024331   \n",
       "1  0.008782  17.03932  0.008234  16.88227  ...  0.000008 -9999.000000   \n",
       "2  0.008782  17.03932  0.008234  16.88227  ...  0.000010 -9999.000000   \n",
       "3  0.028193  18.46311  0.017802  18.04901  ...  0.000119     0.507916   \n",
       "4  0.006014  16.98018  0.005779  16.66573  ...  0.000031     0.118370   \n",
       "\n",
       "      photoErr   class     subClass  type       ur       gr      pred  \\\n",
       "0     0.006740  GALAXY  STARFORMING   NaN  2.38719  0.81313  0.414930   \n",
       "1 -9999.000000  GALAXY  STARFORMING   NaN  2.68273  7.38361  0.365634   \n",
       "2 -9999.000000  GALAXY  STARFORMING   NaN  2.68273  7.38361  0.397308   \n",
       "3     0.015943  GALAXY          NaN   NaN  3.52247  1.74341  0.213705   \n",
       "4     0.024215  GALAXY          NaN   NaN  2.49240  0.87297  0.007419   \n",
       "\n",
       "   pred_err  \n",
       "0  0.402417  \n",
       "1  0.267371  \n",
       "2  0.299070  \n",
       "3  0.290389  \n",
       "4  0.099797  \n",
       "\n",
       "[5 rows x 23 columns]"
      ]
     },
     "execution_count": 22,
     "metadata": {},
     "output_type": "execute_result"
    }
   ],
   "source": [
    "X_test = pd.DataFrame(X_test)\n",
    "index = pd.DataFrame(index=X_test.index)\n",
    "errors = index.join(data, how= 'inner')\n",
    "prediction = pd.DataFrame(predictions, columns = ['pred'])\n",
    "errors['pred'] = predictions\n",
    "errors['pred_err'] = abs(errors['pred'] - errors['z'])\n",
    "\n",
    "errors.head()\n"
   ]
  },
  {
   "cell_type": "code",
   "execution_count": 23,
   "metadata": {},
   "outputs": [
    {
     "data": {
      "image/png": "[encoded data removed]",
      "text/plain": [
       "<Figure size 443.475x360 with 1 Axes>"
      ]
     },
     "metadata": {
      "needs_background": "light"
     },
     "output_type": "display_data"
    }
   ],
   "source": [
    "# plot of dered_r versus the absolute error of predicted redshift and spectroscopic redshif (pred_err)\n",
    "sns.lmplot( x=\"dered_r\", y=\"pred_err\", data=errors, fit_reg=False, hue='class',scatter_kws={'alpha':0.25})\n",
    "plt.show()"
   ]
  },
  {
   "cell_type": "markdown",
   "metadata": {},
   "source": [
    "There doesn't seem to be a correlation between the absolute error of predicted redshift and spectroscopic redshif (pred_err) andthe r band. There does seem to be a fraction of galaxies with high pred_err, all around magnitude 20 "
   ]
  },
  {
   "cell_type": "code",
   "execution_count": 24,
   "metadata": {},
   "outputs": [
    {
     "data": {
      "text/plain": [
       "<seaborn.axisgrid.FacetGrid at 0x7ff317710f10>"
      ]
     },
     "execution_count": 24,
     "metadata": {},
     "output_type": "execute_result"
    },
    {
     "data": {
      "image/png": "[encoded data removed]",
      "text/plain": [
       "<Figure size 443.475x360 with 1 Axes>"
      ]
     },
     "metadata": {
      "needs_background": "light"
     },
     "output_type": "display_data"
    }
   ],
   "source": [
    "# Scatter plot of the redshift with the pred_err for the 3 classes (star, galaxies and QSO)\n",
    "sns.lmplot( x=\"z\", y=\"pred_err\", data=errors, fit_reg=False, hue = 'class', scatter_kws={'alpha':0.25})"
   ]
  },
  {
   "cell_type": "markdown",
   "metadata": {},
   "source": [
    "There is a correlation of some sources with higher redshift, the higher the pred_err.  "
   ]
  },
  {
   "cell_type": "code",
   "execution_count": 25,
   "metadata": {},
   "outputs": [
    {
     "data": {
      "image/png": "[encoded data removed]",
      "text/plain": [
       "<Figure size 432x288 with 1 Axes>"
      ]
     },
     "metadata": {
      "needs_background": "light"
     },
     "output_type": "display_data"
    }
   ],
   "source": [
    "# histograms of the absolute errors for the predicted redshift and the photometric redshift.\n",
    "plt.hist(abs(photoz-sZ), bins=50,density =True,histtype= 'step')\n",
    "plt.hist(errors['pred_err'], bins=50, density = True,histtype= 'step')\n",
    "labels= [\"SDSS_err\", \"Pred_err\"]\n",
    "plt.legend(labels)\n",
    "plt.show()"
   ]
  },
  {
   "cell_type": "code",
   "execution_count": 26,
   "metadata": {},
   "outputs": [
    {
     "data": {
      "text/plain": [
       "<matplotlib.legend.Legend at 0x7ff3175d6ad0>"
      ]
     },
     "execution_count": 26,
     "metadata": {},
     "output_type": "execute_result"
    },
    {
     "data": {
      "image/png": "[encoded data removed]",
      "text/plain": [
       "<Figure size 432x288 with 1 Axes>"
      ]
     },
     "metadata": {
      "needs_background": "light"
     },
     "output_type": "display_data"
    }
   ],
   "source": [
    "# getting data of the histogram\n",
    "count, bins_count = np.histogram(errors['pred_err'], bins=100)\n",
    "count2, bins_count2 = np.histogram(abs(photoz-sZ), bins=100) \n",
    "# finding the PDF of the histogram using count values\n",
    "pdf = count / sum(count)\n",
    "pdf_photo = count2 / sum(count2)\n",
    "# using numpy np.cumsum to calculate the CDF\n",
    "cdf = np.cumsum(pdf)\n",
    "cdf_photo =  np.cumsum(pdf_photo)\n",
    "# plotting PDF and CDF\n",
    "\n",
    "plt.plot(bins_count[1:], cdf, label=\"pred_err\")\n",
    "plt.plot(bins_count2[1:], cdf_photo, color=\"red\", label=\"photo_err\")\n",
    "plt.legend()"
   ]
  },
  {
   "cell_type": "markdown",
   "metadata": {},
   "source": [
    "Both the histogram and the cumulative plots show that the RF predicted errors do better than the photometric errors."
   ]
  },
  {
   "cell_type": "markdown",
   "metadata": {},
   "source": [
    "\n",
    "## Conclusion\n",
    "\n",
    "For the 135,000 sources in this dataset with the same number of of sources per class, the mse between the predicted redshift and the spectroscopic redshift(pred_err) is 0.091; much less than the mse between the SDSS photometric errors and the spectroscopic errors of 0.259. \n",
    "\n",
    "It was also observed that the pred_err was not correlated with the r band. But it was observed that a small fraction of galaxies with an r band magnitude of about 20, have high errors.\n",
    "\n",
    "There was some correlation at high redshifht (z > 1). This represent a very small subset of the entire dataset. Need to check if the errors would be as high if they were better rappresented in the dataset.\n",
    "\n"
   ]
  }
 ],
 "metadata": {
  "kernelspec": {
   "display_name": "Python 3",
   "language": "python",
   "name": "python3"
  },
  "language_info": {
   "codemirror_mode": {
    "name": "ipython",
    "version": 3
   },
   "file_extension": ".py",
   "mimetype": "text/x-python",
   "name": "python",
   "nbconvert_exporter": "python",
   "pygments_lexer": "ipython3",
   "version": "3.7.6"
  }
 },
 "nbformat": 4,
 "nbformat_minor": 4
}
